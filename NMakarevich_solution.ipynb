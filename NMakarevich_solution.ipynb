{
 "cells": [
  {
   "cell_type": "markdown",
   "id": "84270db4",
   "metadata": {},
   "source": [
    "### Подключение библиотек и скриптов"
   ]
  },
  {
   "cell_type": "code",
   "execution_count": 4,
   "id": "0c6d9b0f",
   "metadata": {},
   "outputs": [],
   "source": [
    "# Основные библиотеки\n",
    "import numpy as np \n",
    "import pandas as pd \n",
    "import pickle \n",
    "\n",
    "import matplotlib\n",
    "import matplotlib.pyplot as plt\n",
    "import seaborn as sns\n",
    "%matplotlib inline\n",
    "\n",
    "# 2. Статистика\n",
    "from scipy.stats import shapiro\n",
    "from scipy.stats import chi2_contingency\n",
    "\n",
    "# 3. Разделение датасета\n",
    "from sklearn.model_selection import train_test_split, KFold, GridSearchCV, cross_val_score\n",
    "\n",
    "# 4. Модели\n",
    "from sklearn.tree import DecisionTreeClassifier\n",
    "from xgboost import XGBClassifier\n",
    "import catboost as catb\n",
    "from sklearn.metrics import (roc_auc_score, roc_curve, auc, confusion_matrix, \\\n",
    "                             accuracy_score, classification_report, plot_confusion_matrix, \\\n",
    "                             plot_precision_recall_curve, precision_recall_curve, recall_score,\n",
    "                             plot_roc_curve, f1_score)\n",
    "\n",
    "from sklearn.model_selection import StratifiedShuffleSplit\n",
    "from sklearn.model_selection import KFold, GridSearchCV, RandomizedSearchCV\n",
    "from sklearn.metrics import f1_score, precision_score, recall_score\n",
    "\n",
    "import warnings\n",
    "warnings.filterwarnings('ignore')\n",
    "matplotlib.rcParams.update({'font.size': 14})"
   ]
  },
  {
   "cell_type": "code",
   "execution_count": 1899,
   "id": "43e43992",
   "metadata": {},
   "outputs": [],
   "source": [
    "def evaluate_preds(model, X_train, X_valid, y_train, y_valid):\n",
    "    y_train_pred = model.predict(X_train)\n",
    "    y_valid_pred = model.predict(X_valid)\n",
    "    print(\"TRAIN\\n\", round(f1_score(y_train, y_train_pred), 3))\n",
    "    print(\"TEST\\n\", round(f1_score(y_valid, y_valid_pred), 3))\n",
    "    get_classification_report(y_train, y_train_pred, y_valid, y_valid_pred)"
   ]
  },
  {
   "cell_type": "code",
   "execution_count": 1900,
   "id": "76f8c498",
   "metadata": {},
   "outputs": [],
   "source": [
    "def get_classification_report(y_train_true, y_train_pred, y_valid_true, y_valid_pred):\n",
    "    print('TRAIN\\n\\n' + classification_report(y_train_true, y_train_pred))\n",
    "    print('VALID\\n\\n' + classification_report(y_valid_true, y_valid_pred))\n",
    "    print('CONFUSION MATRIX\\n')\n",
    "    print(pd.crosstab(y_valid_true, y_valid_pred))"
   ]
  },
  {
   "cell_type": "code",
   "execution_count": 2,
   "id": "87c97fa2",
   "metadata": {},
   "outputs": [],
   "source": [
    "TRAIN_DATASET_PATH = '/Users/admin/Desktop/GeekBrains/Библиотеки_Python/Продолжение_классификация/course_project/course_project_train.csv'\n",
    "TEST_DATASET_PATH = '/Users/admin/Desktop/GeekBrains/Библиотеки_Python/Продолжение_классификация/course_project/course_project_test.csv'\n",
    "SAMPLE_SUBMIT_PATH = '/Users/admin/Desktop/GeekBrains/Библиотеки_Python/Продолжение_классификация/course_project/sample_submission.csv'"
   ]
  },
  {
   "cell_type": "markdown",
   "id": "7917dcf6",
   "metadata": {},
   "source": [
    "## Первичный анализ данных"
   ]
  },
  {
   "cell_type": "code",
   "execution_count": 5,
   "id": "43687923",
   "metadata": {},
   "outputs": [
    {
     "data": {
      "text/html": [
       "<div>\n",
       "<style scoped>\n",
       "    .dataframe tbody tr th:only-of-type {\n",
       "        vertical-align: middle;\n",
       "    }\n",
       "\n",
       "    .dataframe tbody tr th {\n",
       "        vertical-align: top;\n",
       "    }\n",
       "\n",
       "    .dataframe thead th {\n",
       "        text-align: right;\n",
       "    }\n",
       "</style>\n",
       "<table border=\"1\" class=\"dataframe\">\n",
       "  <thead>\n",
       "    <tr style=\"text-align: right;\">\n",
       "      <th></th>\n",
       "      <th>Home Ownership</th>\n",
       "      <th>Annual Income</th>\n",
       "      <th>Years in current job</th>\n",
       "      <th>Tax Liens</th>\n",
       "      <th>Number of Open Accounts</th>\n",
       "      <th>Years of Credit History</th>\n",
       "      <th>Maximum Open Credit</th>\n",
       "      <th>Number of Credit Problems</th>\n",
       "      <th>Months since last delinquent</th>\n",
       "      <th>Bankruptcies</th>\n",
       "      <th>Purpose</th>\n",
       "      <th>Term</th>\n",
       "      <th>Current Loan Amount</th>\n",
       "      <th>Current Credit Balance</th>\n",
       "      <th>Monthly Debt</th>\n",
       "      <th>Credit Score</th>\n",
       "      <th>Credit Default</th>\n",
       "    </tr>\n",
       "  </thead>\n",
       "  <tbody>\n",
       "    <tr>\n",
       "      <th>0</th>\n",
       "      <td>Own Home</td>\n",
       "      <td>482087.0</td>\n",
       "      <td>NaN</td>\n",
       "      <td>0.0</td>\n",
       "      <td>11.0</td>\n",
       "      <td>26.3</td>\n",
       "      <td>685960.0</td>\n",
       "      <td>1.0</td>\n",
       "      <td>NaN</td>\n",
       "      <td>1.0</td>\n",
       "      <td>debt consolidation</td>\n",
       "      <td>Short Term</td>\n",
       "      <td>99999999.0</td>\n",
       "      <td>47386.0</td>\n",
       "      <td>7914.0</td>\n",
       "      <td>749.0</td>\n",
       "      <td>0</td>\n",
       "    </tr>\n",
       "    <tr>\n",
       "      <th>1</th>\n",
       "      <td>Own Home</td>\n",
       "      <td>1025487.0</td>\n",
       "      <td>10+ years</td>\n",
       "      <td>0.0</td>\n",
       "      <td>15.0</td>\n",
       "      <td>15.3</td>\n",
       "      <td>1181730.0</td>\n",
       "      <td>0.0</td>\n",
       "      <td>NaN</td>\n",
       "      <td>0.0</td>\n",
       "      <td>debt consolidation</td>\n",
       "      <td>Long Term</td>\n",
       "      <td>264968.0</td>\n",
       "      <td>394972.0</td>\n",
       "      <td>18373.0</td>\n",
       "      <td>737.0</td>\n",
       "      <td>1</td>\n",
       "    </tr>\n",
       "    <tr>\n",
       "      <th>2</th>\n",
       "      <td>Home Mortgage</td>\n",
       "      <td>751412.0</td>\n",
       "      <td>8 years</td>\n",
       "      <td>0.0</td>\n",
       "      <td>11.0</td>\n",
       "      <td>35.0</td>\n",
       "      <td>1182434.0</td>\n",
       "      <td>0.0</td>\n",
       "      <td>NaN</td>\n",
       "      <td>0.0</td>\n",
       "      <td>debt consolidation</td>\n",
       "      <td>Short Term</td>\n",
       "      <td>99999999.0</td>\n",
       "      <td>308389.0</td>\n",
       "      <td>13651.0</td>\n",
       "      <td>742.0</td>\n",
       "      <td>0</td>\n",
       "    </tr>\n",
       "    <tr>\n",
       "      <th>3</th>\n",
       "      <td>Own Home</td>\n",
       "      <td>805068.0</td>\n",
       "      <td>6 years</td>\n",
       "      <td>0.0</td>\n",
       "      <td>8.0</td>\n",
       "      <td>22.5</td>\n",
       "      <td>147400.0</td>\n",
       "      <td>1.0</td>\n",
       "      <td>NaN</td>\n",
       "      <td>1.0</td>\n",
       "      <td>debt consolidation</td>\n",
       "      <td>Short Term</td>\n",
       "      <td>121396.0</td>\n",
       "      <td>95855.0</td>\n",
       "      <td>11338.0</td>\n",
       "      <td>694.0</td>\n",
       "      <td>0</td>\n",
       "    </tr>\n",
       "    <tr>\n",
       "      <th>4</th>\n",
       "      <td>Rent</td>\n",
       "      <td>776264.0</td>\n",
       "      <td>8 years</td>\n",
       "      <td>0.0</td>\n",
       "      <td>13.0</td>\n",
       "      <td>13.6</td>\n",
       "      <td>385836.0</td>\n",
       "      <td>1.0</td>\n",
       "      <td>NaN</td>\n",
       "      <td>0.0</td>\n",
       "      <td>debt consolidation</td>\n",
       "      <td>Short Term</td>\n",
       "      <td>125840.0</td>\n",
       "      <td>93309.0</td>\n",
       "      <td>7180.0</td>\n",
       "      <td>719.0</td>\n",
       "      <td>0</td>\n",
       "    </tr>\n",
       "  </tbody>\n",
       "</table>\n",
       "</div>"
      ],
      "text/plain": [
       "  Home Ownership  Annual Income Years in current job  Tax Liens  \\\n",
       "0       Own Home       482087.0                  NaN        0.0   \n",
       "1       Own Home      1025487.0            10+ years        0.0   \n",
       "2  Home Mortgage       751412.0              8 years        0.0   \n",
       "3       Own Home       805068.0              6 years        0.0   \n",
       "4           Rent       776264.0              8 years        0.0   \n",
       "\n",
       "   Number of Open Accounts  Years of Credit History  Maximum Open Credit  \\\n",
       "0                     11.0                     26.3             685960.0   \n",
       "1                     15.0                     15.3            1181730.0   \n",
       "2                     11.0                     35.0            1182434.0   \n",
       "3                      8.0                     22.5             147400.0   \n",
       "4                     13.0                     13.6             385836.0   \n",
       "\n",
       "   Number of Credit Problems  Months since last delinquent  Bankruptcies  \\\n",
       "0                        1.0                           NaN           1.0   \n",
       "1                        0.0                           NaN           0.0   \n",
       "2                        0.0                           NaN           0.0   \n",
       "3                        1.0                           NaN           1.0   \n",
       "4                        1.0                           NaN           0.0   \n",
       "\n",
       "              Purpose        Term  Current Loan Amount  \\\n",
       "0  debt consolidation  Short Term           99999999.0   \n",
       "1  debt consolidation   Long Term             264968.0   \n",
       "2  debt consolidation  Short Term           99999999.0   \n",
       "3  debt consolidation  Short Term             121396.0   \n",
       "4  debt consolidation  Short Term             125840.0   \n",
       "\n",
       "   Current Credit Balance  Monthly Debt  Credit Score  Credit Default  \n",
       "0                 47386.0        7914.0         749.0               0  \n",
       "1                394972.0       18373.0         737.0               1  \n",
       "2                308389.0       13651.0         742.0               0  \n",
       "3                 95855.0       11338.0         694.0               0  \n",
       "4                 93309.0        7180.0         719.0               0  "
      ]
     },
     "execution_count": 5,
     "metadata": {},
     "output_type": "execute_result"
    }
   ],
   "source": [
    "train_df = pd.read_csv(TRAIN_DATASET_PATH, sep=',')\n",
    "train_df.head()"
   ]
  },
  {
   "cell_type": "code",
   "execution_count": 1903,
   "id": "7f9939eb",
   "metadata": {},
   "outputs": [
    {
     "data": {
      "text/html": [
       "<div>\n",
       "<style scoped>\n",
       "    .dataframe tbody tr th:only-of-type {\n",
       "        vertical-align: middle;\n",
       "    }\n",
       "\n",
       "    .dataframe tbody tr th {\n",
       "        vertical-align: top;\n",
       "    }\n",
       "\n",
       "    .dataframe thead th {\n",
       "        text-align: right;\n",
       "    }\n",
       "</style>\n",
       "<table border=\"1\" class=\"dataframe\">\n",
       "  <thead>\n",
       "    <tr style=\"text-align: right;\">\n",
       "      <th></th>\n",
       "      <th>Home Ownership</th>\n",
       "      <th>Annual Income</th>\n",
       "      <th>Years in current job</th>\n",
       "      <th>Tax Liens</th>\n",
       "      <th>Number of Open Accounts</th>\n",
       "      <th>Years of Credit History</th>\n",
       "      <th>Maximum Open Credit</th>\n",
       "      <th>Number of Credit Problems</th>\n",
       "      <th>Months since last delinquent</th>\n",
       "      <th>Bankruptcies</th>\n",
       "      <th>Purpose</th>\n",
       "      <th>Term</th>\n",
       "      <th>Current Loan Amount</th>\n",
       "      <th>Current Credit Balance</th>\n",
       "      <th>Monthly Debt</th>\n",
       "      <th>Credit Score</th>\n",
       "    </tr>\n",
       "  </thead>\n",
       "  <tbody>\n",
       "    <tr>\n",
       "      <th>0</th>\n",
       "      <td>Rent</td>\n",
       "      <td>NaN</td>\n",
       "      <td>4 years</td>\n",
       "      <td>0.0</td>\n",
       "      <td>9.0</td>\n",
       "      <td>12.5</td>\n",
       "      <td>220968.0</td>\n",
       "      <td>0.0</td>\n",
       "      <td>70.0</td>\n",
       "      <td>0.0</td>\n",
       "      <td>debt consolidation</td>\n",
       "      <td>Short Term</td>\n",
       "      <td>162470.0</td>\n",
       "      <td>105906.0</td>\n",
       "      <td>6813.0</td>\n",
       "      <td>NaN</td>\n",
       "    </tr>\n",
       "    <tr>\n",
       "      <th>1</th>\n",
       "      <td>Rent</td>\n",
       "      <td>231838.0</td>\n",
       "      <td>1 year</td>\n",
       "      <td>0.0</td>\n",
       "      <td>6.0</td>\n",
       "      <td>32.7</td>\n",
       "      <td>55946.0</td>\n",
       "      <td>0.0</td>\n",
       "      <td>8.0</td>\n",
       "      <td>0.0</td>\n",
       "      <td>educational expenses</td>\n",
       "      <td>Short Term</td>\n",
       "      <td>78298.0</td>\n",
       "      <td>46037.0</td>\n",
       "      <td>2318.0</td>\n",
       "      <td>699.0</td>\n",
       "    </tr>\n",
       "    <tr>\n",
       "      <th>2</th>\n",
       "      <td>Home Mortgage</td>\n",
       "      <td>1152540.0</td>\n",
       "      <td>3 years</td>\n",
       "      <td>0.0</td>\n",
       "      <td>10.0</td>\n",
       "      <td>13.7</td>\n",
       "      <td>204600.0</td>\n",
       "      <td>0.0</td>\n",
       "      <td>NaN</td>\n",
       "      <td>0.0</td>\n",
       "      <td>debt consolidation</td>\n",
       "      <td>Short Term</td>\n",
       "      <td>200178.0</td>\n",
       "      <td>146490.0</td>\n",
       "      <td>18729.0</td>\n",
       "      <td>7260.0</td>\n",
       "    </tr>\n",
       "    <tr>\n",
       "      <th>3</th>\n",
       "      <td>Home Mortgage</td>\n",
       "      <td>1220313.0</td>\n",
       "      <td>10+ years</td>\n",
       "      <td>0.0</td>\n",
       "      <td>16.0</td>\n",
       "      <td>17.0</td>\n",
       "      <td>456302.0</td>\n",
       "      <td>0.0</td>\n",
       "      <td>70.0</td>\n",
       "      <td>0.0</td>\n",
       "      <td>debt consolidation</td>\n",
       "      <td>Short Term</td>\n",
       "      <td>217382.0</td>\n",
       "      <td>213199.0</td>\n",
       "      <td>27559.0</td>\n",
       "      <td>739.0</td>\n",
       "    </tr>\n",
       "    <tr>\n",
       "      <th>4</th>\n",
       "      <td>Home Mortgage</td>\n",
       "      <td>2340952.0</td>\n",
       "      <td>6 years</td>\n",
       "      <td>0.0</td>\n",
       "      <td>11.0</td>\n",
       "      <td>23.6</td>\n",
       "      <td>1207272.0</td>\n",
       "      <td>0.0</td>\n",
       "      <td>NaN</td>\n",
       "      <td>0.0</td>\n",
       "      <td>debt consolidation</td>\n",
       "      <td>Long Term</td>\n",
       "      <td>777634.0</td>\n",
       "      <td>425391.0</td>\n",
       "      <td>42605.0</td>\n",
       "      <td>706.0</td>\n",
       "    </tr>\n",
       "  </tbody>\n",
       "</table>\n",
       "</div>"
      ],
      "text/plain": [
       "  Home Ownership  Annual Income Years in current job  Tax Liens  \\\n",
       "0           Rent            NaN              4 years        0.0   \n",
       "1           Rent       231838.0               1 year        0.0   \n",
       "2  Home Mortgage      1152540.0              3 years        0.0   \n",
       "3  Home Mortgage      1220313.0            10+ years        0.0   \n",
       "4  Home Mortgage      2340952.0              6 years        0.0   \n",
       "\n",
       "   Number of Open Accounts  Years of Credit History  Maximum Open Credit  \\\n",
       "0                      9.0                     12.5             220968.0   \n",
       "1                      6.0                     32.7              55946.0   \n",
       "2                     10.0                     13.7             204600.0   \n",
       "3                     16.0                     17.0             456302.0   \n",
       "4                     11.0                     23.6            1207272.0   \n",
       "\n",
       "   Number of Credit Problems  Months since last delinquent  Bankruptcies  \\\n",
       "0                        0.0                          70.0           0.0   \n",
       "1                        0.0                           8.0           0.0   \n",
       "2                        0.0                           NaN           0.0   \n",
       "3                        0.0                          70.0           0.0   \n",
       "4                        0.0                           NaN           0.0   \n",
       "\n",
       "                Purpose        Term  Current Loan Amount  \\\n",
       "0    debt consolidation  Short Term             162470.0   \n",
       "1  educational expenses  Short Term              78298.0   \n",
       "2    debt consolidation  Short Term             200178.0   \n",
       "3    debt consolidation  Short Term             217382.0   \n",
       "4    debt consolidation   Long Term             777634.0   \n",
       "\n",
       "   Current Credit Balance  Monthly Debt  Credit Score  \n",
       "0                105906.0        6813.0           NaN  \n",
       "1                 46037.0        2318.0         699.0  \n",
       "2                146490.0       18729.0        7260.0  \n",
       "3                213199.0       27559.0         739.0  \n",
       "4                425391.0       42605.0         706.0  "
      ]
     },
     "execution_count": 1903,
     "metadata": {},
     "output_type": "execute_result"
    }
   ],
   "source": [
    "test_df = pd.read_csv(TEST_DATASET_PATH, sep=',')\n",
    "test_df.head()"
   ]
  },
  {
   "cell_type": "code",
   "execution_count": 1904,
   "id": "974d539b",
   "metadata": {},
   "outputs": [
    {
     "name": "stdout",
     "output_type": "stream",
     "text": [
      "Строк в трейне: 7500\n",
      "Строк в тесте 2500\n"
     ]
    }
   ],
   "source": [
    "print('Строк в трейне:', train_df.shape[0])\n",
    "print('Строк в тесте', test_df.shape[0])"
   ]
  },
  {
   "cell_type": "markdown",
   "id": "9d164712",
   "metadata": {},
   "source": [
    "### Data fields\n",
    "- Home Ownership - домовладение\n",
    "- Annual Income - годовой доход\n",
    "- Years in current job - количество лет на текущем месте работы\n",
    "- Tax Liens - налоговые обременения\n",
    "- Number of Open Accounts - количество открытых счетов\n",
    "- Years of Credit History - количество лет кредитной истории\n",
    "- Maximum Open Credit - наибольший открытый кредит (максимальная сумма, которая когда-либо была доступна клиенту)\n",
    "- Number of Credit Problems - количество проблем с кредитом\n",
    "- Months since last delinquent - количество месяцев с последней просрочки платежа\n",
    "- Bankruptcies - банкротства\n",
    "- Purpose - цель кредита\n",
    "- Term - срок кредита\n",
    "- Current Loan Amount - текущая сумма кредита (сумма, которую еще предстоит выплатить клиенту)\n",
    "- Current Credit Balance - текущий кредитный баланс (сумма, которую может тратить клиент с кредитного счета)\n",
    "- Monthly Debt - ежемесячный долг\n",
    "- Credit Score - баллы кредитного рейтинга\n",
    "- Credit Default - факт невыполнения кредитных обязательств (0 - погашен вовремя, 1 - просрочка)"
   ]
  },
  {
   "cell_type": "code",
   "execution_count": 1905,
   "id": "8bbe3de1",
   "metadata": {},
   "outputs": [
    {
     "name": "stdout",
     "output_type": "stream",
     "text": [
      "<class 'pandas.core.frame.DataFrame'>\n",
      "RangeIndex: 7500 entries, 0 to 7499\n",
      "Data columns (total 17 columns):\n",
      " #   Column                        Non-Null Count  Dtype  \n",
      "---  ------                        --------------  -----  \n",
      " 0   Home Ownership                7500 non-null   object \n",
      " 1   Annual Income                 5943 non-null   float64\n",
      " 2   Years in current job          7129 non-null   object \n",
      " 3   Tax Liens                     7500 non-null   float64\n",
      " 4   Number of Open Accounts       7500 non-null   float64\n",
      " 5   Years of Credit History       7500 non-null   float64\n",
      " 6   Maximum Open Credit           7500 non-null   float64\n",
      " 7   Number of Credit Problems     7500 non-null   float64\n",
      " 8   Months since last delinquent  3419 non-null   float64\n",
      " 9   Bankruptcies                  7486 non-null   float64\n",
      " 10  Purpose                       7500 non-null   object \n",
      " 11  Term                          7500 non-null   object \n",
      " 12  Current Loan Amount           7500 non-null   float64\n",
      " 13  Current Credit Balance        7500 non-null   float64\n",
      " 14  Monthly Debt                  7500 non-null   float64\n",
      " 15  Credit Score                  5943 non-null   float64\n",
      " 16  Credit Default                7500 non-null   int64  \n",
      "dtypes: float64(12), int64(1), object(4)\n",
      "memory usage: 996.2+ KB\n"
     ]
    }
   ],
   "source": [
    "train_df.info()"
   ]
  },
  {
   "cell_type": "code",
   "execution_count": 1906,
   "id": "4df7ca2d",
   "metadata": {},
   "outputs": [
    {
     "name": "stdout",
     "output_type": "stream",
     "text": [
      "<class 'pandas.core.frame.DataFrame'>\n",
      "RangeIndex: 2500 entries, 0 to 2499\n",
      "Data columns (total 16 columns):\n",
      " #   Column                        Non-Null Count  Dtype  \n",
      "---  ------                        --------------  -----  \n",
      " 0   Home Ownership                2500 non-null   object \n",
      " 1   Annual Income                 1987 non-null   float64\n",
      " 2   Years in current job          2414 non-null   object \n",
      " 3   Tax Liens                     2500 non-null   float64\n",
      " 4   Number of Open Accounts       2500 non-null   float64\n",
      " 5   Years of Credit History       2500 non-null   float64\n",
      " 6   Maximum Open Credit           2500 non-null   float64\n",
      " 7   Number of Credit Problems     2500 non-null   float64\n",
      " 8   Months since last delinquent  1142 non-null   float64\n",
      " 9   Bankruptcies                  2497 non-null   float64\n",
      " 10  Purpose                       2500 non-null   object \n",
      " 11  Term                          2500 non-null   object \n",
      " 12  Current Loan Amount           2500 non-null   float64\n",
      " 13  Current Credit Balance        2500 non-null   float64\n",
      " 14  Monthly Debt                  2500 non-null   float64\n",
      " 15  Credit Score                  1987 non-null   float64\n",
      "dtypes: float64(12), object(4)\n",
      "memory usage: 312.6+ KB\n"
     ]
    }
   ],
   "source": [
    "test_df.info()"
   ]
  },
  {
   "cell_type": "markdown",
   "id": "1f0101f8",
   "metadata": {},
   "source": [
    "Признаки с пропусками в train и test cовпадают. Что может значить такое совпадение - возможно, что эти пропуски не случайны, и есть какая-то закономерность в их наличии."
   ]
  },
  {
   "cell_type": "code",
   "execution_count": 1907,
   "id": "81278340",
   "metadata": {},
   "outputs": [
    {
     "data": {
      "text/plain": [
       "Home Ownership                     0\n",
       "Annual Income                   1557\n",
       "Years in current job             371\n",
       "Tax Liens                          0\n",
       "Number of Open Accounts            0\n",
       "Years of Credit History            0\n",
       "Maximum Open Credit                0\n",
       "Number of Credit Problems          0\n",
       "Months since last delinquent    4081\n",
       "Bankruptcies                      14\n",
       "Purpose                            0\n",
       "Term                               0\n",
       "Current Loan Amount                0\n",
       "Current Credit Balance             0\n",
       "Monthly Debt                       0\n",
       "Credit Score                    1557\n",
       "Credit Default                     0\n",
       "dtype: int64"
      ]
     },
     "execution_count": 1907,
     "metadata": {},
     "output_type": "execute_result"
    }
   ],
   "source": [
    "train_df.isnull().sum()"
   ]
  },
  {
   "cell_type": "code",
   "execution_count": 1908,
   "id": "04edfca6",
   "metadata": {},
   "outputs": [
    {
     "data": {
      "text/plain": [
       "Home Ownership                     0\n",
       "Annual Income                    513\n",
       "Years in current job              86\n",
       "Tax Liens                          0\n",
       "Number of Open Accounts            0\n",
       "Years of Credit History            0\n",
       "Maximum Open Credit                0\n",
       "Number of Credit Problems          0\n",
       "Months since last delinquent    1358\n",
       "Bankruptcies                       3\n",
       "Purpose                            0\n",
       "Term                               0\n",
       "Current Loan Amount                0\n",
       "Current Credit Balance             0\n",
       "Monthly Debt                       0\n",
       "Credit Score                     513\n",
       "dtype: int64"
      ]
     },
     "execution_count": 1908,
     "metadata": {},
     "output_type": "execute_result"
    }
   ],
   "source": [
    "test_df.isnull().sum()"
   ]
  },
  {
   "cell_type": "code",
   "execution_count": 1909,
   "id": "6599c995",
   "metadata": {},
   "outputs": [
    {
     "data": {
      "text/html": [
       "<div>\n",
       "<style scoped>\n",
       "    .dataframe tbody tr th:only-of-type {\n",
       "        vertical-align: middle;\n",
       "    }\n",
       "\n",
       "    .dataframe tbody tr th {\n",
       "        vertical-align: top;\n",
       "    }\n",
       "\n",
       "    .dataframe thead th {\n",
       "        text-align: right;\n",
       "    }\n",
       "</style>\n",
       "<table border=\"1\" class=\"dataframe\">\n",
       "  <thead>\n",
       "    <tr style=\"text-align: right;\">\n",
       "      <th></th>\n",
       "      <th>Annual Income</th>\n",
       "      <th>Tax Liens</th>\n",
       "      <th>Number of Open Accounts</th>\n",
       "      <th>Years of Credit History</th>\n",
       "      <th>Maximum Open Credit</th>\n",
       "      <th>Number of Credit Problems</th>\n",
       "      <th>Months since last delinquent</th>\n",
       "      <th>Bankruptcies</th>\n",
       "      <th>Current Loan Amount</th>\n",
       "      <th>Current Credit Balance</th>\n",
       "      <th>Monthly Debt</th>\n",
       "      <th>Credit Score</th>\n",
       "      <th>Credit Default</th>\n",
       "    </tr>\n",
       "  </thead>\n",
       "  <tbody>\n",
       "    <tr>\n",
       "      <th>count</th>\n",
       "      <td>5.943000e+03</td>\n",
       "      <td>7500.000000</td>\n",
       "      <td>7500.000000</td>\n",
       "      <td>7500.000000</td>\n",
       "      <td>7.500000e+03</td>\n",
       "      <td>7500.000000</td>\n",
       "      <td>3419.000000</td>\n",
       "      <td>7486.000000</td>\n",
       "      <td>7.500000e+03</td>\n",
       "      <td>7.500000e+03</td>\n",
       "      <td>7500.000000</td>\n",
       "      <td>5943.000000</td>\n",
       "      <td>7500.000000</td>\n",
       "    </tr>\n",
       "    <tr>\n",
       "      <th>mean</th>\n",
       "      <td>1.366392e+06</td>\n",
       "      <td>0.030133</td>\n",
       "      <td>11.130933</td>\n",
       "      <td>18.317467</td>\n",
       "      <td>9.451537e+05</td>\n",
       "      <td>0.170000</td>\n",
       "      <td>34.692600</td>\n",
       "      <td>0.117152</td>\n",
       "      <td>1.187318e+07</td>\n",
       "      <td>2.898332e+05</td>\n",
       "      <td>18314.454133</td>\n",
       "      <td>1151.087498</td>\n",
       "      <td>0.281733</td>\n",
       "    </tr>\n",
       "    <tr>\n",
       "      <th>std</th>\n",
       "      <td>8.453392e+05</td>\n",
       "      <td>0.271604</td>\n",
       "      <td>4.908924</td>\n",
       "      <td>7.041946</td>\n",
       "      <td>1.602622e+07</td>\n",
       "      <td>0.498598</td>\n",
       "      <td>21.688806</td>\n",
       "      <td>0.347192</td>\n",
       "      <td>3.192612e+07</td>\n",
       "      <td>3.178714e+05</td>\n",
       "      <td>11926.764673</td>\n",
       "      <td>1604.451418</td>\n",
       "      <td>0.449874</td>\n",
       "    </tr>\n",
       "    <tr>\n",
       "      <th>min</th>\n",
       "      <td>1.645970e+05</td>\n",
       "      <td>0.000000</td>\n",
       "      <td>2.000000</td>\n",
       "      <td>4.000000</td>\n",
       "      <td>0.000000e+00</td>\n",
       "      <td>0.000000</td>\n",
       "      <td>0.000000</td>\n",
       "      <td>0.000000</td>\n",
       "      <td>1.124200e+04</td>\n",
       "      <td>0.000000e+00</td>\n",
       "      <td>0.000000</td>\n",
       "      <td>585.000000</td>\n",
       "      <td>0.000000</td>\n",
       "    </tr>\n",
       "    <tr>\n",
       "      <th>25%</th>\n",
       "      <td>8.443410e+05</td>\n",
       "      <td>0.000000</td>\n",
       "      <td>8.000000</td>\n",
       "      <td>13.500000</td>\n",
       "      <td>2.792295e+05</td>\n",
       "      <td>0.000000</td>\n",
       "      <td>16.000000</td>\n",
       "      <td>0.000000</td>\n",
       "      <td>1.801690e+05</td>\n",
       "      <td>1.142565e+05</td>\n",
       "      <td>10067.500000</td>\n",
       "      <td>711.000000</td>\n",
       "      <td>0.000000</td>\n",
       "    </tr>\n",
       "    <tr>\n",
       "      <th>50%</th>\n",
       "      <td>1.168386e+06</td>\n",
       "      <td>0.000000</td>\n",
       "      <td>10.000000</td>\n",
       "      <td>17.000000</td>\n",
       "      <td>4.781590e+05</td>\n",
       "      <td>0.000000</td>\n",
       "      <td>32.000000</td>\n",
       "      <td>0.000000</td>\n",
       "      <td>3.095730e+05</td>\n",
       "      <td>2.093230e+05</td>\n",
       "      <td>16076.500000</td>\n",
       "      <td>731.000000</td>\n",
       "      <td>0.000000</td>\n",
       "    </tr>\n",
       "    <tr>\n",
       "      <th>75%</th>\n",
       "      <td>1.640137e+06</td>\n",
       "      <td>0.000000</td>\n",
       "      <td>14.000000</td>\n",
       "      <td>21.800000</td>\n",
       "      <td>7.935015e+05</td>\n",
       "      <td>0.000000</td>\n",
       "      <td>50.000000</td>\n",
       "      <td>0.000000</td>\n",
       "      <td>5.198820e+05</td>\n",
       "      <td>3.604062e+05</td>\n",
       "      <td>23818.000000</td>\n",
       "      <td>743.000000</td>\n",
       "      <td>1.000000</td>\n",
       "    </tr>\n",
       "    <tr>\n",
       "      <th>max</th>\n",
       "      <td>1.014934e+07</td>\n",
       "      <td>7.000000</td>\n",
       "      <td>43.000000</td>\n",
       "      <td>57.700000</td>\n",
       "      <td>1.304726e+09</td>\n",
       "      <td>7.000000</td>\n",
       "      <td>118.000000</td>\n",
       "      <td>4.000000</td>\n",
       "      <td>1.000000e+08</td>\n",
       "      <td>6.506797e+06</td>\n",
       "      <td>136679.000000</td>\n",
       "      <td>7510.000000</td>\n",
       "      <td>1.000000</td>\n",
       "    </tr>\n",
       "  </tbody>\n",
       "</table>\n",
       "</div>"
      ],
      "text/plain": [
       "       Annual Income    Tax Liens  Number of Open Accounts  \\\n",
       "count   5.943000e+03  7500.000000              7500.000000   \n",
       "mean    1.366392e+06     0.030133                11.130933   \n",
       "std     8.453392e+05     0.271604                 4.908924   \n",
       "min     1.645970e+05     0.000000                 2.000000   \n",
       "25%     8.443410e+05     0.000000                 8.000000   \n",
       "50%     1.168386e+06     0.000000                10.000000   \n",
       "75%     1.640137e+06     0.000000                14.000000   \n",
       "max     1.014934e+07     7.000000                43.000000   \n",
       "\n",
       "       Years of Credit History  Maximum Open Credit  \\\n",
       "count              7500.000000         7.500000e+03   \n",
       "mean                 18.317467         9.451537e+05   \n",
       "std                   7.041946         1.602622e+07   \n",
       "min                   4.000000         0.000000e+00   \n",
       "25%                  13.500000         2.792295e+05   \n",
       "50%                  17.000000         4.781590e+05   \n",
       "75%                  21.800000         7.935015e+05   \n",
       "max                  57.700000         1.304726e+09   \n",
       "\n",
       "       Number of Credit Problems  Months since last delinquent  Bankruptcies  \\\n",
       "count                7500.000000                   3419.000000   7486.000000   \n",
       "mean                    0.170000                     34.692600      0.117152   \n",
       "std                     0.498598                     21.688806      0.347192   \n",
       "min                     0.000000                      0.000000      0.000000   \n",
       "25%                     0.000000                     16.000000      0.000000   \n",
       "50%                     0.000000                     32.000000      0.000000   \n",
       "75%                     0.000000                     50.000000      0.000000   \n",
       "max                     7.000000                    118.000000      4.000000   \n",
       "\n",
       "       Current Loan Amount  Current Credit Balance   Monthly Debt  \\\n",
       "count         7.500000e+03            7.500000e+03    7500.000000   \n",
       "mean          1.187318e+07            2.898332e+05   18314.454133   \n",
       "std           3.192612e+07            3.178714e+05   11926.764673   \n",
       "min           1.124200e+04            0.000000e+00       0.000000   \n",
       "25%           1.801690e+05            1.142565e+05   10067.500000   \n",
       "50%           3.095730e+05            2.093230e+05   16076.500000   \n",
       "75%           5.198820e+05            3.604062e+05   23818.000000   \n",
       "max           1.000000e+08            6.506797e+06  136679.000000   \n",
       "\n",
       "       Credit Score  Credit Default  \n",
       "count   5943.000000     7500.000000  \n",
       "mean    1151.087498        0.281733  \n",
       "std     1604.451418        0.449874  \n",
       "min      585.000000        0.000000  \n",
       "25%      711.000000        0.000000  \n",
       "50%      731.000000        0.000000  \n",
       "75%      743.000000        1.000000  \n",
       "max     7510.000000        1.000000  "
      ]
     },
     "execution_count": 1909,
     "metadata": {},
     "output_type": "execute_result"
    }
   ],
   "source": [
    "train_df.describe()"
   ]
  },
  {
   "cell_type": "markdown",
   "id": "115f5668",
   "metadata": {},
   "source": [
    "В результате анализа данных таблицы сделала следующие выводы: \n",
    "- предположительно есть выбросы в признаках Maximum Open Credit, Months since last deliquent, Current Loan Amount, Monthly Debt, Credit Score."
   ]
  },
  {
   "cell_type": "markdown",
   "id": "54eff45a",
   "metadata": {},
   "source": [
    "## EDA  <a class='anchor' id='eda'>\n",
    "Делаем EDA для:\n",
    "- Исправления выбросов\n",
    "- Заполнения NaN\n",
    "- Идей для генерации новых фич"
   ]
  },
  {
   "cell_type": "markdown",
   "id": "011c4036",
   "metadata": {},
   "source": [
    "### Распределение целевой переменной"
   ]
  },
  {
   "cell_type": "code",
   "execution_count": 1910,
   "id": "b8d0667e",
   "metadata": {},
   "outputs": [
    {
     "data": {
      "text/plain": [
       "<AxesSubplot:xlabel='Credit Default', ylabel='count'>"
      ]
     },
     "execution_count": 1910,
     "metadata": {},
     "output_type": "execute_result"
    },
    {
     "data": {
      "image/png": "[encoded data removed]",
      "text/plain": [
       "<Figure size 432x288 with 1 Axes>"
      ]
     },
     "metadata": {
      "needs_background": "light"
     },
     "output_type": "display_data"
    }
   ],
   "source": [
    "sns.countplot(x='Credit Default', data=train_df)"
   ]
  },
  {
   "cell_type": "code",
   "execution_count": 1911,
   "id": "3527935e",
   "metadata": {},
   "outputs": [
    {
     "data": {
      "text/plain": [
       "0    5387\n",
       "1    2113\n",
       "Name: Credit Default, dtype: int64"
      ]
     },
     "execution_count": 1911,
     "metadata": {},
     "output_type": "execute_result"
    }
   ],
   "source": [
    "train_df['Credit Default'].value_counts()"
   ]
  },
  {
   "cell_type": "markdown",
   "id": "542d7ae8",
   "metadata": {},
   "source": [
    "### Обзор категориальных признаков"
   ]
  },
  {
   "cell_type": "code",
   "execution_count": 1912,
   "id": "eb1de66a",
   "metadata": {},
   "outputs": [
    {
     "data": {
      "text/plain": [
       "['Home Ownership', 'Years in current job', 'Purpose', 'Term']"
      ]
     },
     "execution_count": 1912,
     "metadata": {},
     "output_type": "execute_result"
    }
   ],
   "source": [
    "cat_colnames = train_df.select_dtypes(include='object').columns.to_list()\n",
    "cat_colnames"
   ]
  },
  {
   "cell_type": "code",
   "execution_count": 1913,
   "id": "3cc476a0",
   "metadata": {},
   "outputs": [
    {
     "data": {
      "text/plain": [
       "Home Mortgage    3637\n",
       "Rent             3204\n",
       "Own Home          647\n",
       "Have Mortgage      12\n",
       "Name: Home Ownership, dtype: int64"
      ]
     },
     "execution_count": 1913,
     "metadata": {},
     "output_type": "execute_result"
    }
   ],
   "source": [
    "train_df['Home Ownership'].value_counts()"
   ]
  },
  {
   "cell_type": "code",
   "execution_count": 1914,
   "id": "180cde2e",
   "metadata": {},
   "outputs": [
    {
     "data": {
      "text/plain": [
       "1 year        504\n",
       "10+ years    2332\n",
       "2 years       705\n",
       "3 years       620\n",
       "4 years       469\n",
       "5 years       516\n",
       "6 years       426\n",
       "7 years       396\n",
       "8 years       339\n",
       "9 years       259\n",
       "< 1 year      563\n",
       "Name: Years in current job, dtype: int64"
      ]
     },
     "execution_count": 1914,
     "metadata": {},
     "output_type": "execute_result"
    }
   ],
   "source": [
    "train_df['Years in current job'].value_counts().sort_index()"
   ]
  },
  {
   "cell_type": "code",
   "execution_count": 1915,
   "id": "a3506344",
   "metadata": {},
   "outputs": [
    {
     "data": {
      "text/plain": [
       "0    10+ years\n",
       "dtype: object"
      ]
     },
     "execution_count": 1915,
     "metadata": {},
     "output_type": "execute_result"
    }
   ],
   "source": [
    "train_df['Years in current job'].mode()"
   ]
  },
  {
   "cell_type": "code",
   "execution_count": 1916,
   "id": "bf3c0c49",
   "metadata": {},
   "outputs": [
    {
     "data": {
      "text/plain": [
       "debt consolidation      5944\n",
       "other                    665\n",
       "home improvements        412\n",
       "business loan            129\n",
       "buy a car                 96\n",
       "medical bills             71\n",
       "major purchase            40\n",
       "take a trip               37\n",
       "buy house                 34\n",
       "small business            26\n",
       "wedding                   15\n",
       "moving                    11\n",
       "educational expenses      10\n",
       "vacation                   8\n",
       "renewable energy           2\n",
       "Name: Purpose, dtype: int64"
      ]
     },
     "execution_count": 1916,
     "metadata": {},
     "output_type": "execute_result"
    }
   ],
   "source": [
    "train_df['Purpose'].value_counts()"
   ]
  },
  {
   "cell_type": "code",
   "execution_count": 1917,
   "id": "97f56cdb",
   "metadata": {},
   "outputs": [
    {
     "data": {
      "text/plain": [
       "Short Term    5556\n",
       "Long Term     1944\n",
       "Name: Term, dtype: int64"
      ]
     },
     "execution_count": 1917,
     "metadata": {},
     "output_type": "execute_result"
    }
   ],
   "source": [
    "train_df['Term'].value_counts()"
   ]
  },
  {
   "cell_type": "code",
   "execution_count": 1918,
   "id": "f080ac28",
   "metadata": {},
   "outputs": [
    {
     "data": {
      "text/plain": [
       "0.0    7366\n",
       "1.0      83\n",
       "2.0      30\n",
       "3.0      10\n",
       "4.0       6\n",
       "6.0       2\n",
       "5.0       2\n",
       "7.0       1\n",
       "Name: Tax Liens, dtype: int64"
      ]
     },
     "execution_count": 1918,
     "metadata": {},
     "output_type": "execute_result"
    }
   ],
   "source": [
    "train_df['Tax Liens'].value_counts()"
   ]
  },
  {
   "cell_type": "markdown",
   "id": "6800dbf5",
   "metadata": {},
   "source": [
    "### Матрица корреляций"
   ]
  },
  {
   "cell_type": "code",
   "execution_count": 1919,
   "id": "c10e6203",
   "metadata": {},
   "outputs": [
    {
     "data": {
      "image/png": "[encoded data removed]",
      "text/plain": [
       "<Figure size 1800x1440 with 2 Axes>"
      ]
     },
     "metadata": {
      "needs_background": "light"
     },
     "output_type": "display_data"
    }
   ],
   "source": [
    "plt.figure(figsize=(25, 20))\n",
    "\n",
    "sns.set(font_scale=1.4)\n",
    "\n",
    "corr_matrix = train_df.corr()\n",
    "corr_matrix = np.round(corr_matrix, 2)\n",
    "corr_matrix[np.abs(corr_matrix) < 0.3] = 0\n",
    "\n",
    "sns.heatmap(corr_matrix, annot=True, linewidths=.5, cmap='coolwarm')\n",
    "\n",
    "plt.title('Correlation matrix')\n",
    "plt.show()"
   ]
  },
  {
   "cell_type": "markdown",
   "id": "f8690cd1",
   "metadata": {},
   "source": [
    "По матрице корреляций видим уверенную корреляцию Annual Income (годовой доход) с Monthly Debt(Ежемесячный долг) и менее слабую корреляцию с Current Credit Balance (текущий кредитный баланс - сумма, которую может тратить клиент с кредитного счета). Также есть корреляция с признаком Credit Score(+- 0.5 - уверенная корреляция).\n",
    "Можно отметить очень сильную корреляцию признака 'Bankruptcies'(Банкротство) и 'Number of credit problems'.\n",
    "Есть корреляции признаков Credit Default и Credit Score, Monthly Debt и Number of Open Accounts, Monthly Debt и Current Credit Balance."
   ]
  },
  {
   "cell_type": "code",
   "execution_count": 1920,
   "id": "094181be",
   "metadata": {},
   "outputs": [
    {
     "data": {
      "text/html": [
       "<div>\n",
       "<style scoped>\n",
       "    .dataframe tbody tr th:only-of-type {\n",
       "        vertical-align: middle;\n",
       "    }\n",
       "\n",
       "    .dataframe tbody tr th {\n",
       "        vertical-align: top;\n",
       "    }\n",
       "\n",
       "    .dataframe thead th {\n",
       "        text-align: right;\n",
       "    }\n",
       "</style>\n",
       "<table border=\"1\" class=\"dataframe\">\n",
       "  <thead>\n",
       "    <tr style=\"text-align: right;\">\n",
       "      <th></th>\n",
       "      <th>Home Ownership</th>\n",
       "      <th>Annual Income</th>\n",
       "      <th>Years in current job</th>\n",
       "      <th>Tax Liens</th>\n",
       "      <th>Number of Open Accounts</th>\n",
       "      <th>Years of Credit History</th>\n",
       "      <th>Maximum Open Credit</th>\n",
       "      <th>Number of Credit Problems</th>\n",
       "      <th>Months since last delinquent</th>\n",
       "      <th>Bankruptcies</th>\n",
       "      <th>Purpose</th>\n",
       "      <th>Term</th>\n",
       "      <th>Current Loan Amount</th>\n",
       "      <th>Current Credit Balance</th>\n",
       "      <th>Monthly Debt</th>\n",
       "      <th>Credit Score</th>\n",
       "      <th>Credit Default</th>\n",
       "    </tr>\n",
       "  </thead>\n",
       "  <tbody>\n",
       "    <tr>\n",
       "      <th>5</th>\n",
       "      <td>Rent</td>\n",
       "      <td>NaN</td>\n",
       "      <td>7 years</td>\n",
       "      <td>0.0</td>\n",
       "      <td>12.0</td>\n",
       "      <td>14.6</td>\n",
       "      <td>366784.0</td>\n",
       "      <td>0.0</td>\n",
       "      <td>NaN</td>\n",
       "      <td>0.0</td>\n",
       "      <td>other</td>\n",
       "      <td>Long Term</td>\n",
       "      <td>337304.0</td>\n",
       "      <td>165680.0</td>\n",
       "      <td>18692.0</td>\n",
       "      <td>NaN</td>\n",
       "      <td>1</td>\n",
       "    </tr>\n",
       "    <tr>\n",
       "      <th>8</th>\n",
       "      <td>Home Mortgage</td>\n",
       "      <td>NaN</td>\n",
       "      <td>5 years</td>\n",
       "      <td>0.0</td>\n",
       "      <td>17.0</td>\n",
       "      <td>15.7</td>\n",
       "      <td>0.0</td>\n",
       "      <td>1.0</td>\n",
       "      <td>NaN</td>\n",
       "      <td>1.0</td>\n",
       "      <td>home improvements</td>\n",
       "      <td>Short Term</td>\n",
       "      <td>129734.0</td>\n",
       "      <td>19.0</td>\n",
       "      <td>17.0</td>\n",
       "      <td>NaN</td>\n",
       "      <td>0</td>\n",
       "    </tr>\n",
       "    <tr>\n",
       "      <th>9</th>\n",
       "      <td>Home Mortgage</td>\n",
       "      <td>NaN</td>\n",
       "      <td>1 year</td>\n",
       "      <td>0.0</td>\n",
       "      <td>10.0</td>\n",
       "      <td>24.6</td>\n",
       "      <td>511302.0</td>\n",
       "      <td>0.0</td>\n",
       "      <td>6.0</td>\n",
       "      <td>0.0</td>\n",
       "      <td>debt consolidation</td>\n",
       "      <td>Long Term</td>\n",
       "      <td>572880.0</td>\n",
       "      <td>205333.0</td>\n",
       "      <td>17613.0</td>\n",
       "      <td>NaN</td>\n",
       "      <td>1</td>\n",
       "    </tr>\n",
       "    <tr>\n",
       "      <th>10</th>\n",
       "      <td>Home Mortgage</td>\n",
       "      <td>NaN</td>\n",
       "      <td>&lt; 1 year</td>\n",
       "      <td>0.0</td>\n",
       "      <td>7.0</td>\n",
       "      <td>11.5</td>\n",
       "      <td>256322.0</td>\n",
       "      <td>0.0</td>\n",
       "      <td>NaN</td>\n",
       "      <td>0.0</td>\n",
       "      <td>debt consolidation</td>\n",
       "      <td>Short Term</td>\n",
       "      <td>220858.0</td>\n",
       "      <td>187492.0</td>\n",
       "      <td>14592.0</td>\n",
       "      <td>NaN</td>\n",
       "      <td>0</td>\n",
       "    </tr>\n",
       "    <tr>\n",
       "      <th>16</th>\n",
       "      <td>Rent</td>\n",
       "      <td>NaN</td>\n",
       "      <td>7 years</td>\n",
       "      <td>0.0</td>\n",
       "      <td>6.0</td>\n",
       "      <td>17.8</td>\n",
       "      <td>899492.0</td>\n",
       "      <td>0.0</td>\n",
       "      <td>NaN</td>\n",
       "      <td>0.0</td>\n",
       "      <td>debt consolidation</td>\n",
       "      <td>Long Term</td>\n",
       "      <td>313038.0</td>\n",
       "      <td>538346.0</td>\n",
       "      <td>18844.0</td>\n",
       "      <td>NaN</td>\n",
       "      <td>1</td>\n",
       "    </tr>\n",
       "    <tr>\n",
       "      <th>...</th>\n",
       "      <td>...</td>\n",
       "      <td>...</td>\n",
       "      <td>...</td>\n",
       "      <td>...</td>\n",
       "      <td>...</td>\n",
       "      <td>...</td>\n",
       "      <td>...</td>\n",
       "      <td>...</td>\n",
       "      <td>...</td>\n",
       "      <td>...</td>\n",
       "      <td>...</td>\n",
       "      <td>...</td>\n",
       "      <td>...</td>\n",
       "      <td>...</td>\n",
       "      <td>...</td>\n",
       "      <td>...</td>\n",
       "      <td>...</td>\n",
       "    </tr>\n",
       "    <tr>\n",
       "      <th>7482</th>\n",
       "      <td>Home Mortgage</td>\n",
       "      <td>NaN</td>\n",
       "      <td>10+ years</td>\n",
       "      <td>0.0</td>\n",
       "      <td>14.0</td>\n",
       "      <td>30.5</td>\n",
       "      <td>645062.0</td>\n",
       "      <td>0.0</td>\n",
       "      <td>45.0</td>\n",
       "      <td>0.0</td>\n",
       "      <td>debt consolidation</td>\n",
       "      <td>Short Term</td>\n",
       "      <td>188430.0</td>\n",
       "      <td>518662.0</td>\n",
       "      <td>23506.0</td>\n",
       "      <td>NaN</td>\n",
       "      <td>0</td>\n",
       "    </tr>\n",
       "    <tr>\n",
       "      <th>7492</th>\n",
       "      <td>Home Mortgage</td>\n",
       "      <td>NaN</td>\n",
       "      <td>10+ years</td>\n",
       "      <td>0.0</td>\n",
       "      <td>10.0</td>\n",
       "      <td>13.3</td>\n",
       "      <td>423984.0</td>\n",
       "      <td>0.0</td>\n",
       "      <td>NaN</td>\n",
       "      <td>0.0</td>\n",
       "      <td>debt consolidation</td>\n",
       "      <td>Short Term</td>\n",
       "      <td>332948.0</td>\n",
       "      <td>161481.0</td>\n",
       "      <td>20966.0</td>\n",
       "      <td>NaN</td>\n",
       "      <td>0</td>\n",
       "    </tr>\n",
       "    <tr>\n",
       "      <th>7494</th>\n",
       "      <td>Own Home</td>\n",
       "      <td>NaN</td>\n",
       "      <td>&lt; 1 year</td>\n",
       "      <td>0.0</td>\n",
       "      <td>7.0</td>\n",
       "      <td>8.2</td>\n",
       "      <td>301554.0</td>\n",
       "      <td>0.0</td>\n",
       "      <td>NaN</td>\n",
       "      <td>0.0</td>\n",
       "      <td>debt consolidation</td>\n",
       "      <td>Short Term</td>\n",
       "      <td>290400.0</td>\n",
       "      <td>210938.0</td>\n",
       "      <td>5070.0</td>\n",
       "      <td>NaN</td>\n",
       "      <td>0</td>\n",
       "    </tr>\n",
       "    <tr>\n",
       "      <th>7498</th>\n",
       "      <td>Home Mortgage</td>\n",
       "      <td>NaN</td>\n",
       "      <td>NaN</td>\n",
       "      <td>0.0</td>\n",
       "      <td>21.0</td>\n",
       "      <td>26.5</td>\n",
       "      <td>1141250.0</td>\n",
       "      <td>0.0</td>\n",
       "      <td>NaN</td>\n",
       "      <td>0.0</td>\n",
       "      <td>debt consolidation</td>\n",
       "      <td>Short Term</td>\n",
       "      <td>615274.0</td>\n",
       "      <td>476064.0</td>\n",
       "      <td>37118.0</td>\n",
       "      <td>NaN</td>\n",
       "      <td>0</td>\n",
       "    </tr>\n",
       "    <tr>\n",
       "      <th>7499</th>\n",
       "      <td>Rent</td>\n",
       "      <td>NaN</td>\n",
       "      <td>4 years</td>\n",
       "      <td>0.0</td>\n",
       "      <td>8.0</td>\n",
       "      <td>9.4</td>\n",
       "      <td>480832.0</td>\n",
       "      <td>0.0</td>\n",
       "      <td>NaN</td>\n",
       "      <td>0.0</td>\n",
       "      <td>debt consolidation</td>\n",
       "      <td>Short Term</td>\n",
       "      <td>26928.0</td>\n",
       "      <td>288192.0</td>\n",
       "      <td>9061.0</td>\n",
       "      <td>NaN</td>\n",
       "      <td>0</td>\n",
       "    </tr>\n",
       "  </tbody>\n",
       "</table>\n",
       "<p>1557 rows × 17 columns</p>\n",
       "</div>"
      ],
      "text/plain": [
       "     Home Ownership  Annual Income Years in current job  Tax Liens  \\\n",
       "5              Rent            NaN              7 years        0.0   \n",
       "8     Home Mortgage            NaN              5 years        0.0   \n",
       "9     Home Mortgage            NaN               1 year        0.0   \n",
       "10    Home Mortgage            NaN             < 1 year        0.0   \n",
       "16             Rent            NaN              7 years        0.0   \n",
       "...             ...            ...                  ...        ...   \n",
       "7482  Home Mortgage            NaN            10+ years        0.0   \n",
       "7492  Home Mortgage            NaN            10+ years        0.0   \n",
       "7494       Own Home            NaN             < 1 year        0.0   \n",
       "7498  Home Mortgage            NaN                  NaN        0.0   \n",
       "7499           Rent            NaN              4 years        0.0   \n",
       "\n",
       "      Number of Open Accounts  Years of Credit History  Maximum Open Credit  \\\n",
       "5                        12.0                     14.6             366784.0   \n",
       "8                        17.0                     15.7                  0.0   \n",
       "9                        10.0                     24.6             511302.0   \n",
       "10                        7.0                     11.5             256322.0   \n",
       "16                        6.0                     17.8             899492.0   \n",
       "...                       ...                      ...                  ...   \n",
       "7482                     14.0                     30.5             645062.0   \n",
       "7492                     10.0                     13.3             423984.0   \n",
       "7494                      7.0                      8.2             301554.0   \n",
       "7498                     21.0                     26.5            1141250.0   \n",
       "7499                      8.0                      9.4             480832.0   \n",
       "\n",
       "      Number of Credit Problems  Months since last delinquent  Bankruptcies  \\\n",
       "5                           0.0                           NaN           0.0   \n",
       "8                           1.0                           NaN           1.0   \n",
       "9                           0.0                           6.0           0.0   \n",
       "10                          0.0                           NaN           0.0   \n",
       "16                          0.0                           NaN           0.0   \n",
       "...                         ...                           ...           ...   \n",
       "7482                        0.0                          45.0           0.0   \n",
       "7492                        0.0                           NaN           0.0   \n",
       "7494                        0.0                           NaN           0.0   \n",
       "7498                        0.0                           NaN           0.0   \n",
       "7499                        0.0                           NaN           0.0   \n",
       "\n",
       "                 Purpose        Term  Current Loan Amount  \\\n",
       "5                  other   Long Term             337304.0   \n",
       "8      home improvements  Short Term             129734.0   \n",
       "9     debt consolidation   Long Term             572880.0   \n",
       "10    debt consolidation  Short Term             220858.0   \n",
       "16    debt consolidation   Long Term             313038.0   \n",
       "...                  ...         ...                  ...   \n",
       "7482  debt consolidation  Short Term             188430.0   \n",
       "7492  debt consolidation  Short Term             332948.0   \n",
       "7494  debt consolidation  Short Term             290400.0   \n",
       "7498  debt consolidation  Short Term             615274.0   \n",
       "7499  debt consolidation  Short Term              26928.0   \n",
       "\n",
       "      Current Credit Balance  Monthly Debt  Credit Score  Credit Default  \n",
       "5                   165680.0       18692.0           NaN               1  \n",
       "8                       19.0          17.0           NaN               0  \n",
       "9                   205333.0       17613.0           NaN               1  \n",
       "10                  187492.0       14592.0           NaN               0  \n",
       "16                  538346.0       18844.0           NaN               1  \n",
       "...                      ...           ...           ...             ...  \n",
       "7482                518662.0       23506.0           NaN               0  \n",
       "7492                161481.0       20966.0           NaN               0  \n",
       "7494                210938.0        5070.0           NaN               0  \n",
       "7498                476064.0       37118.0           NaN               0  \n",
       "7499                288192.0        9061.0           NaN               0  \n",
       "\n",
       "[1557 rows x 17 columns]"
      ]
     },
     "execution_count": 1920,
     "metadata": {},
     "output_type": "execute_result"
    }
   ],
   "source": [
    "train_df.loc[train_df['Annual Income'].isnull() & train_df['Credit Score'].isnull()]"
   ]
  },
  {
   "cell_type": "markdown",
   "id": "48be24e2",
   "metadata": {},
   "source": [
    "Когда у признака Annual Income пропущено значение, то и у Credit Score тоже пропущено значение. Предположу, что это может означать, что человек не работает, годового дохода нет. Соответственно, показатель Credit Score рассчитать невозможно."
   ]
  },
  {
   "cell_type": "markdown",
   "id": "06373b4e",
   "metadata": {},
   "source": [
    "## Анализ признаков и обработка выбросов."
   ]
  },
  {
   "cell_type": "markdown",
   "id": "cb798a68",
   "metadata": {},
   "source": [
    "#### Количественные признаки"
   ]
  },
  {
   "cell_type": "code",
   "execution_count": 1921,
   "id": "6a391585",
   "metadata": {},
   "outputs": [
    {
     "data": {
      "text/html": [
       "<div>\n",
       "<style scoped>\n",
       "    .dataframe tbody tr th:only-of-type {\n",
       "        vertical-align: middle;\n",
       "    }\n",
       "\n",
       "    .dataframe tbody tr th {\n",
       "        vertical-align: top;\n",
       "    }\n",
       "\n",
       "    .dataframe thead th {\n",
       "        text-align: right;\n",
       "    }\n",
       "</style>\n",
       "<table border=\"1\" class=\"dataframe\">\n",
       "  <thead>\n",
       "    <tr style=\"text-align: right;\">\n",
       "      <th></th>\n",
       "      <th>Annual Income</th>\n",
       "      <th>Tax Liens</th>\n",
       "      <th>Number of Open Accounts</th>\n",
       "      <th>Years of Credit History</th>\n",
       "      <th>Maximum Open Credit</th>\n",
       "      <th>Number of Credit Problems</th>\n",
       "      <th>Months since last delinquent</th>\n",
       "      <th>Bankruptcies</th>\n",
       "      <th>Current Loan Amount</th>\n",
       "      <th>Current Credit Balance</th>\n",
       "      <th>Monthly Debt</th>\n",
       "      <th>Credit Score</th>\n",
       "      <th>Credit Default</th>\n",
       "    </tr>\n",
       "  </thead>\n",
       "  <tbody>\n",
       "    <tr>\n",
       "      <th>0</th>\n",
       "      <td>482087.0</td>\n",
       "      <td>0.0</td>\n",
       "      <td>11.0</td>\n",
       "      <td>26.3</td>\n",
       "      <td>685960.0</td>\n",
       "      <td>1.0</td>\n",
       "      <td>NaN</td>\n",
       "      <td>1.0</td>\n",
       "      <td>99999999.0</td>\n",
       "      <td>47386.0</td>\n",
       "      <td>7914.0</td>\n",
       "      <td>749.0</td>\n",
       "      <td>0</td>\n",
       "    </tr>\n",
       "    <tr>\n",
       "      <th>1</th>\n",
       "      <td>1025487.0</td>\n",
       "      <td>0.0</td>\n",
       "      <td>15.0</td>\n",
       "      <td>15.3</td>\n",
       "      <td>1181730.0</td>\n",
       "      <td>0.0</td>\n",
       "      <td>NaN</td>\n",
       "      <td>0.0</td>\n",
       "      <td>264968.0</td>\n",
       "      <td>394972.0</td>\n",
       "      <td>18373.0</td>\n",
       "      <td>737.0</td>\n",
       "      <td>1</td>\n",
       "    </tr>\n",
       "    <tr>\n",
       "      <th>2</th>\n",
       "      <td>751412.0</td>\n",
       "      <td>0.0</td>\n",
       "      <td>11.0</td>\n",
       "      <td>35.0</td>\n",
       "      <td>1182434.0</td>\n",
       "      <td>0.0</td>\n",
       "      <td>NaN</td>\n",
       "      <td>0.0</td>\n",
       "      <td>99999999.0</td>\n",
       "      <td>308389.0</td>\n",
       "      <td>13651.0</td>\n",
       "      <td>742.0</td>\n",
       "      <td>0</td>\n",
       "    </tr>\n",
       "    <tr>\n",
       "      <th>3</th>\n",
       "      <td>805068.0</td>\n",
       "      <td>0.0</td>\n",
       "      <td>8.0</td>\n",
       "      <td>22.5</td>\n",
       "      <td>147400.0</td>\n",
       "      <td>1.0</td>\n",
       "      <td>NaN</td>\n",
       "      <td>1.0</td>\n",
       "      <td>121396.0</td>\n",
       "      <td>95855.0</td>\n",
       "      <td>11338.0</td>\n",
       "      <td>694.0</td>\n",
       "      <td>0</td>\n",
       "    </tr>\n",
       "    <tr>\n",
       "      <th>4</th>\n",
       "      <td>776264.0</td>\n",
       "      <td>0.0</td>\n",
       "      <td>13.0</td>\n",
       "      <td>13.6</td>\n",
       "      <td>385836.0</td>\n",
       "      <td>1.0</td>\n",
       "      <td>NaN</td>\n",
       "      <td>0.0</td>\n",
       "      <td>125840.0</td>\n",
       "      <td>93309.0</td>\n",
       "      <td>7180.0</td>\n",
       "      <td>719.0</td>\n",
       "      <td>0</td>\n",
       "    </tr>\n",
       "    <tr>\n",
       "      <th>...</th>\n",
       "      <td>...</td>\n",
       "      <td>...</td>\n",
       "      <td>...</td>\n",
       "      <td>...</td>\n",
       "      <td>...</td>\n",
       "      <td>...</td>\n",
       "      <td>...</td>\n",
       "      <td>...</td>\n",
       "      <td>...</td>\n",
       "      <td>...</td>\n",
       "      <td>...</td>\n",
       "      <td>...</td>\n",
       "      <td>...</td>\n",
       "    </tr>\n",
       "    <tr>\n",
       "      <th>7495</th>\n",
       "      <td>402192.0</td>\n",
       "      <td>0.0</td>\n",
       "      <td>3.0</td>\n",
       "      <td>8.5</td>\n",
       "      <td>107866.0</td>\n",
       "      <td>0.0</td>\n",
       "      <td>NaN</td>\n",
       "      <td>0.0</td>\n",
       "      <td>129360.0</td>\n",
       "      <td>73492.0</td>\n",
       "      <td>1900.0</td>\n",
       "      <td>697.0</td>\n",
       "      <td>0</td>\n",
       "    </tr>\n",
       "    <tr>\n",
       "      <th>7496</th>\n",
       "      <td>1533984.0</td>\n",
       "      <td>0.0</td>\n",
       "      <td>10.0</td>\n",
       "      <td>26.5</td>\n",
       "      <td>686312.0</td>\n",
       "      <td>0.0</td>\n",
       "      <td>43.0</td>\n",
       "      <td>0.0</td>\n",
       "      <td>444048.0</td>\n",
       "      <td>456399.0</td>\n",
       "      <td>12783.0</td>\n",
       "      <td>7410.0</td>\n",
       "      <td>1</td>\n",
       "    </tr>\n",
       "    <tr>\n",
       "      <th>7497</th>\n",
       "      <td>1878910.0</td>\n",
       "      <td>0.0</td>\n",
       "      <td>12.0</td>\n",
       "      <td>32.1</td>\n",
       "      <td>1778920.0</td>\n",
       "      <td>0.0</td>\n",
       "      <td>NaN</td>\n",
       "      <td>0.0</td>\n",
       "      <td>99999999.0</td>\n",
       "      <td>477812.0</td>\n",
       "      <td>12479.0</td>\n",
       "      <td>748.0</td>\n",
       "      <td>0</td>\n",
       "    </tr>\n",
       "    <tr>\n",
       "      <th>7498</th>\n",
       "      <td>NaN</td>\n",
       "      <td>0.0</td>\n",
       "      <td>21.0</td>\n",
       "      <td>26.5</td>\n",
       "      <td>1141250.0</td>\n",
       "      <td>0.0</td>\n",
       "      <td>NaN</td>\n",
       "      <td>0.0</td>\n",
       "      <td>615274.0</td>\n",
       "      <td>476064.0</td>\n",
       "      <td>37118.0</td>\n",
       "      <td>NaN</td>\n",
       "      <td>0</td>\n",
       "    </tr>\n",
       "    <tr>\n",
       "      <th>7499</th>\n",
       "      <td>NaN</td>\n",
       "      <td>0.0</td>\n",
       "      <td>8.0</td>\n",
       "      <td>9.4</td>\n",
       "      <td>480832.0</td>\n",
       "      <td>0.0</td>\n",
       "      <td>NaN</td>\n",
       "      <td>0.0</td>\n",
       "      <td>26928.0</td>\n",
       "      <td>288192.0</td>\n",
       "      <td>9061.0</td>\n",
       "      <td>NaN</td>\n",
       "      <td>0</td>\n",
       "    </tr>\n",
       "  </tbody>\n",
       "</table>\n",
       "<p>7500 rows × 13 columns</p>\n",
       "</div>"
      ],
      "text/plain": [
       "      Annual Income  Tax Liens  Number of Open Accounts  \\\n",
       "0          482087.0        0.0                     11.0   \n",
       "1         1025487.0        0.0                     15.0   \n",
       "2          751412.0        0.0                     11.0   \n",
       "3          805068.0        0.0                      8.0   \n",
       "4          776264.0        0.0                     13.0   \n",
       "...             ...        ...                      ...   \n",
       "7495       402192.0        0.0                      3.0   \n",
       "7496      1533984.0        0.0                     10.0   \n",
       "7497      1878910.0        0.0                     12.0   \n",
       "7498            NaN        0.0                     21.0   \n",
       "7499            NaN        0.0                      8.0   \n",
       "\n",
       "      Years of Credit History  Maximum Open Credit  Number of Credit Problems  \\\n",
       "0                        26.3             685960.0                        1.0   \n",
       "1                        15.3            1181730.0                        0.0   \n",
       "2                        35.0            1182434.0                        0.0   \n",
       "3                        22.5             147400.0                        1.0   \n",
       "4                        13.6             385836.0                        1.0   \n",
       "...                       ...                  ...                        ...   \n",
       "7495                      8.5             107866.0                        0.0   \n",
       "7496                     26.5             686312.0                        0.0   \n",
       "7497                     32.1            1778920.0                        0.0   \n",
       "7498                     26.5            1141250.0                        0.0   \n",
       "7499                      9.4             480832.0                        0.0   \n",
       "\n",
       "      Months since last delinquent  Bankruptcies  Current Loan Amount  \\\n",
       "0                              NaN           1.0           99999999.0   \n",
       "1                              NaN           0.0             264968.0   \n",
       "2                              NaN           0.0           99999999.0   \n",
       "3                              NaN           1.0             121396.0   \n",
       "4                              NaN           0.0             125840.0   \n",
       "...                            ...           ...                  ...   \n",
       "7495                           NaN           0.0             129360.0   \n",
       "7496                          43.0           0.0             444048.0   \n",
       "7497                           NaN           0.0           99999999.0   \n",
       "7498                           NaN           0.0             615274.0   \n",
       "7499                           NaN           0.0              26928.0   \n",
       "\n",
       "      Current Credit Balance  Monthly Debt  Credit Score  Credit Default  \n",
       "0                    47386.0        7914.0         749.0               0  \n",
       "1                   394972.0       18373.0         737.0               1  \n",
       "2                   308389.0       13651.0         742.0               0  \n",
       "3                    95855.0       11338.0         694.0               0  \n",
       "4                    93309.0        7180.0         719.0               0  \n",
       "...                      ...           ...           ...             ...  \n",
       "7495                 73492.0        1900.0         697.0               0  \n",
       "7496                456399.0       12783.0        7410.0               1  \n",
       "7497                477812.0       12479.0         748.0               0  \n",
       "7498                476064.0       37118.0           NaN               0  \n",
       "7499                288192.0        9061.0           NaN               0  \n",
       "\n",
       "[7500 rows x 13 columns]"
      ]
     },
     "execution_count": 1921,
     "metadata": {},
     "output_type": "execute_result"
    }
   ],
   "source": [
    "df_num_features = train_df.select_dtypes(include=['float64', 'int64'])\n",
    "df_num_features"
   ]
  },
  {
   "cell_type": "markdown",
   "id": "b8c809fa",
   "metadata": {},
   "source": [
    "Удалим столбец с целевой переменной и посмотрим на распределение каждого признака на гистограммах:"
   ]
  },
  {
   "cell_type": "code",
   "execution_count": 1922,
   "id": "2e0f1817",
   "metadata": {},
   "outputs": [],
   "source": [
    "df_num_features.drop(['Credit Default'], axis=1, inplace=True)"
   ]
  },
  {
   "cell_type": "code",
   "execution_count": 1923,
   "id": "f8c3eeaf",
   "metadata": {},
   "outputs": [
    {
     "data": {
      "text/plain": [
       "array([[<AxesSubplot:title={'center':'Annual Income'}>,\n",
       "        <AxesSubplot:title={'center':'Tax Liens'}>,\n",
       "        <AxesSubplot:title={'center':'Number of Open Accounts'}>],\n",
       "       [<AxesSubplot:title={'center':'Years of Credit History'}>,\n",
       "        <AxesSubplot:title={'center':'Maximum Open Credit'}>,\n",
       "        <AxesSubplot:title={'center':'Number of Credit Problems'}>],\n",
       "       [<AxesSubplot:title={'center':'Months since last delinquent'}>,\n",
       "        <AxesSubplot:title={'center':'Bankruptcies'}>,\n",
       "        <AxesSubplot:title={'center':'Current Loan Amount'}>],\n",
       "       [<AxesSubplot:title={'center':'Current Credit Balance'}>,\n",
       "        <AxesSubplot:title={'center':'Monthly Debt'}>,\n",
       "        <AxesSubplot:title={'center':'Credit Score'}>]], dtype=object)"
      ]
     },
     "execution_count": 1923,
     "metadata": {},
     "output_type": "execute_result"
    },
    {
     "data": {
      "image/png": "[encoded data removed]",
      "text/plain": [
       "<Figure size 1152x1152 with 12 Axes>"
      ]
     },
     "metadata": {},
     "output_type": "display_data"
    }
   ],
   "source": [
    "df_num_features.hist(figsize=(16, 16), bins=20, grid=False)"
   ]
  },
  {
   "cell_type": "markdown",
   "id": "ddb55312",
   "metadata": {},
   "source": [
    "На гистограммах видно, что выбросы присутствуют в признаках Maximum Open Credit, Months since last deliquent, Current Loan Amount, Monthly Debt, Credit Score."
   ]
  },
  {
   "cell_type": "markdown",
   "id": "172f365c",
   "metadata": {},
   "source": [
    "#### Current Loan Amount"
   ]
  },
  {
   "cell_type": "code",
   "execution_count": 1924,
   "id": "cbc2ab20",
   "metadata": {},
   "outputs": [
    {
     "data": {
      "text/plain": [
       "99999999.0    870\n",
       "218064.0        6\n",
       "89298.0         6\n",
       "216106.0        5\n",
       "265826.0        5\n",
       "             ... \n",
       "104324.0        1\n",
       "201080.0        1\n",
       "427812.0        1\n",
       "665544.0        1\n",
       "191136.0        1\n",
       "Name: Current Loan Amount, Length: 5386, dtype: int64"
      ]
     },
     "execution_count": 1924,
     "metadata": {},
     "output_type": "execute_result"
    }
   ],
   "source": [
    "train_df['Current Loan Amount'].value_counts()"
   ]
  },
  {
   "cell_type": "markdown",
   "id": "44940664",
   "metadata": {},
   "source": [
    "Есть 870 значений, установленных на максимум. Отметим эти столбцы через новый признак Current Loan Amount Outlier:"
   ]
  },
  {
   "cell_type": "code",
   "execution_count": 1925,
   "id": "0f69f7a3",
   "metadata": {},
   "outputs": [],
   "source": [
    "train_df['Current Loan Amount Outlier'] = 0\n",
    "train_df.loc[train_df['Current Loan Amount'] == 99999999.0, 'Current Loan Amount Outlier'] = 1\n"
   ]
  },
  {
   "cell_type": "code",
   "execution_count": 1926,
   "id": "af6ca2a6",
   "metadata": {},
   "outputs": [
    {
     "data": {
      "text/html": [
       "<div>\n",
       "<style scoped>\n",
       "    .dataframe tbody tr th:only-of-type {\n",
       "        vertical-align: middle;\n",
       "    }\n",
       "\n",
       "    .dataframe tbody tr th {\n",
       "        vertical-align: top;\n",
       "    }\n",
       "\n",
       "    .dataframe thead th {\n",
       "        text-align: right;\n",
       "    }\n",
       "</style>\n",
       "<table border=\"1\" class=\"dataframe\">\n",
       "  <thead>\n",
       "    <tr style=\"text-align: right;\">\n",
       "      <th></th>\n",
       "      <th>Home Ownership</th>\n",
       "      <th>Annual Income</th>\n",
       "      <th>Years in current job</th>\n",
       "      <th>Tax Liens</th>\n",
       "      <th>Number of Open Accounts</th>\n",
       "      <th>Years of Credit History</th>\n",
       "      <th>Maximum Open Credit</th>\n",
       "      <th>Number of Credit Problems</th>\n",
       "      <th>Months since last delinquent</th>\n",
       "      <th>Bankruptcies</th>\n",
       "      <th>Purpose</th>\n",
       "      <th>Term</th>\n",
       "      <th>Current Loan Amount</th>\n",
       "      <th>Current Credit Balance</th>\n",
       "      <th>Monthly Debt</th>\n",
       "      <th>Credit Score</th>\n",
       "      <th>Credit Default</th>\n",
       "      <th>Current Loan Amount Outlier</th>\n",
       "    </tr>\n",
       "  </thead>\n",
       "  <tbody>\n",
       "  </tbody>\n",
       "</table>\n",
       "</div>"
      ],
      "text/plain": [
       "Empty DataFrame\n",
       "Columns: [Home Ownership, Annual Income, Years in current job, Tax Liens, Number of Open Accounts, Years of Credit History, Maximum Open Credit, Number of Credit Problems, Months since last delinquent, Bankruptcies, Purpose, Term, Current Loan Amount, Current Credit Balance, Monthly Debt, Credit Score, Credit Default, Current Loan Amount Outlier]\n",
       "Index: []"
      ]
     },
     "execution_count": 1926,
     "metadata": {},
     "output_type": "execute_result"
    }
   ],
   "source": [
    "train_df.loc[(train_df['Current Loan Amount'] == 99999999.0) & train_df['Credit Default'] == 1]"
   ]
  },
  {
   "cell_type": "markdown",
   "id": "cbb8f3d7",
   "metadata": {},
   "source": [
    "Как видим, этим максимумом отмечены добросовестные плательщики кредита, значения 'Credit Score' равного 1 среди них нет."
   ]
  },
  {
   "cell_type": "code",
   "execution_count": 1927,
   "id": "2c12d2da",
   "metadata": {},
   "outputs": [
    {
     "data": {
      "text/plain": [
       "309573.0"
      ]
     },
     "execution_count": 1927,
     "metadata": {},
     "output_type": "execute_result"
    }
   ],
   "source": [
    "train_df['Current Loan Amount'].median()"
   ]
  },
  {
   "cell_type": "code",
   "execution_count": 1929,
   "id": "1a371e7f",
   "metadata": {},
   "outputs": [
    {
     "data": {
      "text/plain": [
       "870"
      ]
     },
     "execution_count": 1929,
     "metadata": {},
     "output_type": "execute_result"
    }
   ],
   "source": [
    "train_df[train_df['Current Loan Amount'] == 99999999.0]['Current Loan Amount'].count()"
   ]
  },
  {
   "cell_type": "markdown",
   "id": "a7bf2f62",
   "metadata": {},
   "source": [
    "Оставим эти значения без обработки, будет полезно при построении бустинг-модели."
   ]
  },
  {
   "cell_type": "markdown",
   "id": "8a3f70b6",
   "metadata": {},
   "source": [
    "#### Maximum Open Credit"
   ]
  },
  {
   "cell_type": "code",
   "execution_count": 2009,
   "id": "72dbda76",
   "metadata": {},
   "outputs": [
    {
     "data": {
      "text/plain": [
       "1304726170.0"
      ]
     },
     "execution_count": 2009,
     "metadata": {},
     "output_type": "execute_result"
    }
   ],
   "source": [
    "train_df['Maximum Open Credit'].max()"
   ]
  },
  {
   "cell_type": "markdown",
   "id": "38d1b3a0",
   "metadata": {},
   "source": [
    "Введем переменную max_credit - показатель равный .95 квантилей, чтобы обработать выбросы, и все, что больше, заменим на медиану."
   ]
  },
  {
   "cell_type": "code",
   "execution_count": 6,
   "id": "9d88416f",
   "metadata": {},
   "outputs": [
    {
     "data": {
      "text/plain": [
       "1706333.1999999997"
      ]
     },
     "execution_count": 6,
     "metadata": {},
     "output_type": "execute_result"
    }
   ],
   "source": [
    "max_credit = train_df['Maximum Open Credit'].quantile(.95)\n",
    "max_credit"
   ]
  },
  {
   "cell_type": "code",
   "execution_count": 2012,
   "id": "9787521b",
   "metadata": {},
   "outputs": [
    {
     "data": {
      "text/plain": [
       "478159.0"
      ]
     },
     "execution_count": 2012,
     "metadata": {},
     "output_type": "execute_result"
    }
   ],
   "source": [
    "train_df['Maximum Open Credit'].median()"
   ]
  },
  {
   "cell_type": "code",
   "execution_count": 7,
   "id": "8a0c3782",
   "metadata": {},
   "outputs": [
    {
     "data": {
      "text/plain": [
       "1887710.0    2\n",
       "1713074.0    2\n",
       "2644444.0    2\n",
       "2075128.0    1\n",
       "5590750.0    1\n",
       "            ..\n",
       "1757558.0    1\n",
       "1789568.0    1\n",
       "2260918.0    1\n",
       "2002286.0    1\n",
       "2178836.0    1\n",
       "Name: Maximum Open Credit, Length: 372, dtype: int64"
      ]
     },
     "execution_count": 7,
     "metadata": {},
     "output_type": "execute_result"
    }
   ],
   "source": [
    "train_df[train_df['Maximum Open Credit'] > max_credit]['Maximum Open Credit'].value_counts()"
   ]
  },
  {
   "cell_type": "code",
   "execution_count": 1935,
   "id": "3e86b494",
   "metadata": {},
   "outputs": [],
   "source": [
    "train_df['Maximum Open Credit Outlier'] = 0\n",
    "train_df.loc[train_df['Maximum Open Credit'] > max_credit, 'Maximum Open Credit Outlier'] = 1\n",
    "train_df.loc[train_df['Maximum Open Credit'] > max_credit, 'Maximum Open Credit'] = train_df['Maximum Open Credit'].median()"
   ]
  },
  {
   "cell_type": "code",
   "execution_count": 1936,
   "id": "09b556dd",
   "metadata": {},
   "outputs": [
    {
     "data": {
      "text/html": [
       "<div>\n",
       "<style scoped>\n",
       "    .dataframe tbody tr th:only-of-type {\n",
       "        vertical-align: middle;\n",
       "    }\n",
       "\n",
       "    .dataframe tbody tr th {\n",
       "        vertical-align: top;\n",
       "    }\n",
       "\n",
       "    .dataframe thead th {\n",
       "        text-align: right;\n",
       "    }\n",
       "</style>\n",
       "<table border=\"1\" class=\"dataframe\">\n",
       "  <thead>\n",
       "    <tr style=\"text-align: right;\">\n",
       "      <th></th>\n",
       "      <th>Home Ownership</th>\n",
       "      <th>Annual Income</th>\n",
       "      <th>Years in current job</th>\n",
       "      <th>Tax Liens</th>\n",
       "      <th>Number of Open Accounts</th>\n",
       "      <th>Years of Credit History</th>\n",
       "      <th>Maximum Open Credit</th>\n",
       "      <th>Number of Credit Problems</th>\n",
       "      <th>Months since last delinquent</th>\n",
       "      <th>Bankruptcies</th>\n",
       "      <th>Purpose</th>\n",
       "      <th>Term</th>\n",
       "      <th>Current Loan Amount</th>\n",
       "      <th>Current Credit Balance</th>\n",
       "      <th>Monthly Debt</th>\n",
       "      <th>Credit Score</th>\n",
       "      <th>Credit Default</th>\n",
       "      <th>Current Loan Amount Outlier</th>\n",
       "      <th>Maximum Open Credit Outlier</th>\n",
       "    </tr>\n",
       "  </thead>\n",
       "  <tbody>\n",
       "    <tr>\n",
       "      <th>44</th>\n",
       "      <td>Have Mortgage</td>\n",
       "      <td>1334256.0</td>\n",
       "      <td>10+ years</td>\n",
       "      <td>0.0</td>\n",
       "      <td>17.0</td>\n",
       "      <td>15.4</td>\n",
       "      <td>478159.0</td>\n",
       "      <td>1.0</td>\n",
       "      <td>35.0</td>\n",
       "      <td>0.0</td>\n",
       "      <td>take a trip</td>\n",
       "      <td>Short Term</td>\n",
       "      <td>33110.0</td>\n",
       "      <td>656450.0</td>\n",
       "      <td>34357.0</td>\n",
       "      <td>729.0</td>\n",
       "      <td>0</td>\n",
       "      <td>0</td>\n",
       "      <td>1</td>\n",
       "    </tr>\n",
       "    <tr>\n",
       "      <th>617</th>\n",
       "      <td>Home Mortgage</td>\n",
       "      <td>NaN</td>\n",
       "      <td>3 years</td>\n",
       "      <td>0.0</td>\n",
       "      <td>13.0</td>\n",
       "      <td>27.5</td>\n",
       "      <td>478159.0</td>\n",
       "      <td>0.0</td>\n",
       "      <td>NaN</td>\n",
       "      <td>0.0</td>\n",
       "      <td>debt consolidation</td>\n",
       "      <td>Short Term</td>\n",
       "      <td>529892.0</td>\n",
       "      <td>1126814.0</td>\n",
       "      <td>5492.0</td>\n",
       "      <td>NaN</td>\n",
       "      <td>0</td>\n",
       "      <td>0</td>\n",
       "      <td>1</td>\n",
       "    </tr>\n",
       "    <tr>\n",
       "      <th>2617</th>\n",
       "      <td>Home Mortgage</td>\n",
       "      <td>3217802.0</td>\n",
       "      <td>10+ years</td>\n",
       "      <td>0.0</td>\n",
       "      <td>12.0</td>\n",
       "      <td>35.5</td>\n",
       "      <td>478159.0</td>\n",
       "      <td>0.0</td>\n",
       "      <td>NaN</td>\n",
       "      <td>0.0</td>\n",
       "      <td>other</td>\n",
       "      <td>Short Term</td>\n",
       "      <td>50116.0</td>\n",
       "      <td>1834450.0</td>\n",
       "      <td>20272.0</td>\n",
       "      <td>750.0</td>\n",
       "      <td>0</td>\n",
       "      <td>0</td>\n",
       "      <td>1</td>\n",
       "    </tr>\n",
       "  </tbody>\n",
       "</table>\n",
       "</div>"
      ],
      "text/plain": [
       "     Home Ownership  Annual Income Years in current job  Tax Liens  \\\n",
       "44    Have Mortgage      1334256.0            10+ years        0.0   \n",
       "617   Home Mortgage            NaN              3 years        0.0   \n",
       "2617  Home Mortgage      3217802.0            10+ years        0.0   \n",
       "\n",
       "      Number of Open Accounts  Years of Credit History  Maximum Open Credit  \\\n",
       "44                       17.0                     15.4             478159.0   \n",
       "617                      13.0                     27.5             478159.0   \n",
       "2617                     12.0                     35.5             478159.0   \n",
       "\n",
       "      Number of Credit Problems  Months since last delinquent  Bankruptcies  \\\n",
       "44                          1.0                          35.0           0.0   \n",
       "617                         0.0                           NaN           0.0   \n",
       "2617                        0.0                           NaN           0.0   \n",
       "\n",
       "                 Purpose        Term  Current Loan Amount  \\\n",
       "44           take a trip  Short Term              33110.0   \n",
       "617   debt consolidation  Short Term             529892.0   \n",
       "2617               other  Short Term              50116.0   \n",
       "\n",
       "      Current Credit Balance  Monthly Debt  Credit Score  Credit Default  \\\n",
       "44                  656450.0       34357.0         729.0               0   \n",
       "617                1126814.0        5492.0           NaN               0   \n",
       "2617               1834450.0       20272.0         750.0               0   \n",
       "\n",
       "      Current Loan Amount Outlier  Maximum Open Credit Outlier  \n",
       "44                              0                            1  \n",
       "617                             0                            1  \n",
       "2617                            0                            1  "
      ]
     },
     "execution_count": 1936,
     "metadata": {},
     "output_type": "execute_result"
    }
   ],
   "source": [
    "train_df[train_df['Maximum Open Credit Outlier'] == 1]"
   ]
  },
  {
   "cell_type": "markdown",
   "id": "28bcf85f",
   "metadata": {},
   "source": [
    "#### Months since last delinquent"
   ]
  },
  {
   "cell_type": "code",
   "execution_count": 1937,
   "id": "ecc19a75",
   "metadata": {},
   "outputs": [
    {
     "data": {
      "text/plain": [
       "count    3419.000000\n",
       "mean       34.692600\n",
       "std        21.688806\n",
       "min         0.000000\n",
       "25%        16.000000\n",
       "50%        32.000000\n",
       "75%        50.000000\n",
       "max       118.000000\n",
       "Name: Months since last delinquent, dtype: float64"
      ]
     },
     "execution_count": 1937,
     "metadata": {},
     "output_type": "execute_result"
    }
   ],
   "source": [
    "train_df['Months since last delinquent'].describe()"
   ]
  },
  {
   "cell_type": "markdown",
   "id": "6927b4e1",
   "metadata": {},
   "source": [
    "Видим, что пропущено более 50% значений, это может означать, что просрочки платежа нет, поэтому заменим пропуски нулями в последующем."
   ]
  },
  {
   "cell_type": "markdown",
   "id": "aa070559",
   "metadata": {},
   "source": [
    "#### Credit Score"
   ]
  },
  {
   "cell_type": "code",
   "execution_count": 1938,
   "id": "4e217773",
   "metadata": {},
   "outputs": [
    {
     "data": {
      "text/plain": [
       "count    5943.000000\n",
       "mean     1151.087498\n",
       "std      1604.451418\n",
       "min       585.000000\n",
       "25%       711.000000\n",
       "50%       731.000000\n",
       "75%       743.000000\n",
       "max      7510.000000\n",
       "Name: Credit Score, dtype: float64"
      ]
     },
     "execution_count": 1938,
     "metadata": {},
     "output_type": "execute_result"
    }
   ],
   "source": [
    "train_df['Credit Score'].describe()"
   ]
  },
  {
   "cell_type": "code",
   "execution_count": 9,
   "id": "75d22c08",
   "metadata": {},
   "outputs": [
    {
     "data": {
      "text/plain": [
       "Credit Score    400\n",
       "dtype: int64"
      ]
     },
     "execution_count": 9,
     "metadata": {},
     "output_type": "execute_result"
    }
   ],
   "source": [
    "train_df.loc[train_df['Credit Score'] > 850, ['Credit Score']].count()"
   ]
  },
  {
   "cell_type": "code",
   "execution_count": 1940,
   "id": "cc92a3bd",
   "metadata": {},
   "outputs": [
    {
     "data": {
      "text/plain": [
       "731.0"
      ]
     },
     "execution_count": 1940,
     "metadata": {},
     "output_type": "execute_result"
    }
   ],
   "source": [
    "train_df['Credit Score'].median()"
   ]
  },
  {
   "cell_type": "markdown",
   "id": "d4e308b2",
   "metadata": {},
   "source": [
    "Согласно системе кредитного скоринга FICO score, показатель принимает значения от 300 до 850 и 0. Соответственно, все показатели, выше 850 - явные выбросы. Пометим их через новый признак Credit Score Outlier, а выбросы обработаем следующим образом: разделим значения более 1000 на 10."
   ]
  },
  {
   "cell_type": "code",
   "execution_count": 10,
   "id": "0e963983",
   "metadata": {},
   "outputs": [],
   "source": [
    "train_df['Credit Score Outlier'] = 0\n",
    "train_df.loc[train_df['Credit Score'] > 850, 'Credit Score Outlier'] = 1\n",
    "train_df.loc[train_df['Credit Score'] > 850, 'Credit Score'] = train_df.loc[train_df['Credit Score'] > 850, 'Credit Score']/10"
   ]
  },
  {
   "cell_type": "markdown",
   "id": "6e9742a1",
   "metadata": {},
   "source": [
    "#### Monthly Debt"
   ]
  },
  {
   "cell_type": "code",
   "execution_count": 1942,
   "id": "655080ff",
   "metadata": {},
   "outputs": [
    {
     "data": {
      "text/plain": [
       "40546.2"
      ]
     },
     "execution_count": 1942,
     "metadata": {},
     "output_type": "execute_result"
    }
   ],
   "source": [
    "train_df['Monthly Debt'].quantile(.95)"
   ]
  },
  {
   "cell_type": "code",
   "execution_count": 1943,
   "id": "3929ec73",
   "metadata": {},
   "outputs": [
    {
     "data": {
      "text/plain": [
       "count      7500.000000\n",
       "mean      18314.454133\n",
       "std       11926.764673\n",
       "min           0.000000\n",
       "25%       10067.500000\n",
       "50%       16076.500000\n",
       "75%       23818.000000\n",
       "max      136679.000000\n",
       "Name: Monthly Debt, dtype: float64"
      ]
     },
     "execution_count": 1943,
     "metadata": {},
     "output_type": "execute_result"
    }
   ],
   "source": [
    "train_df['Monthly Debt'].describe()"
   ]
  },
  {
   "cell_type": "code",
   "execution_count": 1944,
   "id": "76ff6fc7",
   "metadata": {},
   "outputs": [
    {
     "data": {
      "text/plain": [
       "16076.5"
      ]
     },
     "execution_count": 1944,
     "metadata": {},
     "output_type": "execute_result"
    }
   ],
   "source": [
    "train_df['Monthly Debt'].median()"
   ]
  },
  {
   "cell_type": "markdown",
   "id": "482f641f",
   "metadata": {},
   "source": [
    "Видим явные выбросы в данном показателе. Возможно, это реальные цифры. Но для улучшения качества модели попробуем заменить экстремальные значения на показатель медианы:"
   ]
  },
  {
   "cell_type": "code",
   "execution_count": 1945,
   "id": "724874c3",
   "metadata": {},
   "outputs": [
    {
     "data": {
      "text/plain": [
       "375"
      ]
     },
     "execution_count": 1945,
     "metadata": {},
     "output_type": "execute_result"
    }
   ],
   "source": [
    "train_df[train_df['Monthly Debt'] > train_df['Monthly Debt'].quantile(.95)]['Monthly Debt'].count()"
   ]
  },
  {
   "cell_type": "code",
   "execution_count": 1946,
   "id": "757ce7b3",
   "metadata": {},
   "outputs": [],
   "source": [
    "train_df.loc[train_df['Monthly Debt'] > train_df['Monthly Debt'].quantile(.95), 'Monthly Debt'] = train_df['Monthly Debt'].median()"
   ]
  },
  {
   "cell_type": "code",
   "execution_count": 1947,
   "id": "4255115d",
   "metadata": {},
   "outputs": [
    {
     "data": {
      "text/plain": [
       "count     7500.000000\n",
       "mean     16524.408867\n",
       "std       8661.900956\n",
       "min          0.000000\n",
       "25%      10067.500000\n",
       "50%      16075.750000\n",
       "75%      21938.500000\n",
       "max      40546.000000\n",
       "Name: Monthly Debt, dtype: float64"
      ]
     },
     "execution_count": 1947,
     "metadata": {},
     "output_type": "execute_result"
    }
   ],
   "source": [
    "train_df['Monthly Debt'].describe()"
   ]
  },
  {
   "cell_type": "markdown",
   "id": "e7b183a6",
   "metadata": {},
   "source": [
    "## Обработка пропусков"
   ]
  },
  {
   "cell_type": "code",
   "execution_count": 1948,
   "id": "04fb1fcc",
   "metadata": {},
   "outputs": [
    {
     "data": {
      "text/plain": [
       "Home Ownership                     0\n",
       "Annual Income                   1557\n",
       "Years in current job             371\n",
       "Tax Liens                          0\n",
       "Number of Open Accounts            0\n",
       "Years of Credit History            0\n",
       "Maximum Open Credit                0\n",
       "Number of Credit Problems          0\n",
       "Months since last delinquent    4081\n",
       "Bankruptcies                      14\n",
       "Purpose                            0\n",
       "Term                               0\n",
       "Current Loan Amount                0\n",
       "Current Credit Balance             0\n",
       "Monthly Debt                       0\n",
       "Credit Score                    1557\n",
       "Credit Default                     0\n",
       "Current Loan Amount Outlier        0\n",
       "Maximum Open Credit Outlier        0\n",
       "Credit Score Outlier               0\n",
       "dtype: int64"
      ]
     },
     "execution_count": 1948,
     "metadata": {},
     "output_type": "execute_result"
    }
   ],
   "source": [
    "train_df.isna().sum()"
   ]
  },
  {
   "cell_type": "markdown",
   "id": "e55ea15d",
   "metadata": {},
   "source": [
    "#### Annual Income"
   ]
  },
  {
   "cell_type": "markdown",
   "id": "c51956b0",
   "metadata": {},
   "source": [
    "Когда у признака Annual Income пропущено значение, то и у Credit Score тоже пропущено значение. Предположу, что это может означать, что человек не работает, годового дохода нет. Соответственно, пропуски в показателе Annual Income заменим на 1 (чтобы пометить его таким образом, а также не вызвать ошибку деления на ноль при расчете финансовых показателей)."
   ]
  },
  {
   "cell_type": "code",
   "execution_count": 1949,
   "id": "6890b6fe",
   "metadata": {},
   "outputs": [],
   "source": [
    "train_df['Annual Income'].fillna(1, inplace=True)"
   ]
  },
  {
   "cell_type": "code",
   "execution_count": 1950,
   "id": "8a24e5e6",
   "metadata": {},
   "outputs": [
    {
     "data": {
      "text/plain": [
       "0"
      ]
     },
     "execution_count": 1950,
     "metadata": {},
     "output_type": "execute_result"
    }
   ],
   "source": [
    "train_df['Annual Income'].isna().sum()"
   ]
  },
  {
   "cell_type": "markdown",
   "id": "01587f85",
   "metadata": {},
   "source": [
    "#### Credit Score"
   ]
  },
  {
   "cell_type": "markdown",
   "id": "2b8705c7",
   "metadata": {},
   "source": [
    "##### Распределение признака Credit Score (кредитный рейтинг). Изменения целевой переменной при разных значениях кредитного рейтинга. "
   ]
  },
  {
   "cell_type": "code",
   "execution_count": 1951,
   "id": "a4cceda7",
   "metadata": {},
   "outputs": [
    {
     "data": {
      "text/plain": [
       "Text(0.5, 0, 'Credit Score')"
      ]
     },
     "execution_count": 1951,
     "metadata": {},
     "output_type": "execute_result"
    },
    {
     "data": {
      "image/png": "[encoded data removed]",
      "text/plain": [
       "<Figure size 432x288 with 1 Axes>"
      ]
     },
     "metadata": {},
     "output_type": "display_data"
    }
   ],
   "source": [
    "sns.kdeplot(train_df['Credit Score'], shade=True, legend=False)\n",
    "plt.xlabel('Credit Score')"
   ]
  },
  {
   "cell_type": "code",
   "execution_count": 1952,
   "id": "b138fd42",
   "metadata": {},
   "outputs": [
    {
     "data": {
      "text/plain": [
       "<AxesSubplot:xlabel='Credit Score', ylabel='Density'>"
      ]
     },
     "execution_count": 1952,
     "metadata": {},
     "output_type": "execute_result"
    },
    {
     "data": {
      "image/png": "[encoded data removed]",
      "text/plain": [
       "<Figure size 432x288 with 1 Axes>"
      ]
     },
     "metadata": {},
     "output_type": "display_data"
    }
   ],
   "source": [
    "sns.kdeplot(x='Credit Score', hue='Credit Default', data=train_df)"
   ]
  },
  {
   "cell_type": "markdown",
   "id": "019b5ed8",
   "metadata": {},
   "source": [
    "Вывод - группы, полученные в результате разбиения признака Credit Score по целевой переменной, имеют различные распределения, значит, критерий важен и между Credit Score и целевой переменной существует зависимость.\n",
    "Предположу, что пропуски в Credit Score можно заменить на 0, так как соответствует пропущенным значениям в признаке Annual Income, а значит рассчитать показатель невозможно. Перед этим создадим новый признак 'Credit Score NaN', чтобы пометить пропущенные данные."
   ]
  },
  {
   "cell_type": "code",
   "execution_count": 1953,
   "id": "bd23ffa6",
   "metadata": {},
   "outputs": [
    {
     "data": {
      "text/plain": [
       "729.0"
      ]
     },
     "execution_count": 1953,
     "metadata": {},
     "output_type": "execute_result"
    }
   ],
   "source": [
    "train_df['Credit Score'].median()"
   ]
  },
  {
   "cell_type": "code",
   "execution_count": 1954,
   "id": "554fc96a",
   "metadata": {},
   "outputs": [],
   "source": [
    "train_df['Credit Score NaN'] = 0\n",
    "train_df.loc[train_df['Credit Score'].isna(), 'Credit Score NaN'] = 1\n"
   ]
  },
  {
   "cell_type": "code",
   "execution_count": 1955,
   "id": "fda37a69",
   "metadata": {},
   "outputs": [],
   "source": [
    "train_df['Credit Score'].fillna(0, inplace=True)"
   ]
  },
  {
   "cell_type": "code",
   "execution_count": 1956,
   "id": "4273c285",
   "metadata": {},
   "outputs": [
    {
     "data": {
      "text/plain": [
       "0"
      ]
     },
     "execution_count": 1956,
     "metadata": {},
     "output_type": "execute_result"
    }
   ],
   "source": [
    "train_df['Credit Score'].isna().sum()"
   ]
  },
  {
   "cell_type": "markdown",
   "id": "6e218591",
   "metadata": {},
   "source": [
    "#### Years in current job"
   ]
  },
  {
   "cell_type": "markdown",
   "id": "f3f4535d",
   "metadata": {},
   "source": [
    "Пропуски в признаке Years in current job (количество лет на текущем месте работы) могут означать отсутствие данных или то, что клиент банка еще или уже не работает. Пометим пропуски дополнительным признаком и заменим на 0."
   ]
  },
  {
   "cell_type": "code",
   "execution_count": 1957,
   "id": "62adf3f9",
   "metadata": {},
   "outputs": [
    {
     "data": {
      "text/plain": [
       "1 year        504\n",
       "10+ years    2332\n",
       "2 years       705\n",
       "3 years       620\n",
       "4 years       469\n",
       "5 years       516\n",
       "6 years       426\n",
       "7 years       396\n",
       "8 years       339\n",
       "9 years       259\n",
       "< 1 year      563\n",
       "Name: Years in current job, dtype: int64"
      ]
     },
     "execution_count": 1957,
     "metadata": {},
     "output_type": "execute_result"
    }
   ],
   "source": [
    "train_df['Years in current job'].value_counts().sort_index()"
   ]
  },
  {
   "cell_type": "code",
   "execution_count": 1958,
   "id": "7462c551",
   "metadata": {},
   "outputs": [
    {
     "data": {
      "text/plain": [
       "371"
      ]
     },
     "execution_count": 1958,
     "metadata": {},
     "output_type": "execute_result"
    }
   ],
   "source": [
    "train_df['Years in current job'].isna().sum()"
   ]
  },
  {
   "cell_type": "code",
   "execution_count": 1959,
   "id": "54a95f3b",
   "metadata": {},
   "outputs": [
    {
     "data": {
      "text/plain": [
       "'10+ years'"
      ]
     },
     "execution_count": 1959,
     "metadata": {},
     "output_type": "execute_result"
    }
   ],
   "source": [
    "train_df['Years in current job'].mode()[0]"
   ]
  },
  {
   "cell_type": "code",
   "execution_count": 11,
   "id": "e7f9e3e1",
   "metadata": {},
   "outputs": [],
   "source": [
    "train_df['Years in current job NaN'] = 0\n",
    "train_df.loc[train_df['Years in current job'].isna(), 'Years in current job NaN'] = 1\n",
    "train_df['Years in current job'].fillna(0, inplace=True)"
   ]
  },
  {
   "cell_type": "code",
   "execution_count": 1961,
   "id": "afd5f7ac",
   "metadata": {},
   "outputs": [
    {
     "data": {
      "text/plain": [
       "0"
      ]
     },
     "execution_count": 1961,
     "metadata": {},
     "output_type": "execute_result"
    }
   ],
   "source": [
    "train_df['Years in current job'].isna().sum()"
   ]
  },
  {
   "cell_type": "markdown",
   "id": "fa1ea3c4",
   "metadata": {},
   "source": [
    "#### Months since last delinquent"
   ]
  },
  {
   "cell_type": "markdown",
   "id": "751b5e86",
   "metadata": {},
   "source": [
    "Пропущено более 50% значений. Попробуем оценить важность данного признака в разрезе целевой переменной."
   ]
  },
  {
   "cell_type": "code",
   "execution_count": 1962,
   "id": "97f73884",
   "metadata": {},
   "outputs": [
    {
     "data": {
      "text/plain": [
       "<AxesSubplot:xlabel='Months since last delinquent', ylabel='Density'>"
      ]
     },
     "execution_count": 1962,
     "metadata": {},
     "output_type": "execute_result"
    },
    {
     "data": {
      "image/png": "[encoded data removed]",
      "text/plain": [
       "<Figure size 432x288 with 1 Axes>"
      ]
     },
     "metadata": {},
     "output_type": "display_data"
    }
   ],
   "source": [
    "sns.kdeplot(x='Months since last delinquent', hue='Credit Default', data=train_df)"
   ]
  },
  {
   "cell_type": "markdown",
   "id": "75e6d0c4",
   "metadata": {},
   "source": [
    "Судя по графику влияние есть. Пометим отсутствующие значения через новый признак 'Months since last delinquent NaN' и заполним их нулями, предположив, что просрочки нет."
   ]
  },
  {
   "cell_type": "code",
   "execution_count": 1963,
   "id": "6213a615",
   "metadata": {},
   "outputs": [],
   "source": [
    "train_df['Months since last delinquent NaN'] = 0\n",
    "train_df.loc[train_df['Months since last delinquent'].isna(), 'Months since last delinquent NaN'] = 1"
   ]
  },
  {
   "cell_type": "code",
   "execution_count": 1964,
   "id": "08de896b",
   "metadata": {},
   "outputs": [],
   "source": [
    "train_df['Months since last delinquent'].fillna(0, inplace=True)"
   ]
  },
  {
   "cell_type": "markdown",
   "id": "80b946d5",
   "metadata": {},
   "source": [
    "#### Bankruptcies"
   ]
  },
  {
   "cell_type": "code",
   "execution_count": 1965,
   "id": "2e8522fb",
   "metadata": {},
   "outputs": [
    {
     "data": {
      "text/plain": [
       "0.0    6660\n",
       "1.0     786\n",
       "2.0      31\n",
       "3.0       7\n",
       "4.0       2\n",
       "Name: Bankruptcies, dtype: int64"
      ]
     },
     "execution_count": 1965,
     "metadata": {},
     "output_type": "execute_result"
    }
   ],
   "source": [
    "train_df['Bankruptcies'].value_counts()"
   ]
  },
  {
   "cell_type": "markdown",
   "id": "61d006b8",
   "metadata": {},
   "source": [
    "Это категориальный признак."
   ]
  },
  {
   "cell_type": "code",
   "execution_count": 1966,
   "id": "20e33738",
   "metadata": {},
   "outputs": [
    {
     "data": {
      "text/plain": [
       "14"
      ]
     },
     "execution_count": 1966,
     "metadata": {},
     "output_type": "execute_result"
    }
   ],
   "source": [
    "train_df['Bankruptcies'].isna().sum()"
   ]
  },
  {
   "cell_type": "code",
   "execution_count": 1967,
   "id": "18e4be07",
   "metadata": {},
   "outputs": [
    {
     "data": {
      "text/plain": [
       "0.0"
      ]
     },
     "execution_count": 1967,
     "metadata": {},
     "output_type": "execute_result"
    }
   ],
   "source": [
    "train_df['Bankruptcies'].mode()[0]"
   ]
  },
  {
   "cell_type": "markdown",
   "id": "22808c5d",
   "metadata": {},
   "source": [
    "Пропуски отметим через новый признак 'Bankruptcies NaN' и заменим их на моду."
   ]
  },
  {
   "cell_type": "code",
   "execution_count": 1968,
   "id": "714e52a9",
   "metadata": {},
   "outputs": [
    {
     "data": {
      "text/plain": [
       "14"
      ]
     },
     "execution_count": 1968,
     "metadata": {},
     "output_type": "execute_result"
    }
   ],
   "source": [
    "train_df['Bankruptcies'].isna().sum()"
   ]
  },
  {
   "cell_type": "code",
   "execution_count": 1969,
   "id": "0496d4de",
   "metadata": {},
   "outputs": [],
   "source": [
    "train_df['Bankruptcies NaN'] = 0\n",
    "train_df.loc[train_df['Bankruptcies'].isna(), 'Bankruptcies NaN'] = 1\n",
    "train_df['Bankruptcies'].fillna(train_df['Bankruptcies'].mode()[0], inplace=True)"
   ]
  },
  {
   "cell_type": "markdown",
   "id": "de2c0129",
   "metadata": {},
   "source": [
    "#### Number of Credit Problems"
   ]
  },
  {
   "cell_type": "code",
   "execution_count": 1970,
   "id": "fcd481ab",
   "metadata": {},
   "outputs": [
    {
     "data": {
      "text/plain": [
       "0.0    6469\n",
       "1.0     882\n",
       "2.0      93\n",
       "3.0      35\n",
       "4.0       9\n",
       "5.0       7\n",
       "6.0       4\n",
       "7.0       1\n",
       "Name: Number of Credit Problems, dtype: int64"
      ]
     },
     "execution_count": 1970,
     "metadata": {},
     "output_type": "execute_result"
    }
   ],
   "source": [
    "train_df['Number of Credit Problems'].value_counts()"
   ]
  },
  {
   "cell_type": "markdown",
   "id": "872f2008",
   "metadata": {},
   "source": [
    "Это также категориальный признак."
   ]
  },
  {
   "cell_type": "code",
   "execution_count": 1971,
   "id": "461150bc",
   "metadata": {},
   "outputs": [
    {
     "data": {
      "text/plain": [
       "Home Ownership                      0\n",
       "Annual Income                       0\n",
       "Years in current job                0\n",
       "Tax Liens                           0\n",
       "Number of Open Accounts             0\n",
       "Years of Credit History             0\n",
       "Maximum Open Credit                 0\n",
       "Number of Credit Problems           0\n",
       "Months since last delinquent        0\n",
       "Bankruptcies                        0\n",
       "Purpose                             0\n",
       "Term                                0\n",
       "Current Loan Amount                 0\n",
       "Current Credit Balance              0\n",
       "Monthly Debt                        0\n",
       "Credit Score                        0\n",
       "Credit Default                      0\n",
       "Current Loan Amount Outlier         0\n",
       "Maximum Open Credit Outlier         0\n",
       "Credit Score Outlier                0\n",
       "Credit Score NaN                    0\n",
       "Years in current job NaN            0\n",
       "Months since last delinquent NaN    0\n",
       "Bankruptcies NaN                    0\n",
       "dtype: int64"
      ]
     },
     "execution_count": 1971,
     "metadata": {},
     "output_type": "execute_result"
    }
   ],
   "source": [
    "train_df.isna().sum()"
   ]
  },
  {
   "cell_type": "markdown",
   "id": "23139dbf",
   "metadata": {},
   "source": [
    "Пропусков больше нет."
   ]
  },
  {
   "cell_type": "markdown",
   "id": "444e94a1",
   "metadata": {},
   "source": [
    "### Построение новых признаков"
   ]
  },
  {
   "cell_type": "markdown",
   "id": "eb2756de",
   "metadata": {},
   "source": [
    "#### Home Ownership"
   ]
  },
  {
   "cell_type": "code",
   "execution_count": 1972,
   "id": "5747dd6b",
   "metadata": {},
   "outputs": [
    {
     "data": {
      "text/plain": [
       "Home Mortgage    3637\n",
       "Rent             3204\n",
       "Own Home          647\n",
       "Have Mortgage      12\n",
       "Name: Home Ownership, dtype: int64"
      ]
     },
     "execution_count": 1972,
     "metadata": {},
     "output_type": "execute_result"
    }
   ],
   "source": [
    "train_df['Home Ownership'].value_counts()"
   ]
  },
  {
   "cell_type": "markdown",
   "id": "27982a4c",
   "metadata": {},
   "source": [
    "Сравним попарно доли целевой переменной в категориях признака Home Ownership (домовладение):"
   ]
  },
  {
   "cell_type": "code",
   "execution_count": 1973,
   "id": "a8e0d04c",
   "metadata": {},
   "outputs": [
    {
     "data": {
      "text/plain": [
       "<matplotlib.legend.Legend at 0x7fa43f147f40>"
      ]
     },
     "execution_count": 1973,
     "metadata": {},
     "output_type": "execute_result"
    },
    {
     "data": {
      "image/png": "[encoded data removed]",
      "text/plain": [
       "<Figure size 720x360 with 1 Axes>"
      ]
     },
     "metadata": {},
     "output_type": "display_data"
    }
   ],
   "source": [
    "plt.figure(figsize = (10, 5))\n",
    "sns.countplot(x='Home Ownership', hue='Credit Default', data=train_df)\n",
    "plt.legend(title='Credit Default', loc='upper right')"
   ]
  },
  {
   "cell_type": "markdown",
   "id": "80dff59c",
   "metadata": {},
   "source": [
    "Наблюдение\n",
    "\n",
    "Из графика видно, что значения Own Home и Rent признака 'Home Ownership' имеют схожие доли в разрезе целевой переменной. Если это действительно так, то можно будет, например, объединить их в одну категорию.\n",
    "\n",
    "Гипотеза\n",
    "\n",
    "Нулевая гипотеза: ожидаемые и наблюдаемые частоты согласованы.\n",
    "\n",
    "Альтернативная гипотеза: отклонения в частотах выходят за рамки случайных колебаний, расхождения статистически значимы.\n",
    "\n",
    "Критерий: Хи-квадрат Пирсона\n",
    "\n",
    "Уровень значимости  𝛼=0.05 \n",
    "\n",
    "Критическая область: двухсторонняя\n",
    "\n",
    "Для проверки данной гипотезы необходимо подать наблюдаемые частоты категорий Own Home и Rent признака Home Owvership в выбранный критерий, после чего оценить значение достигаемого уровня значимости p-value и сравнить с его с выбранным порогом альфа. Если p-value получится больше выбранного порога, то гипотезу о согласованности частот можно не отбрасывать."
   ]
  },
  {
   "cell_type": "markdown",
   "id": "3707de25",
   "metadata": {},
   "source": [
    "Сформируем выборку и рассчитаем наблюдаемые частоты"
   ]
  },
  {
   "cell_type": "code",
   "execution_count": 1974,
   "id": "2e1cb082",
   "metadata": {},
   "outputs": [
    {
     "data": {
      "text/html": [
       "<div>\n",
       "<style scoped>\n",
       "    .dataframe tbody tr th:only-of-type {\n",
       "        vertical-align: middle;\n",
       "    }\n",
       "\n",
       "    .dataframe tbody tr th {\n",
       "        vertical-align: top;\n",
       "    }\n",
       "\n",
       "    .dataframe thead th {\n",
       "        text-align: right;\n",
       "    }\n",
       "</style>\n",
       "<table border=\"1\" class=\"dataframe\">\n",
       "  <thead>\n",
       "    <tr style=\"text-align: right;\">\n",
       "      <th></th>\n",
       "      <th>Home Ownership</th>\n",
       "      <th>Credit Default</th>\n",
       "      <th>id</th>\n",
       "    </tr>\n",
       "  </thead>\n",
       "  <tbody>\n",
       "    <tr>\n",
       "      <th>6146</th>\n",
       "      <td>Rent</td>\n",
       "      <td>0</td>\n",
       "      <td>6146</td>\n",
       "    </tr>\n",
       "    <tr>\n",
       "      <th>534</th>\n",
       "      <td>Own Home</td>\n",
       "      <td>1</td>\n",
       "      <td>534</td>\n",
       "    </tr>\n",
       "    <tr>\n",
       "      <th>6239</th>\n",
       "      <td>Own Home</td>\n",
       "      <td>0</td>\n",
       "      <td>6239</td>\n",
       "    </tr>\n",
       "    <tr>\n",
       "      <th>5164</th>\n",
       "      <td>Rent</td>\n",
       "      <td>1</td>\n",
       "      <td>5164</td>\n",
       "    </tr>\n",
       "    <tr>\n",
       "      <th>7158</th>\n",
       "      <td>Rent</td>\n",
       "      <td>0</td>\n",
       "      <td>7158</td>\n",
       "    </tr>\n",
       "    <tr>\n",
       "      <th>...</th>\n",
       "      <td>...</td>\n",
       "      <td>...</td>\n",
       "      <td>...</td>\n",
       "    </tr>\n",
       "    <tr>\n",
       "      <th>4082</th>\n",
       "      <td>Rent</td>\n",
       "      <td>0</td>\n",
       "      <td>4082</td>\n",
       "    </tr>\n",
       "    <tr>\n",
       "      <th>1974</th>\n",
       "      <td>Rent</td>\n",
       "      <td>1</td>\n",
       "      <td>1974</td>\n",
       "    </tr>\n",
       "    <tr>\n",
       "      <th>3507</th>\n",
       "      <td>Own Home</td>\n",
       "      <td>0</td>\n",
       "      <td>3507</td>\n",
       "    </tr>\n",
       "    <tr>\n",
       "      <th>2847</th>\n",
       "      <td>Rent</td>\n",
       "      <td>1</td>\n",
       "      <td>2847</td>\n",
       "    </tr>\n",
       "    <tr>\n",
       "      <th>5811</th>\n",
       "      <td>Rent</td>\n",
       "      <td>0</td>\n",
       "      <td>5811</td>\n",
       "    </tr>\n",
       "  </tbody>\n",
       "</table>\n",
       "<p>1000 rows × 3 columns</p>\n",
       "</div>"
      ],
      "text/plain": [
       "     Home Ownership  Credit Default    id\n",
       "6146           Rent               0  6146\n",
       "534        Own Home               1   534\n",
       "6239       Own Home               0  6239\n",
       "5164           Rent               1  5164\n",
       "7158           Rent               0  7158\n",
       "...             ...             ...   ...\n",
       "4082           Rent               0  4082\n",
       "1974           Rent               1  1974\n",
       "3507       Own Home               0  3507\n",
       "2847           Rent               1  2847\n",
       "5811           Rent               0  5811\n",
       "\n",
       "[1000 rows x 3 columns]"
      ]
     },
     "execution_count": 1974,
     "metadata": {},
     "output_type": "execute_result"
    }
   ],
   "source": [
    "home_ownership_and_target = train_df.loc[train_df['Home Ownership'].isin(['Own Home', 'Rent']), ['Home Ownership', 'Credit Default']].sample(1000)\n",
    "home_ownership_and_target['id'] = home_ownership_and_target.index\n",
    "\n",
    "home_ownership_and_target"
   ]
  },
  {
   "cell_type": "code",
   "execution_count": 1975,
   "id": "d76c546b",
   "metadata": {},
   "outputs": [
    {
     "data": {
      "text/html": [
       "<div>\n",
       "<style scoped>\n",
       "    .dataframe tbody tr th:only-of-type {\n",
       "        vertical-align: middle;\n",
       "    }\n",
       "\n",
       "    .dataframe tbody tr th {\n",
       "        vertical-align: top;\n",
       "    }\n",
       "\n",
       "    .dataframe thead th {\n",
       "        text-align: right;\n",
       "    }\n",
       "</style>\n",
       "<table border=\"1\" class=\"dataframe\">\n",
       "  <thead>\n",
       "    <tr style=\"text-align: right;\">\n",
       "      <th>Credit Default</th>\n",
       "      <th>0</th>\n",
       "      <th>1</th>\n",
       "    </tr>\n",
       "    <tr>\n",
       "      <th>Home Ownership</th>\n",
       "      <th></th>\n",
       "      <th></th>\n",
       "    </tr>\n",
       "  </thead>\n",
       "  <tbody>\n",
       "    <tr>\n",
       "      <th>Own Home</th>\n",
       "      <td>121</td>\n",
       "      <td>37</td>\n",
       "    </tr>\n",
       "    <tr>\n",
       "      <th>Rent</th>\n",
       "      <td>572</td>\n",
       "      <td>270</td>\n",
       "    </tr>\n",
       "  </tbody>\n",
       "</table>\n",
       "</div>"
      ],
      "text/plain": [
       "Credit Default    0    1\n",
       "Home Ownership          \n",
       "Own Home        121   37\n",
       "Rent            572  270"
      ]
     },
     "execution_count": 1975,
     "metadata": {},
     "output_type": "execute_result"
    }
   ],
   "source": [
    "table = home_ownership_and_target.pivot_table(values='id', index='Home Ownership', columns='Credit Default', aggfunc='count')\n",
    "table"
   ]
  },
  {
   "cell_type": "code",
   "execution_count": 1976,
   "id": "7158b446",
   "metadata": {},
   "outputs": [
    {
     "data": {
      "text/plain": [
       "0.03056131193798719"
      ]
     },
     "execution_count": 1976,
     "metadata": {},
     "output_type": "execute_result"
    }
   ],
   "source": [
    "chi2, p, dof, expected = chi2_contingency(table, correction=False)\n",
    "p"
   ]
  },
  {
   "cell_type": "code",
   "execution_count": 1977,
   "id": "e6723fff",
   "metadata": {},
   "outputs": [
    {
     "data": {
      "text/plain": [
       "False"
      ]
     },
     "execution_count": 1977,
     "metadata": {},
     "output_type": "execute_result"
    }
   ],
   "source": [
    "p > 0.05"
   ]
  },
  {
   "cell_type": "markdown",
   "id": "8d5feb55",
   "metadata": {},
   "source": [
    "P-value получилось больше выбранного уровня значимости, соответственно у нас нет оснований для отвержения нулевой гипотезы, а это значит, что категории Own Home и Rent одинаково влияют на целевую переменную и их можно объединить в одну категорию."
   ]
  },
  {
   "cell_type": "markdown",
   "id": "af480498",
   "metadata": {},
   "source": [
    "Проверим нашу гипотезу и на признаке Own Home и Have Mortgage (на графике распределение последнего не видно):"
   ]
  },
  {
   "cell_type": "code",
   "execution_count": 1978,
   "id": "b207d5c3",
   "metadata": {},
   "outputs": [
    {
     "data": {
      "text/html": [
       "<div>\n",
       "<style scoped>\n",
       "    .dataframe tbody tr th:only-of-type {\n",
       "        vertical-align: middle;\n",
       "    }\n",
       "\n",
       "    .dataframe tbody tr th {\n",
       "        vertical-align: top;\n",
       "    }\n",
       "\n",
       "    .dataframe thead th {\n",
       "        text-align: right;\n",
       "    }\n",
       "</style>\n",
       "<table border=\"1\" class=\"dataframe\">\n",
       "  <thead>\n",
       "    <tr style=\"text-align: right;\">\n",
       "      <th></th>\n",
       "      <th>Home Ownership</th>\n",
       "      <th>Credit Default</th>\n",
       "      <th>id</th>\n",
       "    </tr>\n",
       "  </thead>\n",
       "  <tbody>\n",
       "    <tr>\n",
       "      <th>0</th>\n",
       "      <td>Own Home</td>\n",
       "      <td>0</td>\n",
       "      <td>0</td>\n",
       "    </tr>\n",
       "    <tr>\n",
       "      <th>1</th>\n",
       "      <td>Own Home</td>\n",
       "      <td>1</td>\n",
       "      <td>1</td>\n",
       "    </tr>\n",
       "    <tr>\n",
       "      <th>3</th>\n",
       "      <td>Own Home</td>\n",
       "      <td>0</td>\n",
       "      <td>3</td>\n",
       "    </tr>\n",
       "    <tr>\n",
       "      <th>14</th>\n",
       "      <td>Own Home</td>\n",
       "      <td>0</td>\n",
       "      <td>14</td>\n",
       "    </tr>\n",
       "    <tr>\n",
       "      <th>23</th>\n",
       "      <td>Own Home</td>\n",
       "      <td>1</td>\n",
       "      <td>23</td>\n",
       "    </tr>\n",
       "    <tr>\n",
       "      <th>...</th>\n",
       "      <td>...</td>\n",
       "      <td>...</td>\n",
       "      <td>...</td>\n",
       "    </tr>\n",
       "    <tr>\n",
       "      <th>7473</th>\n",
       "      <td>Own Home</td>\n",
       "      <td>0</td>\n",
       "      <td>7473</td>\n",
       "    </tr>\n",
       "    <tr>\n",
       "      <th>7474</th>\n",
       "      <td>Own Home</td>\n",
       "      <td>0</td>\n",
       "      <td>7474</td>\n",
       "    </tr>\n",
       "    <tr>\n",
       "      <th>7479</th>\n",
       "      <td>Own Home</td>\n",
       "      <td>0</td>\n",
       "      <td>7479</td>\n",
       "    </tr>\n",
       "    <tr>\n",
       "      <th>7490</th>\n",
       "      <td>Own Home</td>\n",
       "      <td>1</td>\n",
       "      <td>7490</td>\n",
       "    </tr>\n",
       "    <tr>\n",
       "      <th>7494</th>\n",
       "      <td>Own Home</td>\n",
       "      <td>0</td>\n",
       "      <td>7494</td>\n",
       "    </tr>\n",
       "  </tbody>\n",
       "</table>\n",
       "<p>659 rows × 3 columns</p>\n",
       "</div>"
      ],
      "text/plain": [
       "     Home Ownership  Credit Default    id\n",
       "0          Own Home               0     0\n",
       "1          Own Home               1     1\n",
       "3          Own Home               0     3\n",
       "14         Own Home               0    14\n",
       "23         Own Home               1    23\n",
       "...             ...             ...   ...\n",
       "7473       Own Home               0  7473\n",
       "7474       Own Home               0  7474\n",
       "7479       Own Home               0  7479\n",
       "7490       Own Home               1  7490\n",
       "7494       Own Home               0  7494\n",
       "\n",
       "[659 rows x 3 columns]"
      ]
     },
     "execution_count": 1978,
     "metadata": {},
     "output_type": "execute_result"
    }
   ],
   "source": [
    "home_ownership_and_target_1 = train_df.loc[train_df['Home Ownership'].isin(['Own Home', 'Have Mortgage']), ['Home Ownership', 'Credit Default']]\n",
    "home_ownership_and_target_1['id'] = home_ownership_and_target_1.index\n",
    "\n",
    "home_ownership_and_target_1"
   ]
  },
  {
   "cell_type": "code",
   "execution_count": 1979,
   "id": "f165d2a7",
   "metadata": {},
   "outputs": [
    {
     "data": {
      "text/html": [
       "<div>\n",
       "<style scoped>\n",
       "    .dataframe tbody tr th:only-of-type {\n",
       "        vertical-align: middle;\n",
       "    }\n",
       "\n",
       "    .dataframe tbody tr th {\n",
       "        vertical-align: top;\n",
       "    }\n",
       "\n",
       "    .dataframe thead th {\n",
       "        text-align: right;\n",
       "    }\n",
       "</style>\n",
       "<table border=\"1\" class=\"dataframe\">\n",
       "  <thead>\n",
       "    <tr style=\"text-align: right;\">\n",
       "      <th>Credit Default</th>\n",
       "      <th>0</th>\n",
       "      <th>1</th>\n",
       "    </tr>\n",
       "    <tr>\n",
       "      <th>Home Ownership</th>\n",
       "      <th></th>\n",
       "      <th></th>\n",
       "    </tr>\n",
       "  </thead>\n",
       "  <tbody>\n",
       "    <tr>\n",
       "      <th>Have Mortgage</th>\n",
       "      <td>10</td>\n",
       "      <td>2</td>\n",
       "    </tr>\n",
       "    <tr>\n",
       "      <th>Own Home</th>\n",
       "      <td>455</td>\n",
       "      <td>192</td>\n",
       "    </tr>\n",
       "  </tbody>\n",
       "</table>\n",
       "</div>"
      ],
      "text/plain": [
       "Credit Default    0    1\n",
       "Home Ownership          \n",
       "Have Mortgage    10    2\n",
       "Own Home        455  192"
      ]
     },
     "execution_count": 1979,
     "metadata": {},
     "output_type": "execute_result"
    }
   ],
   "source": [
    "table_1 = home_ownership_and_target_1.pivot_table(values='id', index='Home Ownership', columns='Credit Default', aggfunc='count')\n",
    "table_1"
   ]
  },
  {
   "cell_type": "code",
   "execution_count": 1980,
   "id": "e2879b18",
   "metadata": {},
   "outputs": [
    {
     "data": {
      "text/plain": [
       "0.03056131193798719"
      ]
     },
     "execution_count": 1980,
     "metadata": {},
     "output_type": "execute_result"
    }
   ],
   "source": [
    "chi2, p, dof, expected = chi2_contingency(table, correction=False)\n",
    "p"
   ]
  },
  {
   "cell_type": "code",
   "execution_count": 1981,
   "id": "e81fa121",
   "metadata": {},
   "outputs": [
    {
     "data": {
      "text/plain": [
       "False"
      ]
     },
     "execution_count": 1981,
     "metadata": {},
     "output_type": "execute_result"
    }
   ],
   "source": [
    "p > 0.05"
   ]
  },
  {
   "cell_type": "markdown",
   "id": "e308a446",
   "metadata": {},
   "source": [
    "P-value получилось больше выбранного уровня значимости, соответственно у нас нет оснований для отвержения нулевой гипотезы, а это значит, что категории Own Home и Have Mortgage тоже одинаково влияют на целевую переменную и их можно объединить в одну категорию."
   ]
  },
  {
   "cell_type": "code",
   "execution_count": 1982,
   "id": "fbe701a6",
   "metadata": {},
   "outputs": [
    {
     "data": {
      "text/plain": [
       "Own Home         3863\n",
       "Home Mortgage    3637\n",
       "Name: Home Ownership, dtype: int64"
      ]
     },
     "execution_count": 1982,
     "metadata": {},
     "output_type": "execute_result"
    }
   ],
   "source": [
    "train_df.loc[train_df['Home Ownership'].isin(['Rent', 'Have Mortgage']), 'Home Ownership'] = 'Own Home'\n",
    "train_df['Home Ownership'].value_counts()"
   ]
  },
  {
   "cell_type": "markdown",
   "id": "e966e910",
   "metadata": {},
   "source": [
    "Теперь можно перевести Home Ownership в бинарный признак: Own Home - 1, Home Mortgage - 0:"
   ]
  },
  {
   "cell_type": "code",
   "execution_count": 1983,
   "id": "0cde7ca6",
   "metadata": {},
   "outputs": [
    {
     "data": {
      "text/html": [
       "<div>\n",
       "<style scoped>\n",
       "    .dataframe tbody tr th:only-of-type {\n",
       "        vertical-align: middle;\n",
       "    }\n",
       "\n",
       "    .dataframe tbody tr th {\n",
       "        vertical-align: top;\n",
       "    }\n",
       "\n",
       "    .dataframe thead th {\n",
       "        text-align: right;\n",
       "    }\n",
       "</style>\n",
       "<table border=\"1\" class=\"dataframe\">\n",
       "  <thead>\n",
       "    <tr style=\"text-align: right;\">\n",
       "      <th></th>\n",
       "      <th>Home Ownership</th>\n",
       "      <th>Annual Income</th>\n",
       "      <th>Years in current job</th>\n",
       "      <th>Tax Liens</th>\n",
       "      <th>Number of Open Accounts</th>\n",
       "      <th>Years of Credit History</th>\n",
       "      <th>Maximum Open Credit</th>\n",
       "      <th>Number of Credit Problems</th>\n",
       "      <th>Months since last delinquent</th>\n",
       "      <th>Bankruptcies</th>\n",
       "      <th>...</th>\n",
       "      <th>Monthly Debt</th>\n",
       "      <th>Credit Score</th>\n",
       "      <th>Credit Default</th>\n",
       "      <th>Current Loan Amount Outlier</th>\n",
       "      <th>Maximum Open Credit Outlier</th>\n",
       "      <th>Credit Score Outlier</th>\n",
       "      <th>Credit Score NaN</th>\n",
       "      <th>Years in current job NaN</th>\n",
       "      <th>Months since last delinquent NaN</th>\n",
       "      <th>Bankruptcies NaN</th>\n",
       "    </tr>\n",
       "  </thead>\n",
       "  <tbody>\n",
       "    <tr>\n",
       "      <th>0</th>\n",
       "      <td>1</td>\n",
       "      <td>482087.0</td>\n",
       "      <td>10+ years</td>\n",
       "      <td>0.0</td>\n",
       "      <td>11.0</td>\n",
       "      <td>26.3</td>\n",
       "      <td>685960.0</td>\n",
       "      <td>1.0</td>\n",
       "      <td>0.0</td>\n",
       "      <td>1.0</td>\n",
       "      <td>...</td>\n",
       "      <td>7914.0</td>\n",
       "      <td>749.0</td>\n",
       "      <td>0</td>\n",
       "      <td>1</td>\n",
       "      <td>0</td>\n",
       "      <td>0</td>\n",
       "      <td>0</td>\n",
       "      <td>1</td>\n",
       "      <td>1</td>\n",
       "      <td>0</td>\n",
       "    </tr>\n",
       "    <tr>\n",
       "      <th>1</th>\n",
       "      <td>1</td>\n",
       "      <td>1025487.0</td>\n",
       "      <td>10+ years</td>\n",
       "      <td>0.0</td>\n",
       "      <td>15.0</td>\n",
       "      <td>15.3</td>\n",
       "      <td>1181730.0</td>\n",
       "      <td>0.0</td>\n",
       "      <td>0.0</td>\n",
       "      <td>0.0</td>\n",
       "      <td>...</td>\n",
       "      <td>18373.0</td>\n",
       "      <td>737.0</td>\n",
       "      <td>1</td>\n",
       "      <td>0</td>\n",
       "      <td>0</td>\n",
       "      <td>0</td>\n",
       "      <td>0</td>\n",
       "      <td>0</td>\n",
       "      <td>1</td>\n",
       "      <td>0</td>\n",
       "    </tr>\n",
       "    <tr>\n",
       "      <th>2</th>\n",
       "      <td>0</td>\n",
       "      <td>751412.0</td>\n",
       "      <td>8 years</td>\n",
       "      <td>0.0</td>\n",
       "      <td>11.0</td>\n",
       "      <td>35.0</td>\n",
       "      <td>1182434.0</td>\n",
       "      <td>0.0</td>\n",
       "      <td>0.0</td>\n",
       "      <td>0.0</td>\n",
       "      <td>...</td>\n",
       "      <td>13651.0</td>\n",
       "      <td>742.0</td>\n",
       "      <td>0</td>\n",
       "      <td>1</td>\n",
       "      <td>0</td>\n",
       "      <td>0</td>\n",
       "      <td>0</td>\n",
       "      <td>0</td>\n",
       "      <td>1</td>\n",
       "      <td>0</td>\n",
       "    </tr>\n",
       "  </tbody>\n",
       "</table>\n",
       "<p>3 rows × 24 columns</p>\n",
       "</div>"
      ],
      "text/plain": [
       "   Home Ownership  Annual Income Years in current job  Tax Liens  \\\n",
       "0               1       482087.0            10+ years        0.0   \n",
       "1               1      1025487.0            10+ years        0.0   \n",
       "2               0       751412.0              8 years        0.0   \n",
       "\n",
       "   Number of Open Accounts  Years of Credit History  Maximum Open Credit  \\\n",
       "0                     11.0                     26.3             685960.0   \n",
       "1                     15.0                     15.3            1181730.0   \n",
       "2                     11.0                     35.0            1182434.0   \n",
       "\n",
       "   Number of Credit Problems  Months since last delinquent  Bankruptcies  ...  \\\n",
       "0                        1.0                           0.0           1.0  ...   \n",
       "1                        0.0                           0.0           0.0  ...   \n",
       "2                        0.0                           0.0           0.0  ...   \n",
       "\n",
       "  Monthly Debt Credit Score  Credit Default  Current Loan Amount Outlier  \\\n",
       "0       7914.0        749.0               0                            1   \n",
       "1      18373.0        737.0               1                            0   \n",
       "2      13651.0        742.0               0                            1   \n",
       "\n",
       "   Maximum Open Credit Outlier  Credit Score Outlier  Credit Score NaN  \\\n",
       "0                            0                     0                 0   \n",
       "1                            0                     0                 0   \n",
       "2                            0                     0                 0   \n",
       "\n",
       "   Years in current job NaN  Months since last delinquent NaN  \\\n",
       "0                         1                                 1   \n",
       "1                         0                                 1   \n",
       "2                         0                                 1   \n",
       "\n",
       "   Bankruptcies NaN  \n",
       "0                 0  \n",
       "1                 0  \n",
       "2                 0  \n",
       "\n",
       "[3 rows x 24 columns]"
      ]
     },
     "execution_count": 1983,
     "metadata": {},
     "output_type": "execute_result"
    }
   ],
   "source": [
    "train_df['Home Ownership'] = train_df['Home Ownership'].map({'Own Home': 1, 'Home Mortgage': 0})\n",
    "train_df.head(3)"
   ]
  },
  {
   "cell_type": "markdown",
   "id": "296ed427",
   "metadata": {},
   "source": [
    "#### Term"
   ]
  },
  {
   "cell_type": "code",
   "execution_count": 1984,
   "id": "306e9de3",
   "metadata": {},
   "outputs": [
    {
     "data": {
      "text/plain": [
       "Short Term    5556\n",
       "Long Term     1944\n",
       "Name: Term, dtype: int64"
      ]
     },
     "execution_count": 1984,
     "metadata": {},
     "output_type": "execute_result"
    }
   ],
   "source": [
    "train_df['Term'].value_counts()"
   ]
  },
  {
   "cell_type": "markdown",
   "id": "b0197b8d",
   "metadata": {},
   "source": [
    "Сравним доли целевой переменной в категориях признака Term (срок кредита):\n"
   ]
  },
  {
   "cell_type": "code",
   "execution_count": 1985,
   "id": "86048bc1",
   "metadata": {},
   "outputs": [
    {
     "data": {
      "text/plain": [
       "<matplotlib.legend.Legend at 0x7fa440451d30>"
      ]
     },
     "execution_count": 1985,
     "metadata": {},
     "output_type": "execute_result"
    },
    {
     "data": {
      "image/png": "[encoded data removed]",
      "text/plain": [
       "<Figure size 720x360 with 1 Axes>"
      ]
     },
     "metadata": {},
     "output_type": "display_data"
    }
   ],
   "source": [
    "plt.figure(figsize = (10, 5))\n",
    "sns.countplot(x='Term', hue='Credit Default', data=train_df)\n",
    "plt.legend(title='Credit Default', loc='upper right')"
   ]
  },
  {
   "cell_type": "markdown",
   "id": "514c6c33",
   "metadata": {},
   "source": [
    "Судя по графикам признак Term является сильным, так как очевидно, что категории при разном значении целевой переменной распределены по-разному. Переведем его в бинарный признак на основании Term: 1- Long Term, 0- Short Term:"
   ]
  },
  {
   "cell_type": "code",
   "execution_count": 1986,
   "id": "1fb28c80",
   "metadata": {},
   "outputs": [
    {
     "data": {
      "text/html": [
       "<div>\n",
       "<style scoped>\n",
       "    .dataframe tbody tr th:only-of-type {\n",
       "        vertical-align: middle;\n",
       "    }\n",
       "\n",
       "    .dataframe tbody tr th {\n",
       "        vertical-align: top;\n",
       "    }\n",
       "\n",
       "    .dataframe thead th {\n",
       "        text-align: right;\n",
       "    }\n",
       "</style>\n",
       "<table border=\"1\" class=\"dataframe\">\n",
       "  <thead>\n",
       "    <tr style=\"text-align: right;\">\n",
       "      <th></th>\n",
       "      <th>Home Ownership</th>\n",
       "      <th>Annual Income</th>\n",
       "      <th>Years in current job</th>\n",
       "      <th>Tax Liens</th>\n",
       "      <th>Number of Open Accounts</th>\n",
       "      <th>Years of Credit History</th>\n",
       "      <th>Maximum Open Credit</th>\n",
       "      <th>Number of Credit Problems</th>\n",
       "      <th>Months since last delinquent</th>\n",
       "      <th>Bankruptcies</th>\n",
       "      <th>...</th>\n",
       "      <th>Monthly Debt</th>\n",
       "      <th>Credit Score</th>\n",
       "      <th>Credit Default</th>\n",
       "      <th>Current Loan Amount Outlier</th>\n",
       "      <th>Maximum Open Credit Outlier</th>\n",
       "      <th>Credit Score Outlier</th>\n",
       "      <th>Credit Score NaN</th>\n",
       "      <th>Years in current job NaN</th>\n",
       "      <th>Months since last delinquent NaN</th>\n",
       "      <th>Bankruptcies NaN</th>\n",
       "    </tr>\n",
       "  </thead>\n",
       "  <tbody>\n",
       "    <tr>\n",
       "      <th>0</th>\n",
       "      <td>1</td>\n",
       "      <td>482087.0</td>\n",
       "      <td>10+ years</td>\n",
       "      <td>0.0</td>\n",
       "      <td>11.0</td>\n",
       "      <td>26.3</td>\n",
       "      <td>685960.0</td>\n",
       "      <td>1.0</td>\n",
       "      <td>0.0</td>\n",
       "      <td>1.0</td>\n",
       "      <td>...</td>\n",
       "      <td>7914.0</td>\n",
       "      <td>749.0</td>\n",
       "      <td>0</td>\n",
       "      <td>1</td>\n",
       "      <td>0</td>\n",
       "      <td>0</td>\n",
       "      <td>0</td>\n",
       "      <td>1</td>\n",
       "      <td>1</td>\n",
       "      <td>0</td>\n",
       "    </tr>\n",
       "    <tr>\n",
       "      <th>1</th>\n",
       "      <td>1</td>\n",
       "      <td>1025487.0</td>\n",
       "      <td>10+ years</td>\n",
       "      <td>0.0</td>\n",
       "      <td>15.0</td>\n",
       "      <td>15.3</td>\n",
       "      <td>1181730.0</td>\n",
       "      <td>0.0</td>\n",
       "      <td>0.0</td>\n",
       "      <td>0.0</td>\n",
       "      <td>...</td>\n",
       "      <td>18373.0</td>\n",
       "      <td>737.0</td>\n",
       "      <td>1</td>\n",
       "      <td>0</td>\n",
       "      <td>0</td>\n",
       "      <td>0</td>\n",
       "      <td>0</td>\n",
       "      <td>0</td>\n",
       "      <td>1</td>\n",
       "      <td>0</td>\n",
       "    </tr>\n",
       "    <tr>\n",
       "      <th>2</th>\n",
       "      <td>0</td>\n",
       "      <td>751412.0</td>\n",
       "      <td>8 years</td>\n",
       "      <td>0.0</td>\n",
       "      <td>11.0</td>\n",
       "      <td>35.0</td>\n",
       "      <td>1182434.0</td>\n",
       "      <td>0.0</td>\n",
       "      <td>0.0</td>\n",
       "      <td>0.0</td>\n",
       "      <td>...</td>\n",
       "      <td>13651.0</td>\n",
       "      <td>742.0</td>\n",
       "      <td>0</td>\n",
       "      <td>1</td>\n",
       "      <td>0</td>\n",
       "      <td>0</td>\n",
       "      <td>0</td>\n",
       "      <td>0</td>\n",
       "      <td>1</td>\n",
       "      <td>0</td>\n",
       "    </tr>\n",
       "  </tbody>\n",
       "</table>\n",
       "<p>3 rows × 24 columns</p>\n",
       "</div>"
      ],
      "text/plain": [
       "   Home Ownership  Annual Income Years in current job  Tax Liens  \\\n",
       "0               1       482087.0            10+ years        0.0   \n",
       "1               1      1025487.0            10+ years        0.0   \n",
       "2               0       751412.0              8 years        0.0   \n",
       "\n",
       "   Number of Open Accounts  Years of Credit History  Maximum Open Credit  \\\n",
       "0                     11.0                     26.3             685960.0   \n",
       "1                     15.0                     15.3            1181730.0   \n",
       "2                     11.0                     35.0            1182434.0   \n",
       "\n",
       "   Number of Credit Problems  Months since last delinquent  Bankruptcies  ...  \\\n",
       "0                        1.0                           0.0           1.0  ...   \n",
       "1                        0.0                           0.0           0.0  ...   \n",
       "2                        0.0                           0.0           0.0  ...   \n",
       "\n",
       "  Monthly Debt  Credit Score  Credit Default  Current Loan Amount Outlier  \\\n",
       "0       7914.0         749.0               0                            1   \n",
       "1      18373.0         737.0               1                            0   \n",
       "2      13651.0         742.0               0                            1   \n",
       "\n",
       "   Maximum Open Credit Outlier  Credit Score Outlier  Credit Score NaN  \\\n",
       "0                            0                     0                 0   \n",
       "1                            0                     0                 0   \n",
       "2                            0                     0                 0   \n",
       "\n",
       "   Years in current job NaN  Months since last delinquent NaN  \\\n",
       "0                         1                                 1   \n",
       "1                         0                                 1   \n",
       "2                         0                                 1   \n",
       "\n",
       "   Bankruptcies NaN  \n",
       "0                 0  \n",
       "1                 0  \n",
       "2                 0  \n",
       "\n",
       "[3 rows x 24 columns]"
      ]
     },
     "execution_count": 1986,
     "metadata": {},
     "output_type": "execute_result"
    }
   ],
   "source": [
    "train_df['Term'] = train_df['Term'].map({'Long Term': 1, 'Short Term': 0})\n",
    "train_df.head(3)"
   ]
  },
  {
   "cell_type": "markdown",
   "id": "c5378d7d",
   "metadata": {},
   "source": [
    "#### Years in current job - сделаем разбивку на категории: 0, до 3, 4-6, 7-9, 10+ лет"
   ]
  },
  {
   "cell_type": "code",
   "execution_count": 12,
   "id": "b4b08b51",
   "metadata": {},
   "outputs": [],
   "source": [
    "train_df['Years in current job'] = train_df['Years in current job'].map({'< 1 year':0, \n",
    "                                                                       '1 year':0, \n",
    "                                                                       '2 years':0, \n",
    "                                                                       '3 years':0, \n",
    "                                                                       '4 years':1, \n",
    "                                                                       '5 years':1, \n",
    "                                                                       '6 years':1, \n",
    "                                                                       '7 years':2,\n",
    "                                                                       '8 years':2,\n",
    "                                                                       '9 years':2,\n",
    "                                                                       '10+ years':3,\n",
    "                                                                        0 : 4})"
   ]
  },
  {
   "cell_type": "code",
   "execution_count": 1988,
   "id": "80c794c7",
   "metadata": {},
   "outputs": [
    {
     "data": {
      "text/html": [
       "<div>\n",
       "<style scoped>\n",
       "    .dataframe tbody tr th:only-of-type {\n",
       "        vertical-align: middle;\n",
       "    }\n",
       "\n",
       "    .dataframe tbody tr th {\n",
       "        vertical-align: top;\n",
       "    }\n",
       "\n",
       "    .dataframe thead th {\n",
       "        text-align: right;\n",
       "    }\n",
       "</style>\n",
       "<table border=\"1\" class=\"dataframe\">\n",
       "  <thead>\n",
       "    <tr style=\"text-align: right;\">\n",
       "      <th></th>\n",
       "      <th>Home Ownership</th>\n",
       "      <th>Annual Income</th>\n",
       "      <th>Years in current job</th>\n",
       "      <th>Tax Liens</th>\n",
       "      <th>Number of Open Accounts</th>\n",
       "      <th>Years of Credit History</th>\n",
       "      <th>Maximum Open Credit</th>\n",
       "      <th>Number of Credit Problems</th>\n",
       "      <th>Months since last delinquent</th>\n",
       "      <th>Bankruptcies</th>\n",
       "      <th>...</th>\n",
       "      <th>Monthly Debt</th>\n",
       "      <th>Credit Score</th>\n",
       "      <th>Credit Default</th>\n",
       "      <th>Current Loan Amount Outlier</th>\n",
       "      <th>Maximum Open Credit Outlier</th>\n",
       "      <th>Credit Score Outlier</th>\n",
       "      <th>Credit Score NaN</th>\n",
       "      <th>Years in current job NaN</th>\n",
       "      <th>Months since last delinquent NaN</th>\n",
       "      <th>Bankruptcies NaN</th>\n",
       "    </tr>\n",
       "  </thead>\n",
       "  <tbody>\n",
       "    <tr>\n",
       "      <th>0</th>\n",
       "      <td>1</td>\n",
       "      <td>482087.0</td>\n",
       "      <td>3</td>\n",
       "      <td>0.0</td>\n",
       "      <td>11.0</td>\n",
       "      <td>26.3</td>\n",
       "      <td>685960.0</td>\n",
       "      <td>1.0</td>\n",
       "      <td>0.0</td>\n",
       "      <td>1.0</td>\n",
       "      <td>...</td>\n",
       "      <td>7914.0</td>\n",
       "      <td>749.0</td>\n",
       "      <td>0</td>\n",
       "      <td>1</td>\n",
       "      <td>0</td>\n",
       "      <td>0</td>\n",
       "      <td>0</td>\n",
       "      <td>1</td>\n",
       "      <td>1</td>\n",
       "      <td>0</td>\n",
       "    </tr>\n",
       "    <tr>\n",
       "      <th>1</th>\n",
       "      <td>1</td>\n",
       "      <td>1025487.0</td>\n",
       "      <td>3</td>\n",
       "      <td>0.0</td>\n",
       "      <td>15.0</td>\n",
       "      <td>15.3</td>\n",
       "      <td>1181730.0</td>\n",
       "      <td>0.0</td>\n",
       "      <td>0.0</td>\n",
       "      <td>0.0</td>\n",
       "      <td>...</td>\n",
       "      <td>18373.0</td>\n",
       "      <td>737.0</td>\n",
       "      <td>1</td>\n",
       "      <td>0</td>\n",
       "      <td>0</td>\n",
       "      <td>0</td>\n",
       "      <td>0</td>\n",
       "      <td>0</td>\n",
       "      <td>1</td>\n",
       "      <td>0</td>\n",
       "    </tr>\n",
       "    <tr>\n",
       "      <th>2</th>\n",
       "      <td>0</td>\n",
       "      <td>751412.0</td>\n",
       "      <td>2</td>\n",
       "      <td>0.0</td>\n",
       "      <td>11.0</td>\n",
       "      <td>35.0</td>\n",
       "      <td>1182434.0</td>\n",
       "      <td>0.0</td>\n",
       "      <td>0.0</td>\n",
       "      <td>0.0</td>\n",
       "      <td>...</td>\n",
       "      <td>13651.0</td>\n",
       "      <td>742.0</td>\n",
       "      <td>0</td>\n",
       "      <td>1</td>\n",
       "      <td>0</td>\n",
       "      <td>0</td>\n",
       "      <td>0</td>\n",
       "      <td>0</td>\n",
       "      <td>1</td>\n",
       "      <td>0</td>\n",
       "    </tr>\n",
       "    <tr>\n",
       "      <th>3</th>\n",
       "      <td>1</td>\n",
       "      <td>805068.0</td>\n",
       "      <td>1</td>\n",
       "      <td>0.0</td>\n",
       "      <td>8.0</td>\n",
       "      <td>22.5</td>\n",
       "      <td>147400.0</td>\n",
       "      <td>1.0</td>\n",
       "      <td>0.0</td>\n",
       "      <td>1.0</td>\n",
       "      <td>...</td>\n",
       "      <td>11338.0</td>\n",
       "      <td>694.0</td>\n",
       "      <td>0</td>\n",
       "      <td>0</td>\n",
       "      <td>0</td>\n",
       "      <td>0</td>\n",
       "      <td>0</td>\n",
       "      <td>0</td>\n",
       "      <td>1</td>\n",
       "      <td>0</td>\n",
       "    </tr>\n",
       "    <tr>\n",
       "      <th>4</th>\n",
       "      <td>1</td>\n",
       "      <td>776264.0</td>\n",
       "      <td>2</td>\n",
       "      <td>0.0</td>\n",
       "      <td>13.0</td>\n",
       "      <td>13.6</td>\n",
       "      <td>385836.0</td>\n",
       "      <td>1.0</td>\n",
       "      <td>0.0</td>\n",
       "      <td>0.0</td>\n",
       "      <td>...</td>\n",
       "      <td>7180.0</td>\n",
       "      <td>719.0</td>\n",
       "      <td>0</td>\n",
       "      <td>0</td>\n",
       "      <td>0</td>\n",
       "      <td>0</td>\n",
       "      <td>0</td>\n",
       "      <td>0</td>\n",
       "      <td>1</td>\n",
       "      <td>0</td>\n",
       "    </tr>\n",
       "  </tbody>\n",
       "</table>\n",
       "<p>5 rows × 24 columns</p>\n",
       "</div>"
      ],
      "text/plain": [
       "   Home Ownership  Annual Income  Years in current job  Tax Liens  \\\n",
       "0               1       482087.0                     3        0.0   \n",
       "1               1      1025487.0                     3        0.0   \n",
       "2               0       751412.0                     2        0.0   \n",
       "3               1       805068.0                     1        0.0   \n",
       "4               1       776264.0                     2        0.0   \n",
       "\n",
       "   Number of Open Accounts  Years of Credit History  Maximum Open Credit  \\\n",
       "0                     11.0                     26.3             685960.0   \n",
       "1                     15.0                     15.3            1181730.0   \n",
       "2                     11.0                     35.0            1182434.0   \n",
       "3                      8.0                     22.5             147400.0   \n",
       "4                     13.0                     13.6             385836.0   \n",
       "\n",
       "   Number of Credit Problems  Months since last delinquent  Bankruptcies  ...  \\\n",
       "0                        1.0                           0.0           1.0  ...   \n",
       "1                        0.0                           0.0           0.0  ...   \n",
       "2                        0.0                           0.0           0.0  ...   \n",
       "3                        1.0                           0.0           1.0  ...   \n",
       "4                        1.0                           0.0           0.0  ...   \n",
       "\n",
       "  Monthly Debt  Credit Score  Credit Default  Current Loan Amount Outlier  \\\n",
       "0       7914.0         749.0               0                            1   \n",
       "1      18373.0         737.0               1                            0   \n",
       "2      13651.0         742.0               0                            1   \n",
       "3      11338.0         694.0               0                            0   \n",
       "4       7180.0         719.0               0                            0   \n",
       "\n",
       "   Maximum Open Credit Outlier  Credit Score Outlier  Credit Score NaN  \\\n",
       "0                            0                     0                 0   \n",
       "1                            0                     0                 0   \n",
       "2                            0                     0                 0   \n",
       "3                            0                     0                 0   \n",
       "4                            0                     0                 0   \n",
       "\n",
       "   Years in current job NaN  Months since last delinquent NaN  \\\n",
       "0                         1                                 1   \n",
       "1                         0                                 1   \n",
       "2                         0                                 1   \n",
       "3                         0                                 1   \n",
       "4                         0                                 1   \n",
       "\n",
       "   Bankruptcies NaN  \n",
       "0                 0  \n",
       "1                 0  \n",
       "2                 0  \n",
       "3                 0  \n",
       "4                 0  \n",
       "\n",
       "[5 rows x 24 columns]"
      ]
     },
     "execution_count": 1988,
     "metadata": {},
     "output_type": "execute_result"
    }
   ],
   "source": [
    "train_df.head(5)"
   ]
  },
  {
   "cell_type": "markdown",
   "id": "bebabfc4",
   "metadata": {},
   "source": [
    "#### Purpose"
   ]
  },
  {
   "cell_type": "code",
   "execution_count": 1989,
   "id": "285a6ea2",
   "metadata": {},
   "outputs": [
    {
     "data": {
      "text/plain": [
       "debt consolidation      5944\n",
       "other                    665\n",
       "home improvements        412\n",
       "business loan            129\n",
       "buy a car                 96\n",
       "medical bills             71\n",
       "major purchase            40\n",
       "take a trip               37\n",
       "buy house                 34\n",
       "small business            26\n",
       "wedding                   15\n",
       "moving                    11\n",
       "educational expenses      10\n",
       "vacation                   8\n",
       "renewable energy           2\n",
       "Name: Purpose, dtype: int64"
      ]
     },
     "execution_count": 1989,
     "metadata": {},
     "output_type": "execute_result"
    }
   ],
   "source": [
    "train_df['Purpose'].value_counts()"
   ]
  },
  {
   "cell_type": "markdown",
   "id": "35dc8944",
   "metadata": {},
   "source": [
    "Применим Label Encoding для категориального признака 'Purpose'. Для этого категориям присвоим целые числа по следующему принципу:\n",
    "- 'debt consolidation' - 0, 'other' - 1, 'home improvements' - 2, 'business loan' - 3, 'buy a car' - 4.\n",
    "- для остальных малочисленных классов (<96 объектов) присвоим число 5.\n",
    "- далее этот признак будем включать в модель CatBoost, которая умеет работать с категориями."
   ]
  },
  {
   "cell_type": "code",
   "execution_count": 1990,
   "id": "c0cddac9",
   "metadata": {},
   "outputs": [],
   "source": [
    "train_df['Purpose'] = train_df['Purpose'].map({'debt consolidation':0, \n",
    "                                            'other':1, \n",
    "                                            'home improvements':2, \n",
    "                                            'business loan':3, \n",
    "                                            'buy a car':4, \n",
    "                                            'medical bills':5, \n",
    "                                            'major purchase':5, \n",
    "                                            'take a trip':5,\n",
    "                                            'buy house':5,\n",
    "                                            'small business':5,\n",
    "                                            'wedding': 5,\n",
    "                                            'moving': 5,\n",
    "                                            'educational expenses': 5,\n",
    "                                            'vacation': 5,\n",
    "                                            'renewable energy': 5})\n",
    "        \n",
    "        \n",
    "        "
   ]
  },
  {
   "cell_type": "code",
   "execution_count": 1991,
   "id": "7c9130bf",
   "metadata": {},
   "outputs": [
    {
     "data": {
      "text/plain": [
       "0    5944\n",
       "1     665\n",
       "2     412\n",
       "5     254\n",
       "3     129\n",
       "4      96\n",
       "Name: Purpose, dtype: int64"
      ]
     },
     "execution_count": 1991,
     "metadata": {},
     "output_type": "execute_result"
    }
   ],
   "source": [
    "train_df['Purpose'].value_counts()"
   ]
  },
  {
   "cell_type": "markdown",
   "id": "fde728ea",
   "metadata": {},
   "source": [
    "#### Loan Repayment Period, Loan Payment Share, Net Debt"
   ]
  },
  {
   "cell_type": "markdown",
   "id": "e2cfea46",
   "metadata": {},
   "source": [
    "Добавим новые признаки на основе финансовых коэффициентов для оценки кредитоспособности клиента:\n",
    "\n",
    "- Период выплаты кредита из дохода (Loan Repayment Period) = Размер кредита / Годовой доход\n",
    "- Доля платежа по кредиту в доходе (Loan Payment Share) = Годовой платеж по кредиту / Годовой доход\n",
    "- Чистый долг (Net Debt) = Размер кредита - Размер дохода"
   ]
  },
  {
   "cell_type": "code",
   "execution_count": 1992,
   "id": "018982f9",
   "metadata": {},
   "outputs": [],
   "source": [
    " # Loan Repayment Period\n",
    "train_df['Loan Repayment Period'] = train_df['Current Loan Amount'] / train_df['Annual Income']\n",
    "        \n",
    "# Loan Payment Share        \n",
    "train_df['Loan Payment Share'] = (train_df['Monthly Debt'] * 12) / train_df['Annual Income']\n",
    "        \n",
    "# Net Debt\n",
    "train_df['Net Debt'] = train_df['Current Loan Amount'] - (train_df['Annual Income'] / 12)"
   ]
  },
  {
   "cell_type": "markdown",
   "id": "8aa03190",
   "metadata": {},
   "source": [
    "#### Credit Score- Сделаем разбивку рейтинга на категории:\n",
    "\n",
    "    - Excellent: 800 to 850\n",
    "    - Very Good: 740 to 799\n",
    "    - Good: 670 to 739\n",
    "    - Fair: 580 to 669\n",
    "    - Poor: 300 to 579"
   ]
  },
  {
   "cell_type": "code",
   "execution_count": 1993,
   "id": "f8bd70f9",
   "metadata": {},
   "outputs": [],
   "source": [
    "def credit_score_to_cat(X):\n",
    "    bins = [300, 579, 669, 739, 799, 850]\n",
    "    X['Credit Score Cat'] = pd.cut(X['Credit Score'], bins=bins, labels=False)\n",
    "    \n",
    "    X['Credit Score Cat'].fillna(-1, inplace=True)\n",
    "    return X"
   ]
  },
  {
   "cell_type": "code",
   "execution_count": 1994,
   "id": "e72c78f5",
   "metadata": {},
   "outputs": [
    {
     "data": {
      "text/html": [
       "<div>\n",
       "<style scoped>\n",
       "    .dataframe tbody tr th:only-of-type {\n",
       "        vertical-align: middle;\n",
       "    }\n",
       "\n",
       "    .dataframe tbody tr th {\n",
       "        vertical-align: top;\n",
       "    }\n",
       "\n",
       "    .dataframe thead th {\n",
       "        text-align: right;\n",
       "    }\n",
       "</style>\n",
       "<table border=\"1\" class=\"dataframe\">\n",
       "  <thead>\n",
       "    <tr style=\"text-align: right;\">\n",
       "      <th></th>\n",
       "      <th>Home Ownership</th>\n",
       "      <th>Annual Income</th>\n",
       "      <th>Years in current job</th>\n",
       "      <th>Tax Liens</th>\n",
       "      <th>Number of Open Accounts</th>\n",
       "      <th>Years of Credit History</th>\n",
       "      <th>Maximum Open Credit</th>\n",
       "      <th>Number of Credit Problems</th>\n",
       "      <th>Months since last delinquent</th>\n",
       "      <th>Bankruptcies</th>\n",
       "      <th>...</th>\n",
       "      <th>Maximum Open Credit Outlier</th>\n",
       "      <th>Credit Score Outlier</th>\n",
       "      <th>Credit Score NaN</th>\n",
       "      <th>Years in current job NaN</th>\n",
       "      <th>Months since last delinquent NaN</th>\n",
       "      <th>Bankruptcies NaN</th>\n",
       "      <th>Loan Repayment Period</th>\n",
       "      <th>Loan Payment Share</th>\n",
       "      <th>Net Debt</th>\n",
       "      <th>Credit Score Cat</th>\n",
       "    </tr>\n",
       "  </thead>\n",
       "  <tbody>\n",
       "    <tr>\n",
       "      <th>0</th>\n",
       "      <td>1</td>\n",
       "      <td>482087.0</td>\n",
       "      <td>3</td>\n",
       "      <td>0.0</td>\n",
       "      <td>11.0</td>\n",
       "      <td>26.3</td>\n",
       "      <td>685960.0</td>\n",
       "      <td>1.0</td>\n",
       "      <td>0.0</td>\n",
       "      <td>1.0</td>\n",
       "      <td>...</td>\n",
       "      <td>0</td>\n",
       "      <td>0</td>\n",
       "      <td>0</td>\n",
       "      <td>1</td>\n",
       "      <td>1</td>\n",
       "      <td>0</td>\n",
       "      <td>207.431437</td>\n",
       "      <td>0.196993</td>\n",
       "      <td>9.995983e+07</td>\n",
       "      <td>3.0</td>\n",
       "    </tr>\n",
       "    <tr>\n",
       "      <th>1</th>\n",
       "      <td>1</td>\n",
       "      <td>1025487.0</td>\n",
       "      <td>3</td>\n",
       "      <td>0.0</td>\n",
       "      <td>15.0</td>\n",
       "      <td>15.3</td>\n",
       "      <td>1181730.0</td>\n",
       "      <td>0.0</td>\n",
       "      <td>0.0</td>\n",
       "      <td>0.0</td>\n",
       "      <td>...</td>\n",
       "      <td>0</td>\n",
       "      <td>0</td>\n",
       "      <td>0</td>\n",
       "      <td>0</td>\n",
       "      <td>1</td>\n",
       "      <td>0</td>\n",
       "      <td>0.258383</td>\n",
       "      <td>0.214996</td>\n",
       "      <td>1.795108e+05</td>\n",
       "      <td>2.0</td>\n",
       "    </tr>\n",
       "    <tr>\n",
       "      <th>2</th>\n",
       "      <td>0</td>\n",
       "      <td>751412.0</td>\n",
       "      <td>2</td>\n",
       "      <td>0.0</td>\n",
       "      <td>11.0</td>\n",
       "      <td>35.0</td>\n",
       "      <td>1182434.0</td>\n",
       "      <td>0.0</td>\n",
       "      <td>0.0</td>\n",
       "      <td>0.0</td>\n",
       "      <td>...</td>\n",
       "      <td>0</td>\n",
       "      <td>0</td>\n",
       "      <td>0</td>\n",
       "      <td>0</td>\n",
       "      <td>1</td>\n",
       "      <td>0</td>\n",
       "      <td>133.082781</td>\n",
       "      <td>0.218006</td>\n",
       "      <td>9.993738e+07</td>\n",
       "      <td>3.0</td>\n",
       "    </tr>\n",
       "  </tbody>\n",
       "</table>\n",
       "<p>3 rows × 28 columns</p>\n",
       "</div>"
      ],
      "text/plain": [
       "   Home Ownership  Annual Income  Years in current job  Tax Liens  \\\n",
       "0               1       482087.0                     3        0.0   \n",
       "1               1      1025487.0                     3        0.0   \n",
       "2               0       751412.0                     2        0.0   \n",
       "\n",
       "   Number of Open Accounts  Years of Credit History  Maximum Open Credit  \\\n",
       "0                     11.0                     26.3             685960.0   \n",
       "1                     15.0                     15.3            1181730.0   \n",
       "2                     11.0                     35.0            1182434.0   \n",
       "\n",
       "   Number of Credit Problems  Months since last delinquent  Bankruptcies  ...  \\\n",
       "0                        1.0                           0.0           1.0  ...   \n",
       "1                        0.0                           0.0           0.0  ...   \n",
       "2                        0.0                           0.0           0.0  ...   \n",
       "\n",
       "   Maximum Open Credit Outlier  Credit Score Outlier  Credit Score NaN  \\\n",
       "0                            0                     0                 0   \n",
       "1                            0                     0                 0   \n",
       "2                            0                     0                 0   \n",
       "\n",
       "   Years in current job NaN  Months since last delinquent NaN  \\\n",
       "0                         1                                 1   \n",
       "1                         0                                 1   \n",
       "2                         0                                 1   \n",
       "\n",
       "   Bankruptcies NaN  Loan Repayment Period  Loan Payment Share      Net Debt  \\\n",
       "0                 0             207.431437            0.196993  9.995983e+07   \n",
       "1                 0               0.258383            0.214996  1.795108e+05   \n",
       "2                 0             133.082781            0.218006  9.993738e+07   \n",
       "\n",
       "   Credit Score Cat  \n",
       "0               3.0  \n",
       "1               2.0  \n",
       "2               3.0  \n",
       "\n",
       "[3 rows x 28 columns]"
      ]
     },
     "execution_count": 1994,
     "metadata": {},
     "output_type": "execute_result"
    }
   ],
   "source": [
    "train_df = credit_score_to_cat(train_df)\n",
    "train_df.head(3)"
   ]
  },
  {
   "cell_type": "code",
   "execution_count": 1995,
   "id": "bb6ad34d",
   "metadata": {},
   "outputs": [
    {
     "data": {
      "text/plain": [
       "751.0"
      ]
     },
     "execution_count": 1995,
     "metadata": {},
     "output_type": "execute_result"
    }
   ],
   "source": [
    "train_df['Credit Score'].max()"
   ]
  },
  {
   "cell_type": "markdown",
   "id": "1aad6a82",
   "metadata": {},
   "source": [
    "# Классы обработки данных"
   ]
  },
  {
   "cell_type": "markdown",
   "id": "5372c295",
   "metadata": {},
   "source": [
    "### Подготовка исходных данных, обработка выбросов и пропусков"
   ]
  },
  {
   "cell_type": "code",
   "execution_count": 379,
   "id": "c5e278ae",
   "metadata": {},
   "outputs": [],
   "source": [
    "class DataPreprocessing:\n",
    "    \n",
    "    def __init__(self):\n",
    "        self.medians=None\n",
    "        self.modes = None\n",
    "        self.max_score = 850\n",
    "        \n",
    "        \n",
    "    def fit(self, X):\n",
    "        \"\"\"Сохранение статистик\"\"\" \n",
    "        X = X.copy()\n",
    "        # Расчет медиан и мод\n",
    "        self.medians = X.median()\n",
    "        self.modes = X.mode().loc[0]\n",
    "        self.max_credit = X['Maximum Open Credit'].quantile(.95)\n",
    "                \n",
    "    def transform(self, X):\n",
    "        \"\"\"Трансформация данных\"\"\"\n",
    "\n",
    "        # Credit score\n",
    "        X['Credit Score Outlier'] = 0\n",
    "        X['Credit Score NaN'] = 0\n",
    "        X.loc[X['Credit Score'] > self.max_score, 'Credit Score Outlier'] = 1\n",
    "        X.loc[X['Credit Score'].isna(), 'Credit Score NaN'] = 1\n",
    "        \n",
    "        \n",
    "        X.loc[X['Credit Score'] > self.max_score, 'Credit Score'] = \\\n",
    "                                X.loc[X['Credit Score'] > self.max_score, 'Credit Score'] / 10\n",
    "        X['Credit Score'].fillna(0, inplace = True)\n",
    "            \n",
    "        # Current Loan Amount\n",
    "        X['Current Loan Amount Outlier'] = 0\n",
    "        X.loc[X['Current Loan Amount'] == 99999999.0, 'Current Loan Amount Outlier'] = 1\n",
    "        \n",
    "        # Maximum Open Credit\n",
    "        X['Maximum Open Credit Outlier'] = 0\n",
    "        X.loc[X['Maximum Open Credit'] > max_credit, 'Maximum Open Credit Outlier'] = 1\n",
    "        X.loc[X['Maximum Open Credit'] > max_credit, 'Maximum Open Credit'] = X['Maximum Open Credit'].median()\n",
    "               \n",
    "        # Annual Income\n",
    "        X['Annual Income'].fillna(1, inplace = True)\n",
    "        \n",
    "        #Monthly Debt\n",
    "        X.loc[X['Monthly Debt'] > X['Monthly Debt'].quantile(.95), 'Monthly Debt'] = self.medians['Monthly Debt']\n",
    "        \n",
    "        # Years in current job\n",
    "        X['Years in current job NaN'] = 0\n",
    "        X.loc[X['Years in current job'].isna(), 'Years in current job NaN'] = 1\n",
    "        X['Years in current job'].fillna(0, inplace = True)\n",
    "        \n",
    "        # Months since last delinquent\n",
    "        \n",
    "        X['Months since last delinquent NaN'] = 0\n",
    "        X.loc[X['Months since last delinquent'].isna(), 'Months since last delinquent NaN'] = 1\n",
    "        X['Months since last delinquent'].fillna(0, inplace=True)\n",
    "        \n",
    "        # Bankruptcies\n",
    "        X['Bankruptcies NaN'] = 0\n",
    "        X.loc[X['Bankruptcies'].isna(), 'Bankruptcies NaN'] = 1\n",
    "        X['Bankruptcies'].fillna(self.modes['Bankruptcies'], inplace = True)\n",
    "        \n",
    "        X.fillna(self.medians, inplace=True)\n",
    "        \n",
    "        return X"
   ]
  },
  {
   "cell_type": "markdown",
   "id": "6180874a",
   "metadata": {},
   "source": [
    "### Генерация новых признаков"
   ]
  },
  {
   "cell_type": "code",
   "execution_count": 2043,
   "id": "6d218788",
   "metadata": {},
   "outputs": [],
   "source": [
    "class FeatureGenerator():\n",
    "    \"\"\"Генерация новых фич\"\"\"\n",
    "    \n",
    "      \n",
    "    def fit(self, X, y=None):\n",
    "        X = X.copy()\n",
    "                \n",
    "    def transform(self, X):\n",
    "        \n",
    "        #Home Ownership\n",
    "        X.loc[X['Home Ownership'].isin(['Rent', 'Have Mortgage']), 'Home Ownership'] = 'Own Home'\n",
    "        X['Home Ownership'] = X['Home Ownership'].map({'Own Home': 1, 'Home Mortgage': 0})\n",
    "        \n",
    "        # Term\n",
    "        X['Term'] = X['Term'].map({'Long Term': 1, 'Short Term': 0})\n",
    "                \n",
    "        # Years in current job\n",
    "        X['Years in current job'] = X['Years in current job'].map({'< 1 year':0, \n",
    "                                                                       '1 year':0, \n",
    "                                                                       '2 years':0, \n",
    "                                                                       '3 years':0, \n",
    "                                                                       '4 years':1, \n",
    "                                                                       '5 years':1, \n",
    "                                                                       '6 years':1, \n",
    "                                                                       '7 years':2,\n",
    "                                                                       '8 years':2,\n",
    "                                                                       '9 years':2,\n",
    "                                                                       '10+ years':3,\n",
    "                                                                  0:4})\n",
    "        \n",
    "        # Purpose\n",
    "        \n",
    "        X['Purpose'] = X['Purpose'].map({'debt consolidation':0, \n",
    "                                            'other':1, \n",
    "                                            'home improvements':2, \n",
    "                                            'business loan':3, \n",
    "                                            'buy a car':4, \n",
    "                                            'medical bills':5, \n",
    "                                            'major purchase':5, \n",
    "                                            'take a trip':5,\n",
    "                                            'buy house':5,\n",
    "                                            'small business':5,\n",
    "                                            'wedding': 5,\n",
    "                                            'moving': 5,\n",
    "                                            'educational expenses': 5,\n",
    "                                            'vacation': 5,\n",
    "                                            'renewable energy': 5})\n",
    "        \n",
    "        \n",
    "        \n",
    "         # Loan Repayment Period \n",
    "            \n",
    "        X['Loan Repayment Period'] = X['Current Loan Amount'] / X['Annual Income']\n",
    " \n",
    "        # Loan Payment Share\n",
    "        \n",
    "        X['Loan Payment Share'] = (X['Monthly Debt'] * 12) / X['Annual Income']\n",
    "        \n",
    "        # Net Debt\n",
    "        \n",
    "        X['Net Debt'] = X['Current Loan Amount'] - (X['Annual Income'] / 12)\n",
    "        \n",
    "        # Credit Score\n",
    "        X = self.credit_score_to_cat(X)\n",
    "        \n",
    "        return X\n",
    "    \n",
    "    def credit_score_to_cat(self, X):\n",
    "        bins = [300, 579, 669, 739, 799, 850]\n",
    "        X['Credit Score Cat'] = pd.cut(X['Credit Score'], bins=bins, labels=False)\n",
    "\n",
    "        X['Credit Score Cat'].fillna(-1, inplace=True)\n",
    "        X['Credit Score Cat'] = X['Credit Score Cat'].astype(np.int)\n",
    "        \n",
    "        return X"
   ]
  },
  {
   "cell_type": "markdown",
   "id": "02da1ed1",
   "metadata": {},
   "source": [
    "## Отбор признаков"
   ]
  },
  {
   "cell_type": "code",
   "execution_count": 2028,
   "id": "f8a83055",
   "metadata": {},
   "outputs": [
    {
     "name": "stdout",
     "output_type": "stream",
     "text": [
      "<class 'pandas.core.frame.DataFrame'>\n",
      "RangeIndex: 7500 entries, 0 to 7499\n",
      "Data columns (total 17 columns):\n",
      " #   Column                        Non-Null Count  Dtype  \n",
      "---  ------                        --------------  -----  \n",
      " 0   Home Ownership                7500 non-null   object \n",
      " 1   Annual Income                 5943 non-null   float64\n",
      " 2   Years in current job          7129 non-null   object \n",
      " 3   Tax Liens                     7500 non-null   float64\n",
      " 4   Number of Open Accounts       7500 non-null   float64\n",
      " 5   Years of Credit History       7500 non-null   float64\n",
      " 6   Maximum Open Credit           7500 non-null   float64\n",
      " 7   Number of Credit Problems     7500 non-null   float64\n",
      " 8   Months since last delinquent  3419 non-null   float64\n",
      " 9   Bankruptcies                  7486 non-null   float64\n",
      " 10  Purpose                       7500 non-null   object \n",
      " 11  Term                          7500 non-null   object \n",
      " 12  Current Loan Amount           7500 non-null   float64\n",
      " 13  Current Credit Balance        7500 non-null   float64\n",
      " 14  Monthly Debt                  7500 non-null   float64\n",
      " 15  Credit Score                  5943 non-null   float64\n",
      " 16  Credit Default                7500 non-null   int64  \n",
      "dtypes: float64(12), int64(1), object(4)\n",
      "memory usage: 996.2+ KB\n"
     ]
    }
   ],
   "source": [
    "train_df.info()"
   ]
  },
  {
   "cell_type": "code",
   "execution_count": 380,
   "id": "44e7b065",
   "metadata": {},
   "outputs": [],
   "source": [
    "num_feature_names = [\n",
    " 'Annual Income',\n",
    "'Number of Open Accounts',\n",
    " 'Years of Credit History',\n",
    " 'Maximum Open Credit',\n",
    " 'Term',\n",
    " 'Current Loan Amount',\n",
    " 'Current Credit Balance',\n",
    " 'Monthly Debt',\n",
    "'Credit Score', 'Loan Repayment Period', 'Loan Payment Share', 'Net Debt']"
   ]
  },
  {
   "cell_type": "code",
   "execution_count": 381,
   "id": "3d382ff4",
   "metadata": {},
   "outputs": [],
   "source": [
    "cat_feature_names = [#'Tax Liens', \n",
    "    'Years in current job', 'Number of Credit Problems','Home Ownership', \n",
    "                     #'Bankruptcies', \n",
    "                     'Purpose', 'Credit Score Cat']"
   ]
  },
  {
   "cell_type": "code",
   "execution_count": 382,
   "id": "9a6e0814",
   "metadata": {},
   "outputs": [],
   "source": [
    "new_feature_names = ['Current Loan Amount Outlier',\n",
    " #'Maximum Open Credit Outlier',\n",
    " 'Credit Score Outlier',\n",
    "#'Credit Score NaN',\n",
    " 'Years in current job NaN',\n",
    " #'Months since last delinquent NaN',\n",
    " #'Bankruptcies NaN'\n",
    "]\n",
    "\n",
    "target_name = 'Credit Default'"
   ]
  },
  {
   "cell_type": "markdown",
   "id": "c2aded2a",
   "metadata": {},
   "source": [
    "## Разбиение на train и test"
   ]
  },
  {
   "cell_type": "code",
   "execution_count": 383,
   "id": "6eef9fd6",
   "metadata": {},
   "outputs": [],
   "source": [
    "train_df = pd.read_csv(TRAIN_DATASET_PATH)\n",
    "test_df = pd.read_csv(TEST_DATASET_PATH)\n",
    "X = train_df.drop(columns=target_name)\n",
    "y = train_df[target_name]"
   ]
  },
  {
   "cell_type": "code",
   "execution_count": 384,
   "id": "b07812d8",
   "metadata": {},
   "outputs": [],
   "source": [
    "X_train, X_valid, y_train, y_valid = train_test_split(X, y, test_size=0.33, shuffle=True, random_state=42)"
   ]
  },
  {
   "cell_type": "code",
   "execution_count": 385,
   "id": "672ba52c",
   "metadata": {},
   "outputs": [
    {
     "data": {
      "text/plain": [
       "((5025, 23), (2475, 23), (2500, 23), (7500, 23))"
      ]
     },
     "execution_count": 385,
     "metadata": {},
     "output_type": "execute_result"
    }
   ],
   "source": [
    "preprocessor = DataPreprocessing()\n",
    "preprocessor.fit(X_train)\n",
    "\n",
    "X = preprocessor.transform(X)\n",
    "\n",
    "X_train = preprocessor.transform(X_train)\n",
    "X_valid = preprocessor.transform(X_valid)\n",
    "test_df = preprocessor.transform(test_df)\n",
    "\n",
    "X_train.shape, X_valid.shape, test_df.shape, X.shape"
   ]
  },
  {
   "cell_type": "code",
   "execution_count": 386,
   "id": "6101d8cc",
   "metadata": {},
   "outputs": [
    {
     "data": {
      "text/plain": [
       "((5025, 27), (2475, 27), (2500, 27), (7500, 27))"
      ]
     },
     "execution_count": 386,
     "metadata": {},
     "output_type": "execute_result"
    }
   ],
   "source": [
    "features_gen = FeatureGenerator()\n",
    "features_gen.fit(X_train, y_train)\n",
    "\n",
    "X = features_gen.transform(X)\n",
    "X_train = features_gen.transform(X_train)\n",
    "X_valid = features_gen.transform(X_valid)\n",
    "test_df = features_gen.transform(test_df)\n",
    "\n",
    "X_train.shape, X_valid.shape, test_df.shape, X.shape"
   ]
  },
  {
   "cell_type": "code",
   "execution_count": 387,
   "id": "07f5dcd5",
   "metadata": {},
   "outputs": [
    {
     "data": {
      "text/plain": [
       "20"
      ]
     },
     "execution_count": 387,
     "metadata": {},
     "output_type": "execute_result"
    }
   ],
   "source": [
    "selected_feature_names = num_feature_names + new_feature_names + cat_feature_names\n",
    "len(selected_feature_names)"
   ]
  },
  {
   "cell_type": "code",
   "execution_count": 388,
   "id": "c8da10bd",
   "metadata": {},
   "outputs": [
    {
     "name": "stdout",
     "output_type": "stream",
     "text": [
      "<class 'pandas.core.frame.DataFrame'>\n",
      "Int64Index: 5025 entries, 3151 to 7270\n",
      "Data columns (total 27 columns):\n",
      " #   Column                            Non-Null Count  Dtype  \n",
      "---  ------                            --------------  -----  \n",
      " 0   Home Ownership                    5025 non-null   int64  \n",
      " 1   Annual Income                     5025 non-null   float64\n",
      " 2   Years in current job              5025 non-null   int64  \n",
      " 3   Tax Liens                         5025 non-null   float64\n",
      " 4   Number of Open Accounts           5025 non-null   float64\n",
      " 5   Years of Credit History           5025 non-null   float64\n",
      " 6   Maximum Open Credit               5025 non-null   float64\n",
      " 7   Number of Credit Problems         5025 non-null   float64\n",
      " 8   Months since last delinquent      5025 non-null   float64\n",
      " 9   Bankruptcies                      5025 non-null   float64\n",
      " 10  Purpose                           5025 non-null   int64  \n",
      " 11  Term                              5025 non-null   int64  \n",
      " 12  Current Loan Amount               5025 non-null   float64\n",
      " 13  Current Credit Balance            5025 non-null   float64\n",
      " 14  Monthly Debt                      5025 non-null   float64\n",
      " 15  Credit Score                      5025 non-null   float64\n",
      " 16  Credit Score Outlier              5025 non-null   int64  \n",
      " 17  Credit Score NaN                  5025 non-null   int64  \n",
      " 18  Current Loan Amount Outlier       5025 non-null   int64  \n",
      " 19  Maximum Open Credit Outlier       5025 non-null   int64  \n",
      " 20  Years in current job NaN          5025 non-null   int64  \n",
      " 21  Months since last delinquent NaN  5025 non-null   int64  \n",
      " 22  Bankruptcies NaN                  5025 non-null   int64  \n",
      " 23  Loan Repayment Period             5025 non-null   float64\n",
      " 24  Loan Payment Share                5025 non-null   float64\n",
      " 25  Net Debt                          5025 non-null   float64\n",
      " 26  Credit Score Cat                  5025 non-null   int64  \n",
      "dtypes: float64(15), int64(12)\n",
      "memory usage: 1.1 MB\n"
     ]
    }
   ],
   "source": [
    "X_train.info()"
   ]
  },
  {
   "cell_type": "code",
   "execution_count": 389,
   "id": "9e667cb8",
   "metadata": {},
   "outputs": [
    {
     "data": {
      "text/plain": [
       "(0, 0, 0)"
      ]
     },
     "execution_count": 389,
     "metadata": {},
     "output_type": "execute_result"
    }
   ],
   "source": [
    "X_train.isna().sum().sum(), X_valid.isna().sum().sum(), test_df.isna().sum().sum()"
   ]
  },
  {
   "cell_type": "markdown",
   "id": "30af8a6d",
   "metadata": {},
   "source": [
    "Переведем категориальные признаки к типу int:"
   ]
  },
  {
   "cell_type": "code",
   "execution_count": 390,
   "id": "7018b9ac",
   "metadata": {},
   "outputs": [],
   "source": [
    "def float_to_int(X):\n",
    "    for col in cat_feature_names:\n",
    "        if X[col].dtypes == 'float64':\n",
    "            X[col] = X[col].astype('int')        \n",
    "    return X"
   ]
  },
  {
   "cell_type": "code",
   "execution_count": 391,
   "id": "cf5ff48e",
   "metadata": {},
   "outputs": [],
   "source": [
    "X_train = float_to_int(X_train)\n",
    "X_valid = float_to_int(X_valid)\n",
    "X = float_to_int(X)\n",
    "test_df = float_to_int(test_df)"
   ]
  },
  {
   "cell_type": "code",
   "execution_count": 392,
   "id": "62126ff7",
   "metadata": {},
   "outputs": [],
   "source": [
    "X_train = X_train[selected_feature_names]\n",
    "X_valid = X_valid[selected_feature_names]\n",
    "X = X[selected_feature_names]\n",
    "test_df = test_df[selected_feature_names]"
   ]
  },
  {
   "cell_type": "code",
   "execution_count": 393,
   "id": "517a4b8b",
   "metadata": {},
   "outputs": [
    {
     "data": {
      "text/plain": [
       "Years in current job         int64\n",
       "Number of Credit Problems    int64\n",
       "Home Ownership               int64\n",
       "Purpose                      int64\n",
       "Credit Score Cat             int64\n",
       "dtype: object"
      ]
     },
     "execution_count": 393,
     "metadata": {},
     "output_type": "execute_result"
    }
   ],
   "source": [
    "test_df[cat_feature_names].dtypes"
   ]
  },
  {
   "cell_type": "markdown",
   "id": "9ade95ab",
   "metadata": {},
   "source": [
    "## Построение моделей"
   ]
  },
  {
   "cell_type": "markdown",
   "id": "b612061d",
   "metadata": {},
   "source": [
    "Построим базовую модель CatBoost:"
   ]
  },
  {
   "cell_type": "code",
   "execution_count": 2058,
   "id": "c76220cb",
   "metadata": {},
   "outputs": [
    {
     "data": {
      "application/vnd.jupyter.widget-view+json": {
       "model_id": "e46dd7e562044f1c84fbacdc092bbda7",
       "version_major": 2,
       "version_minor": 0
      },
      "text/plain": [
       "MetricVisualizer(layout=Layout(align_self='stretch', height='500px'))"
      ]
     },
     "metadata": {},
     "output_type": "display_data"
    },
    {
     "name": "stdout",
     "output_type": "stream",
     "text": [
      "TRAIN\n",
      " 0.913\n",
      "TEST\n",
      " 0.469\n",
      "TRAIN\n",
      "\n",
      "              precision    recall  f1-score   support\n",
      "\n",
      "           0       0.94      1.00      0.97      3631\n",
      "           1       1.00      0.84      0.91      1394\n",
      "\n",
      "    accuracy                           0.96      5025\n",
      "   macro avg       0.97      0.92      0.94      5025\n",
      "weighted avg       0.96      0.96      0.95      5025\n",
      "\n",
      "VALID\n",
      "\n",
      "              precision    recall  f1-score   support\n",
      "\n",
      "           0       0.78      0.93      0.85      1756\n",
      "           1       0.68      0.36      0.47       719\n",
      "\n",
      "    accuracy                           0.76      2475\n",
      "   macro avg       0.73      0.64      0.66      2475\n",
      "weighted avg       0.75      0.76      0.74      2475\n",
      "\n",
      "CONFUSION MATRIX\n",
      "\n",
      "col_0              0    1\n",
      "Credit Default           \n",
      "0               1633  123\n",
      "1                461  258\n"
     ]
    }
   ],
   "source": [
    "model_catb = catb.CatBoostClassifier(silent=True, \n",
    "                                     random_state=21, eval_metric='F1')\n",
    "\n",
    "model_catb.fit(X_train, y_train, plot=True, eval_set=(X_valid, y_valid))\n",
    "\n",
    "evaluate_preds(model_catb, X_train, X_valid, y_train, y_valid)"
   ]
  },
  {
   "cell_type": "code",
   "execution_count": 2059,
   "id": "a38dd9e5",
   "metadata": {},
   "outputs": [],
   "source": [
    "def show_feature_importances(feature_names, feature_importances, get_top=None):\n",
    "    feature_importances = pd.DataFrame({'feature': feature_names, 'importance': feature_importances})\n",
    "    feature_importances = feature_importances.sort_values('importance', ascending=False)\n",
    "       \n",
    "    plt.figure(figsize = (14, len(feature_importances) * 0.355))\n",
    "    \n",
    "    sns.barplot(feature_importances['importance'], feature_importances['feature'])\n",
    "    \n",
    "    plt.xlabel('Importance')\n",
    "    plt.title('Importance of features')\n",
    "    plt.show()\n",
    "\n",
    "    if get_top is not None:\n",
    "        return feature_importances['feature'][:get_top].tolist()"
   ]
  },
  {
   "cell_type": "code",
   "execution_count": 2060,
   "id": "17cf9454",
   "metadata": {},
   "outputs": [
    {
     "data": {
      "image/png": "[encoded data removed]",
      "text/plain": [
       "<Figure size 1008x664.56 with 1 Axes>"
      ]
     },
     "metadata": {},
     "output_type": "display_data"
    }
   ],
   "source": [
    "important_features_top = show_feature_importances(X_train.columns, \n",
    "                                                  model_catb.feature_importances_, \n",
    "                                                  get_top=15)"
   ]
  },
  {
   "cell_type": "markdown",
   "id": "086dc9aa",
   "metadata": {},
   "source": [
    "Исключим из модели признаки, значения которых ниже 1."
   ]
  },
  {
   "cell_type": "markdown",
   "id": "524d109c",
   "metadata": {},
   "source": [
    "### Улучшение модели CatBoost"
   ]
  },
  {
   "cell_type": "code",
   "execution_count": 394,
   "id": "619b0440",
   "metadata": {},
   "outputs": [
    {
     "data": {
      "text/plain": [
       "[15, 16, 17, 18, 19]"
      ]
     },
     "execution_count": 394,
     "metadata": {},
     "output_type": "execute_result"
    }
   ],
   "source": [
    "cat_features = [i for i, col in enumerate(selected_feature_names) if col in cat_feature_names]\n",
    "cat_features"
   ]
  },
  {
   "cell_type": "code",
   "execution_count": 395,
   "id": "50d3d3ab",
   "metadata": {},
   "outputs": [
    {
     "data": {
      "text/plain": [
       "2"
      ]
     },
     "execution_count": 395,
     "metadata": {},
     "output_type": "execute_result"
    }
   ],
   "source": [
    "scale = int(y_train[y_train == 0].shape[0] / y_train[y_train == 1].shape[0])\n",
    "scale"
   ]
  },
  {
   "cell_type": "code",
   "execution_count": 396,
   "id": "281c9cbd",
   "metadata": {},
   "outputs": [
    {
     "data": {
      "text/plain": [
       "Index(['Years in current job', 'Number of Credit Problems', 'Home Ownership',\n",
       "       'Purpose', 'Credit Score Cat'],\n",
       "      dtype='object')"
      ]
     },
     "execution_count": 396,
     "metadata": {},
     "output_type": "execute_result"
    }
   ],
   "source": [
    "X_train[selected_feature_names].iloc[:,cat_features].columns"
   ]
  },
  {
   "cell_type": "markdown",
   "id": "a12d5980",
   "metadata": {},
   "source": [
    "### Cross Validation"
   ]
  },
  {
   "cell_type": "code",
   "execution_count": 2070,
   "id": "5d60ff0d",
   "metadata": {},
   "outputs": [
    {
     "data": {
      "application/vnd.jupyter.widget-view+json": {
       "model_id": "a40aac6c5e44417f9cad9cbd70495caf",
       "version_major": 2,
       "version_minor": 0
      },
      "text/plain": [
       "MetricVisualizer(layout=Layout(align_self='stretch', height='500px'))"
      ]
     },
     "metadata": {},
     "output_type": "display_data"
    }
   ],
   "source": [
    "from catboost import Pool, cv\n",
    "\n",
    "pool = Pool(data=X,\n",
    "            label=y,\n",
    "            cat_features=cat_features)\n",
    "\n",
    "params = {\"iterations\": 1000,\n",
    "          \"depth\": 4,\n",
    "          \"learning_rate\": 0.1,\n",
    "          \"loss_function\": \"Logloss\",\n",
    "          \"custom_loss\": 'F1',\n",
    "          \"random_seed\": 21,\n",
    "          \"verbose\": False}\n",
    "\n",
    "scores = cv(pool=pool,\n",
    "            params=params,\n",
    "            fold_count=3,\n",
    "            plot=\"True\")"
   ]
  },
  {
   "cell_type": "code",
   "execution_count": 2071,
   "id": "ac893d3a",
   "metadata": {},
   "outputs": [
    {
     "data": {
      "text/html": [
       "<div>\n",
       "<style scoped>\n",
       "    .dataframe tbody tr th:only-of-type {\n",
       "        vertical-align: middle;\n",
       "    }\n",
       "\n",
       "    .dataframe tbody tr th {\n",
       "        vertical-align: top;\n",
       "    }\n",
       "\n",
       "    .dataframe thead th {\n",
       "        text-align: right;\n",
       "    }\n",
       "</style>\n",
       "<table border=\"1\" class=\"dataframe\">\n",
       "  <thead>\n",
       "    <tr style=\"text-align: right;\">\n",
       "      <th></th>\n",
       "      <th>iterations</th>\n",
       "      <th>test-Logloss-mean</th>\n",
       "      <th>test-Logloss-std</th>\n",
       "      <th>train-Logloss-mean</th>\n",
       "      <th>train-Logloss-std</th>\n",
       "      <th>test-F1-mean</th>\n",
       "      <th>test-F1-std</th>\n",
       "      <th>train-F1-mean</th>\n",
       "      <th>train-F1-std</th>\n",
       "    </tr>\n",
       "  </thead>\n",
       "  <tbody>\n",
       "    <tr>\n",
       "      <th>0</th>\n",
       "      <td>0</td>\n",
       "      <td>0.636122</td>\n",
       "      <td>0.002426</td>\n",
       "      <td>0.635780</td>\n",
       "      <td>0.002696</td>\n",
       "      <td>0.358660</td>\n",
       "      <td>0.075378</td>\n",
       "      <td>0.355990</td>\n",
       "      <td>0.063064</td>\n",
       "    </tr>\n",
       "    <tr>\n",
       "      <th>1</th>\n",
       "      <td>1</td>\n",
       "      <td>0.604746</td>\n",
       "      <td>0.001854</td>\n",
       "      <td>0.604202</td>\n",
       "      <td>0.001980</td>\n",
       "      <td>0.320483</td>\n",
       "      <td>0.010629</td>\n",
       "      <td>0.319607</td>\n",
       "      <td>0.005697</td>\n",
       "    </tr>\n",
       "    <tr>\n",
       "      <th>2</th>\n",
       "      <td>2</td>\n",
       "      <td>0.577000</td>\n",
       "      <td>0.006841</td>\n",
       "      <td>0.576201</td>\n",
       "      <td>0.007442</td>\n",
       "      <td>0.327370</td>\n",
       "      <td>0.020323</td>\n",
       "      <td>0.327429</td>\n",
       "      <td>0.013163</td>\n",
       "    </tr>\n",
       "    <tr>\n",
       "      <th>3</th>\n",
       "      <td>3</td>\n",
       "      <td>0.553096</td>\n",
       "      <td>0.004040</td>\n",
       "      <td>0.552355</td>\n",
       "      <td>0.004213</td>\n",
       "      <td>0.319163</td>\n",
       "      <td>0.009825</td>\n",
       "      <td>0.318997</td>\n",
       "      <td>0.006774</td>\n",
       "    </tr>\n",
       "    <tr>\n",
       "      <th>4</th>\n",
       "      <td>4</td>\n",
       "      <td>0.539363</td>\n",
       "      <td>0.004593</td>\n",
       "      <td>0.538335</td>\n",
       "      <td>0.004855</td>\n",
       "      <td>0.319285</td>\n",
       "      <td>0.009614</td>\n",
       "      <td>0.318997</td>\n",
       "      <td>0.006774</td>\n",
       "    </tr>\n",
       "  </tbody>\n",
       "</table>\n",
       "</div>"
      ],
      "text/plain": [
       "   iterations  test-Logloss-mean  test-Logloss-std  train-Logloss-mean  \\\n",
       "0           0           0.636122          0.002426            0.635780   \n",
       "1           1           0.604746          0.001854            0.604202   \n",
       "2           2           0.577000          0.006841            0.576201   \n",
       "3           3           0.553096          0.004040            0.552355   \n",
       "4           4           0.539363          0.004593            0.538335   \n",
       "\n",
       "   train-Logloss-std  test-F1-mean  test-F1-std  train-F1-mean  train-F1-std  \n",
       "0           0.002696      0.358660     0.075378       0.355990      0.063064  \n",
       "1           0.001980      0.320483     0.010629       0.319607      0.005697  \n",
       "2           0.007442      0.327370     0.020323       0.327429      0.013163  \n",
       "3           0.004213      0.319163     0.009825       0.318997      0.006774  \n",
       "4           0.004855      0.319285     0.009614       0.318997      0.006774  "
      ]
     },
     "execution_count": 2071,
     "metadata": {},
     "output_type": "execute_result"
    }
   ],
   "source": [
    "scores.head()"
   ]
  },
  {
   "cell_type": "code",
   "execution_count": 2072,
   "id": "43f08edf",
   "metadata": {},
   "outputs": [
    {
     "name": "stdout",
     "output_type": "stream",
     "text": [
      "Best validation F1-score: 0.4580±0.0113 on step 942\n"
     ]
    }
   ],
   "source": [
    "best_value = np.max(scores['test-F1-mean'])\n",
    "best_iter = np.argmax(scores['test-F1-mean'])\n",
    "\n",
    "print('Best validation F1-score: {:.4f}±{:.4f} on step {}'.format(\n",
    "    best_value,\n",
    "    scores['test-F1-std'][best_iter],\n",
    "    best_iter)\n",
    ")"
   ]
  },
  {
   "cell_type": "markdown",
   "id": "51102bfc",
   "metadata": {},
   "source": [
    "### Выбор лучшей модели и подбор гиперпараметров"
   ]
  },
  {
   "cell_type": "markdown",
   "id": "16261bb9",
   "metadata": {},
   "source": [
    "#### Подбор гиперпараметров RandomizedSearchCV"
   ]
  },
  {
   "cell_type": "code",
   "execution_count": 2073,
   "id": "2d62bd6a",
   "metadata": {},
   "outputs": [],
   "source": [
    "params = {'n_estimators':[50, 100, 300],\n",
    "          'max_depth':[2, 4, 6]\n",
    "         }"
   ]
  },
  {
   "cell_type": "code",
   "execution_count": 2074,
   "id": "3dc51437",
   "metadata": {},
   "outputs": [],
   "source": [
    "cv = KFold(n_splits=5, random_state=21, shuffle=True)"
   ]
  },
  {
   "cell_type": "code",
   "execution_count": 2075,
   "id": "845061da",
   "metadata": {},
   "outputs": [
    {
     "name": "stdout",
     "output_type": "stream",
     "text": [
      "CPU times: user 811 ms, sys: 171 ms, total: 982 ms\n",
      "Wall time: 7.87 s\n"
     ]
    },
    {
     "data": {
      "text/plain": [
       "RandomizedSearchCV(cv=KFold(n_splits=5, random_state=21, shuffle=True),\n",
       "                   estimator=<catboost.core.CatBoostClassifier object at 0x7fa440cda520>,\n",
       "                   n_jobs=-1,\n",
       "                   param_distributions={'max_depth': [2, 4, 6],\n",
       "                                        'n_estimators': [50, 100, 300]},\n",
       "                   random_state=21, scoring='f1')"
      ]
     },
     "execution_count": 2075,
     "metadata": {},
     "output_type": "execute_result"
    }
   ],
   "source": [
    "%%time\n",
    "\n",
    "rs = RandomizedSearchCV(model_catb, params, scoring='f1', cv=cv, random_state=21, n_jobs=-1)\n",
    "rs.fit(X_train, y_train)"
   ]
  },
  {
   "cell_type": "code",
   "execution_count": 2076,
   "id": "dc1dc12c",
   "metadata": {},
   "outputs": [
    {
     "data": {
      "text/plain": [
       "{'n_estimators': 50, 'max_depth': 6}"
      ]
     },
     "execution_count": 2076,
     "metadata": {},
     "output_type": "execute_result"
    }
   ],
   "source": [
    "rs.best_params_"
   ]
  },
  {
   "cell_type": "code",
   "execution_count": 2077,
   "id": "d8d370cd",
   "metadata": {},
   "outputs": [
    {
     "data": {
      "text/plain": [
       "0.4670581416859127"
      ]
     },
     "execution_count": 2077,
     "metadata": {},
     "output_type": "execute_result"
    }
   ],
   "source": [
    "rs.best_score_"
   ]
  },
  {
   "cell_type": "markdown",
   "id": "23e09cc4",
   "metadata": {},
   "source": [
    "#### Подбор гиперпараметров CatBoost"
   ]
  },
  {
   "cell_type": "code",
   "execution_count": 2078,
   "id": "6c114be8",
   "metadata": {},
   "outputs": [
    {
     "data": {
      "application/vnd.jupyter.widget-view+json": {
       "model_id": "0b842d95c5de446aa5f28805825413ab",
       "version_major": 2,
       "version_minor": 0
      },
      "text/plain": [
       "MetricVisualizer(layout=Layout(align_self='stretch', height='500px'))"
      ]
     },
     "metadata": {},
     "output_type": "display_data"
    },
    {
     "name": "stdout",
     "output_type": "stream",
     "text": [
      "\n",
      "bestTest = 0.557469891\n",
      "bestIteration = 49\n",
      "\n",
      "\n",
      "bestTest = 0.4789584381\n",
      "bestIteration = 49\n",
      "\n",
      "\n",
      "bestTest = 0.4704527824\n",
      "bestIteration = 49\n",
      "\n",
      "\n",
      "bestTest = 0.5457135465\n",
      "bestIteration = 49\n",
      "\n",
      "\n",
      "bestTest = 0.4744675303\n",
      "bestIteration = 49\n",
      "\n",
      "\n",
      "bestTest = 0.465020268\n",
      "bestIteration = 47\n",
      "\n",
      "\n",
      "bestTest = 0.5408352965\n",
      "bestIteration = 49\n",
      "\n",
      "\n",
      "bestTest = 0.4696093822\n",
      "bestIteration = 48\n",
      "\n",
      "\n",
      "bestTest = 0.4676859593\n",
      "bestIteration = 46\n",
      "\n",
      "\n",
      "bestTest = 0.557469891\n",
      "bestIteration = 49\n",
      "\n",
      "\n",
      "bestTest = 0.4789584381\n",
      "bestIteration = 49\n",
      "\n",
      "\n",
      "bestTest = 0.4704527824\n",
      "bestIteration = 49\n",
      "\n",
      "\n",
      "bestTest = 0.5457135465\n",
      "bestIteration = 49\n",
      "\n",
      "\n",
      "bestTest = 0.4744675303\n",
      "bestIteration = 49\n",
      "\n",
      "\n",
      "bestTest = 0.465020268\n",
      "bestIteration = 47\n",
      "\n",
      "\n",
      "bestTest = 0.5408352965\n",
      "bestIteration = 49\n",
      "\n",
      "\n",
      "bestTest = 0.4696093822\n",
      "bestIteration = 48\n",
      "\n",
      "\n",
      "bestTest = 0.4676859593\n",
      "bestIteration = 46\n",
      "\n",
      "\n",
      "bestTest = 0.557469891\n",
      "bestIteration = 49\n",
      "\n",
      "\n",
      "bestTest = 0.4789584381\n",
      "bestIteration = 49\n",
      "\n",
      "\n",
      "bestTest = 0.4704527824\n",
      "bestIteration = 49\n",
      "\n",
      "\n",
      "bestTest = 0.5457135465\n",
      "bestIteration = 49\n",
      "\n",
      "\n",
      "bestTest = 0.4744675303\n",
      "bestIteration = 49\n",
      "\n",
      "\n",
      "bestTest = 0.465020268\n",
      "bestIteration = 47\n",
      "\n",
      "\n",
      "bestTest = 0.5408352965\n",
      "bestIteration = 49\n",
      "\n",
      "\n",
      "bestTest = 0.4696093822\n",
      "bestIteration = 48\n",
      "\n",
      "\n",
      "bestTest = 0.4676859593\n",
      "bestIteration = 46\n",
      "\n"
     ]
    }
   ],
   "source": [
    "model_catb = catb.CatBoostClassifier(n_estimators=50,\n",
    "                                     custom_loss=['F1'], \n",
    "                                     silent=True, \n",
    "                                     random_state=21)\n",
    "grid = {\n",
    "    'learning_rate': [0.01, 0.05, 0.1],\n",
    "    'depth':[2, 4, 6], 'min_data_in_leaf':[2, 4, 5]\n",
    "}\n",
    "train_pool = Pool(data=X_train, label=y_train)\n",
    "test_pool = Pool(data=X_valid, label=y_valid)\n",
    "\n",
    "grid_search_results = model_catb.grid_search(grid, train_pool, cv=5, stratified=True,\n",
    "                                             verbose=False, plot=True)"
   ]
  },
  {
   "cell_type": "code",
   "execution_count": 2079,
   "id": "71f0c00d",
   "metadata": {},
   "outputs": [
    {
     "data": {
      "text/plain": [
       "{'min_data_in_leaf': 2, 'depth': 4, 'learning_rate': 0.1}"
      ]
     },
     "execution_count": 2079,
     "metadata": {},
     "output_type": "execute_result"
    }
   ],
   "source": [
    "grid_search_results['params']"
   ]
  },
  {
   "cell_type": "code",
   "execution_count": 398,
   "id": "4ac45462",
   "metadata": {},
   "outputs": [
    {
     "name": "stdout",
     "output_type": "stream",
     "text": [
      "TRAIN\n",
      "\n",
      "              precision    recall  f1-score   support\n",
      "\n",
      "           0       0.83      0.88      0.85      3631\n",
      "           1       0.62      0.52      0.57      1394\n",
      "\n",
      "    accuracy                           0.78      5025\n",
      "   macro avg       0.73      0.70      0.71      5025\n",
      "weighted avg       0.77      0.78      0.77      5025\n",
      "\n",
      "VALID\n",
      "\n",
      "              precision    recall  f1-score   support\n",
      "\n",
      "           0       0.79      0.86      0.82      1756\n",
      "           1       0.57      0.46      0.51       719\n",
      "\n",
      "    accuracy                           0.74      2475\n",
      "   macro avg       0.68      0.66      0.67      2475\n",
      "weighted avg       0.73      0.74      0.73      2475\n",
      "\n",
      "CONFUSION MATRIX\n",
      "\n",
      "col_0              0    1\n",
      "Credit Default           \n",
      "0               1506  250\n",
      "1                389  330\n"
     ]
    }
   ],
   "source": [
    "final_model = catb.CatBoostClassifier(n_estimators=50, \n",
    "                                      max_depth=4, \n",
    "                                      scale_pos_weight=scale, cat_features=cat_features,\n",
    "                                      silent=True, \n",
    "                                      random_state=21, \n",
    "                                      l2_leaf_reg=0.01,\n",
    "                                      eval_metric='F1', # оптимизируем метрику\n",
    "                                      learning_rate=0.1, use_best_model=True, min_data_in_leaf=2\n",
    "                                     )\n",
    "final_model.fit(X_train, y_train,\n",
    "               eval_set=(X_valid, y_valid))\n",
    "\n",
    "y_train_pred = final_model.predict(X_train)\n",
    "y_test_pred = final_model.predict(X_valid)\n",
    "\n",
    "get_classification_report(y_train, y_train_pred, y_valid, y_test_pred)"
   ]
  },
  {
   "cell_type": "code",
   "execution_count": 399,
   "id": "c451c846",
   "metadata": {},
   "outputs": [
    {
     "data": {
      "image/png": "[encoded data removed]",
      "text/plain": [
       "<Figure size 720x360 with 1 Axes>"
      ]
     },
     "metadata": {},
     "output_type": "display_data"
    }
   ],
   "source": [
    "def show_proba_calibration_plots(y_predicted_probs, y_true_labels):\n",
    "    preds_with_true_labels = np.array(list(zip(y_predicted_probs, y_true_labels)))\n",
    "\n",
    "    thresholds = []\n",
    "    precisions = []\n",
    "    recalls = []\n",
    "    f1_scores = []\n",
    "\n",
    "    for threshold in np.linspace(0.1, 0.9, 9):\n",
    "        thresholds.append(threshold)\n",
    "        precisions.append(precision_score(y_true_labels, list(map(int, y_predicted_probs > threshold))))\n",
    "        recalls.append(recall_score(y_true_labels, list(map(int, y_predicted_probs > threshold))))\n",
    "        f1_scores.append(f1_score(y_true_labels, list(map(int, y_predicted_probs > threshold))))\n",
    "         \n",
    "    figure = plt.figure(figsize = (10, 5))\n",
    "\n",
    "    plt1 = figure.add_subplot(111)\n",
    "    plt1.axhline(0.5, color=\"red\")\n",
    "    plt1.plot(thresholds, precisions, label='Precision', linewidth=4)\n",
    "    plt1.plot(thresholds, recalls, label='Recall', linewidth=4)\n",
    "    plt1.plot(thresholds, f1_scores, label='F1', linewidth=4)\n",
    "    plt1.set_ylabel('Scores')\n",
    "    plt1.set_xlabel('Probability threshold')\n",
    "    plt1.set_title('Probabilities threshold calibration')\n",
    "    plt1.legend(bbox_to_anchor=(0.25, 0.25));\n",
    "    \n",
    "y_valid_proba = final_model.predict_proba(X_valid)[:, 1]\n",
    "show_proba_calibration_plots(y_valid_proba, y_valid)"
   ]
  },
  {
   "cell_type": "code",
   "execution_count": 404,
   "id": "eee29393",
   "metadata": {},
   "outputs": [
    {
     "name": "stdout",
     "output_type": "stream",
     "text": [
      "TRAIN\n",
      "\n",
      "              precision    recall  f1-score   support\n",
      "\n",
      "           0       0.83      0.88      0.85      3631\n",
      "           1       0.62      0.52      0.57      1394\n",
      "\n",
      "    accuracy                           0.78      5025\n",
      "   macro avg       0.73      0.70      0.71      5025\n",
      "weighted avg       0.77      0.78      0.77      5025\n",
      "\n",
      "VALID\n",
      "\n",
      "              precision    recall  f1-score   support\n",
      "\n",
      "           0       0.81      0.81      0.81      1756\n",
      "           1       0.53      0.53      0.53       719\n",
      "\n",
      "    accuracy                           0.73      2475\n",
      "   macro avg       0.67      0.67      0.67      2475\n",
      "weighted avg       0.73      0.73      0.73      2475\n",
      "\n",
      "CONFUSION MATRIX\n",
      "\n",
      "col_0              0    1\n",
      "Credit Default           \n",
      "0               1419  337\n",
      "1                339  380\n"
     ]
    }
   ],
   "source": [
    "y_valid_pred = np.array(y_valid_proba > 0.475, dtype=int)\n",
    "get_classification_report(y_train, y_train_pred, y_valid, y_valid_pred)"
   ]
  },
  {
   "cell_type": "markdown",
   "id": "41cd8d95",
   "metadata": {},
   "source": [
    "## Прогнозирование на тестовом датасете и сохранение финальной модели"
   ]
  },
  {
   "cell_type": "code",
   "execution_count": 405,
   "id": "a2a60412",
   "metadata": {},
   "outputs": [
    {
     "data": {
      "text/plain": [
       "(2500, 20)"
      ]
     },
     "execution_count": 405,
     "metadata": {},
     "output_type": "execute_result"
    }
   ],
   "source": [
    "test_df.shape"
   ]
  },
  {
   "cell_type": "code",
   "execution_count": 406,
   "id": "137e5f27",
   "metadata": {},
   "outputs": [
    {
     "data": {
      "text/plain": [
       "array([0.48163234, 0.31663287, 0.98582664, ..., 0.40885067, 0.3382235 ,\n",
       "       0.98905642])"
      ]
     },
     "execution_count": 406,
     "metadata": {},
     "output_type": "execute_result"
    }
   ],
   "source": [
    "predict_proba = final_model.predict_proba(test_df)[:, 1]\n",
    "predict_proba"
   ]
  },
  {
   "cell_type": "code",
   "execution_count": 411,
   "id": "69a2732b",
   "metadata": {},
   "outputs": [
    {
     "data": {
      "text/plain": [
       "2500"
      ]
     },
     "execution_count": 411,
     "metadata": {},
     "output_type": "execute_result"
    }
   ],
   "source": [
    "len(predict_proba)"
   ]
  },
  {
   "cell_type": "code",
   "execution_count": 412,
   "id": "4ebd6cac",
   "metadata": {},
   "outputs": [
    {
     "data": {
      "text/plain": [
       "array([1, 0, 1, ..., 0, 0, 1])"
      ]
     },
     "execution_count": 412,
     "metadata": {},
     "output_type": "execute_result"
    }
   ],
   "source": [
    "predictions = np.array(predict_proba > 0.47, dtype=int)\n",
    "predictions"
   ]
  },
  {
   "cell_type": "code",
   "execution_count": 413,
   "id": "17c05919",
   "metadata": {},
   "outputs": [],
   "source": [
    "pd.DataFrame(predictions).to_csv('NMakarevich_predictions2.csv', header=None, index=None)"
   ]
  }
 ],
 "metadata": {
  "kernelspec": {
   "display_name": "Python 3",
   "language": "python",
   "name": "python3"
  },
  "language_info": {
   "codemirror_mode": {
    "name": "ipython",
    "version": 3
   },
   "file_extension": ".py",
   "mimetype": "text/x-python",
   "name": "python",
   "nbconvert_exporter": "python",
   "pygments_lexer": "ipython3",
   "version": "3.8.8"
  }
 },
 "nbformat": 4,
 "nbformat_minor": 5
}
